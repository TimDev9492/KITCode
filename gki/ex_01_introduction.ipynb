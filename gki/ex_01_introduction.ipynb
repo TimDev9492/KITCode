{
  "cells": [
    {
      "cell_type": "markdown",
      "id": "0a97d66c",
      "metadata": {
        "cell_id": "6aa89259c39a436186eb4cb658643603",
        "deepnote_cell_type": "markdown",
        "deletable": false,
        "editable": false,
        "id": "0a97d66c",
        "nbgrader": {
          "cell_type": "markdown",
          "checksum": "f1ae9507ed8fbc70992828fe876cb325",
          "grade": false,
          "grade_id": "cell-b4a5fabbdbb97f8a",
          "locked": true,
          "schema_version": 3,
          "solution": false,
          "task": false
        }
      },
      "source": [
        "# Grundlagen der Künstlichen Intelligenz - Wintersemester 2025/26\n"
      ]
    },
    {
      "cell_type": "markdown",
      "id": "009f8e7d",
      "metadata": {
        "cell_id": "a3b8c9afea2c477b90e8c34058adef5d",
        "deepnote_cell_type": "markdown",
        "deletable": false,
        "editable": false,
        "id": "009f8e7d",
        "nbgrader": {
          "cell_type": "markdown",
          "checksum": "93c78f8a94ff33ea80f7a55033730008",
          "grade": false,
          "grade_id": "cell-557b63afe58adf20",
          "locked": true,
          "schema_version": 3,
          "solution": false,
          "task": false
        }
      },
      "source": [
        "# Übung 1: Einführung\n",
        "\n",
        "---\n",
        "\n",
        "> **Grundlagen der künstlichen Intelligenz** im Wintersemester 2025/2026\n",
        ">\n",
        "> - Prof. Pascal Friederich, pascal.friederich@kit.edu\n",
        "> - T.T.-Prof. Peer Nowack, peer.nowack@kit.edu\n",
        ">\n",
        "> Übungsleiter für die aktuelle Übung: Henrik Schopmans, henrik.schopmans@kit.edu\n",
        ">\n",
        "> ⚠️ Bei allgemeinen Fragen zu Aufgabenstellungen etc. bitte im Ilias Forum posten, sodass wir diese Fragen nur ein Mal für alle Studierenden beantworten können. E-Mail an den Übungsleiter bitte nur für individuelle Fragen, deren Beantwortung nicht für alle Studierenden relevant ist.\n",
        "\n",
        "---\n",
        "\n",
        "**Wichtig**: Dieses erste Übungsblatt wird nicht gewertet und soll euch helfen, euch mit Python, Jupyter, Pandas und Numpy vertraut zu machen. Außerdem bietet es euch\n",
        "die Möglichkeit, technische Probleme zu erkennen.\n",
        "\n",
        "- **Wir nutzen ein automatisiertes Grading System zur Bewertung der Jupyter Notebooks (siehe unten für Details)**\n",
        "- **Bitte ladet dieses Übungsblatt daher bei Ilias als Abgabe hoch, auch wenn ihr es nur teilweise (oder gar nicht!) bearbeitet habt.**\n",
        "- **Auf diese Weise könnt ihr technische Probleme beim Grading finden und wir können sie gemeinsam in der ersten Saalübung lösen.**\n",
        "- **Ab dem zweiten Übungsblatt erwarten wir, dass die technischen Probleme gelöst sind.**\n",
        "- **Nutzt daher bitte diese Möglichkeit!**\n",
        "\n",
        "### Übungsteam\n",
        "\n",
        "- Mozhgan Amiramjadi, mozhgan.amjadi@kit.edu\n",
        "- Lina Rennstich, lina.rennstich@kit.edu\n",
        "- Ulrich Oberhofer, ulrich.oberhofer@kit.edu\n",
        "- Laura Ruple, laura.ruple@kit.edu\n",
        "- Henrik Schopmans, henrik.schopmans@kit.edu\n",
        "- Jonas Teufel, jonas.teufel@kit.edu"
      ]
    },
    {
      "cell_type": "markdown",
      "id": "2e3c239b",
      "metadata": {
        "cell_id": "b0f43b908917478f8084470fd0648fa4",
        "deepnote_cell_type": "markdown",
        "deletable": false,
        "editable": false,
        "nbgrader": {
          "cell_type": "markdown",
          "checksum": "d693383b0925a212bbfefd23ce9cd7df",
          "grade": false,
          "grade_id": "cell-d23a820bd8cc9c29",
          "locked": true,
          "schema_version": 3,
          "solution": false,
          "task": false
        },
        "id": "2e3c239b"
      },
      "source": [
        "# Gruppenabgabe\n",
        "\n",
        "Die Übungsblätter können in Gruppen von bis zu **3 Studierenden** abgegeben werden. **Jede Person aus der Gruppe muss die finale Version der Abgabe über Ilias hochladen**, es genügt nicht, dass nur eine Person aus der Gruppe dies tut. Es ist prinzipiell möglich, im Laufe des Semesters sich einer neuen Gruppe anzuschließen, sollte sich die eigene Gruppe vorzeitig auflösen. Jede Gruppe muss ihre eigene Lösung hochladen, wir werden die Abgaben auf Duplikate überprüfen.\n",
        "\n",
        "Die Gruppen werden automatisch erfasst, **gebt deshalb die u-Kürzel eurer Gruppenmitglieder in die folgende Zelle ein.** Falls eure Gruppe nur aus 2 Studierenden besteht, oder ihr alleine abgebt, lasst die verbleibenden Felder frei. Hier ein **Beispiel** für eine Gruppe bestehend aus uabcd und uefgh:\n",
        "\n",
        "_U-Kürzel der Gruppenmitglieder:_\n",
        "\n",
        "_Mitglied 1: uabcd_\n",
        "\n",
        "_Mitglied 2: uefgh_\n",
        "\n",
        "_Mitglied 3:_\n"
      ]
    },
    {
      "cell_type": "markdown",
      "id": "638fc295",
      "metadata": {
        "cell_id": "c1518d7e12a144eaa103742f0ff3478a",
        "deepnote_cell_type": "markdown",
        "id": "638fc295"
      },
      "source": [
        "U-Kürzel der Gruppenmitglieder:\n",
        "\n",
        "Mitglied 1: ubrfu\n",
        "\n",
        "Mitglied 2: uysax\n",
        "\n",
        "Mitglied 3: udxde\n"
      ]
    },
    {
      "cell_type": "markdown",
      "id": "84aa07a1",
      "metadata": {
        "cell_id": "1bd42710e7b847b48d1e98956601c816",
        "deepnote_cell_type": "markdown",
        "deletable": false,
        "editable": false,
        "id": "84aa07a1",
        "nbgrader": {
          "cell_type": "markdown",
          "checksum": "cf02b79ccd99d68297504eaee39516de",
          "grade": false,
          "grade_id": "cell-f4cd01f4946bdbe8",
          "locked": true,
          "schema_version": 3,
          "solution": false,
          "task": false
        }
      },
      "source": [
        "# Auto-grading\n",
        "\n",
        "Wir nutzen ein auto-grading System, welches eure abgegebenen Jupyter Notebooks automatisch analysiert und über\n",
        "hidden tests auf Richtigkeit prüft. Über diese Tests werden die Punkte bestimmt, die ihr für das Übungsblatt erhaltet.\n",
        "\n",
        "Damit das auto-grading reibungslos funktioniert bitte folgende Dinge beachten:\n",
        "\n",
        "- Notebook muss den Dateinamen \"ex_01_introduction.ipynb\" haben\n",
        "- PDF und Jupyter Notebook einzeln im Ilias hochladen (nicht als Zip!)\n",
        "    - Achtung: Für Übung 1 existiert kein handschriftlicher Teil.\n",
        "- Vor dem Abgeben eines Notebooks bitte testen, dass alles von vorne bis hinten ohne Fehler durchläuft.\n",
        "- Zellen, welche mit \"##### DO NOT CHANGE #####\" markiert sind dürfen nicht bearbeitet oder gelöscht werden\n",
        "- Eure Lösung muss in die richtige Zelle (markiert mit \"# YOUR CODE HERE\") eingetragen werden.\n",
        "  - Dabei natürlich den NotImplementedError löschen!\n",
        "- Generell bitte **keine Zellen löschen** und auch **keine Zellen hinzufügen**. Die Zellen, in die eure Lösung eingetragen werden soll, sind bereits vorhanden (markiert mit \"# YOUR CODE HERE\").\n",
        "- Es gibt potentiell scheinbar leere Zellen, die auch mit \"\" markiert sind. Auch diese dürfen nicht bearbeitet oder gelöscht werden.\n",
        "  - Falls dies doch gemacht wird, dann wird das automatische Grading nicht funktionieren und ihr erhaltet keine Punkte.\n",
        "  - Wir werden hier strikt handeln und keine Ausnahmen machen, falls jemand doch Zellen verändert, die eindeutig als readonly markiert sind!\n",
        "- Die Jupyter Notebooks haben inline Tests (für euch sichtbar), welche euer Ergebnis auf grobe Richtigkeit überprüfen.\n",
        "  - Diese sind primär für euch, um Fehler zu erkennen und zu korrigieren.\n",
        "  - Die inline Tests, die ihr im Notebook sehen könnt, sind allerdings nicht die Tests welche für das Grading verwendet werden!\n",
        "  - Die inline Tests sind eine notwendige aber keine hinreichende Bedingung, um beim Grading der Aufgabe Punkte zu erhalten!\n"
      ]
    },
    {
      "cell_type": "markdown",
      "id": "485f1147",
      "metadata": {
        "deletable": false,
        "editable": false,
        "nbgrader": {
          "cell_type": "markdown",
          "checksum": "65b5b4d9500efda8256b14e230fd5bb4",
          "grade": false,
          "grade_id": "cell-1713fa78a1e0be9c",
          "locked": true,
          "schema_version": 3,
          "solution": false,
          "task": false
        },
        "id": "485f1147"
      },
      "source": [
        "## Einleitung\n",
        "Wenn du mit Python nicht vertraut bist, empfehlen wir eines der folgenden Online-Tutorials:\n",
        "\n",
        "* https://learnxinyminutes.com/docs/python/\n",
        "* http://www.datacamp.com/community/tutorials/tutorial-jupyter-notebook\n",
        "* https://www.learnpython.org/\n",
        "* https://www.w3schools.com/python/\n",
        "* https://automatetheboringstuff.com/"
      ]
    },
    {
      "cell_type": "markdown",
      "id": "e99f514f",
      "metadata": {
        "deletable": false,
        "editable": false,
        "nbgrader": {
          "cell_type": "markdown",
          "checksum": "8fc5e799b8176fe10453b7bad553e8ec",
          "grade": false,
          "grade_id": "cell-b79faaceef7a610f",
          "locked": true,
          "schema_version": 3,
          "solution": false,
          "task": false
        },
        "id": "e99f514f"
      },
      "source": [
        "## Coronapandemie (nicht bewertet)\n",
        "\n",
        "Um typische Datascience-Workflows in Python kennenzulernen analysieren wir hier kurz Falldaten zur Corona-Pandemie. Dazu laden wir zunächst einen historischen Datensatz über die Corona\n",
        "Infektionen weltweit vom Europäischen Zentrum für die Prävention und\n",
        "Kontrolle ([link](https://www.ecdc.europa.eu/sites/default/files/documents/COVID-19-geographic-disbtribution-worldwide.xlsx)) herunter.\n",
        "Das können wir mit dem Python Package ``requests`` machen:"
      ]
    },
    {
      "cell_type": "code",
      "execution_count": 1,
      "id": "46d9a051",
      "metadata": {
        "deletable": false,
        "editable": false,
        "nbgrader": {
          "cell_type": "code",
          "checksum": "1d5f3e03a7af90afb063a539088b53e8",
          "grade": false,
          "grade_id": "cell-a4319554f0d337de",
          "locked": true,
          "schema_version": 3,
          "solution": false,
          "task": false
        },
        "id": "46d9a051"
      },
      "outputs": [],
      "source": [
        "##### DO NOT CHANGE #####\n",
        "import os\n",
        "from datetime import datetime\n",
        "import matplotlib.dates as mdates\n",
        "import matplotlib.pyplot as plt\n",
        "import numpy as np\n",
        "import pandas as pd\n",
        "import requests\n",
        "import scipy.optimize\n",
        "\n",
        "##### DO NOT CHANGE #####"
      ]
    },
    {
      "cell_type": "code",
      "execution_count": 2,
      "id": "92c4724a",
      "metadata": {
        "deletable": false,
        "editable": false,
        "nbgrader": {
          "cell_type": "code",
          "checksum": "6cc5b2c3634ea31544590f6e63a73d79",
          "grade": false,
          "grade_id": "cell-a5446cfab0d6b2ab",
          "locked": true,
          "schema_version": 3,
          "solution": false,
          "task": false
        },
        "colab": {
          "base_uri": "https://localhost:8080/"
        },
        "id": "92c4724a",
        "outputId": "be3cbcca-286c-4a74-b2d4-d33ef897d041"
      },
      "outputs": [
        {
          "output_type": "stream",
          "name": "stdout",
          "text": [
            "Downloading dataset ...\n",
            "Downloading dataset done.\n"
          ]
        }
      ],
      "source": [
        "##### DO NOT CHANGE #####\n",
        "data_url = \"https://www.ecdc.europa.eu/sites/default/files/documents/COVID-19-geographic-disbtribution-worldwide.xlsx\"\n",
        "data_file = \"COVID-19-geographic-disbtribution-worldwide.xlsx\"\n",
        "if not os.path.exists(data_file):\n",
        "    print(\"Downloading dataset ...\")\n",
        "    with open(data_file, \"wb\") as f:\n",
        "        f.write(requests.get(data_url).content)\n",
        "    print(\"Downloading dataset done.\")\n",
        "\n",
        "##### DO NOT CHANGE #####"
      ]
    },
    {
      "cell_type": "markdown",
      "id": "a759eb9c",
      "metadata": {
        "deletable": false,
        "editable": false,
        "nbgrader": {
          "cell_type": "markdown",
          "checksum": "021c6eb2dcb48a2d58235f6bbb4e284d",
          "grade": false,
          "grade_id": "cell-f1c9d13b36b95c85",
          "locked": true,
          "schema_version": 3,
          "solution": false,
          "task": false
        },
        "id": "a759eb9c"
      },
      "source": [
        "Nun laden wir den Datensatz mit ``pandas``, welches ein ``DataFrame`` Objekt erstellt. Wir schauen uns die ersten 5 Zeilen an:"
      ]
    },
    {
      "cell_type": "code",
      "execution_count": 3,
      "id": "ed31a7a1",
      "metadata": {
        "deletable": false,
        "editable": false,
        "nbgrader": {
          "cell_type": "code",
          "checksum": "6f3c448811b565a567d4ceab76b2d18e",
          "grade": false,
          "grade_id": "cell-868b2450ef5b16bd",
          "locked": true,
          "schema_version": 3,
          "solution": false,
          "task": false
        },
        "id": "ed31a7a1"
      },
      "outputs": [],
      "source": [
        "##### DO NOT CHANGE #####\n",
        "corona_world = pd.read_excel(data_file)\n",
        "\n",
        "##### DO NOT CHANGE #####"
      ]
    },
    {
      "cell_type": "code",
      "execution_count": 4,
      "id": "cc4553cb",
      "metadata": {
        "colab": {
          "base_uri": "https://localhost:8080/",
          "height": 206
        },
        "id": "cc4553cb",
        "outputId": "2be9fda6-3f2c-4c45-cddf-36955949538b"
      },
      "outputs": [
        {
          "output_type": "execute_result",
          "data": {
            "text/plain": [
              "     dateRep  day  month  year  cases  deaths countriesAndTerritories geoId  \\\n",
              "0 2020-12-14   14     12  2020    746       6             Afghanistan    AF   \n",
              "1 2020-12-13   13     12  2020    298       9             Afghanistan    AF   \n",
              "2 2020-12-12   12     12  2020    113      11             Afghanistan    AF   \n",
              "3 2020-12-11   11     12  2020     63      10             Afghanistan    AF   \n",
              "4 2020-12-10   10     12  2020    202      16             Afghanistan    AF   \n",
              "\n",
              "  countryterritoryCode  popData2019 continentExp  \\\n",
              "0                  AFG   38041757.0         Asia   \n",
              "1                  AFG   38041757.0         Asia   \n",
              "2                  AFG   38041757.0         Asia   \n",
              "3                  AFG   38041757.0         Asia   \n",
              "4                  AFG   38041757.0         Asia   \n",
              "\n",
              "   Cumulative_number_for_14_days_of_COVID-19_cases_per_100000  \n",
              "0                                           9.013779           \n",
              "1                                           7.052776           \n",
              "2                                           6.868768           \n",
              "3                                           7.134266           \n",
              "4                                           6.968658           "
            ],
            "text/html": [
              "\n",
              "  <div id=\"df-93495a78-3f6e-45fa-a3ee-b332b148758e\" class=\"colab-df-container\">\n",
              "    <div>\n",
              "<style scoped>\n",
              "    .dataframe tbody tr th:only-of-type {\n",
              "        vertical-align: middle;\n",
              "    }\n",
              "\n",
              "    .dataframe tbody tr th {\n",
              "        vertical-align: top;\n",
              "    }\n",
              "\n",
              "    .dataframe thead th {\n",
              "        text-align: right;\n",
              "    }\n",
              "</style>\n",
              "<table border=\"1\" class=\"dataframe\">\n",
              "  <thead>\n",
              "    <tr style=\"text-align: right;\">\n",
              "      <th></th>\n",
              "      <th>dateRep</th>\n",
              "      <th>day</th>\n",
              "      <th>month</th>\n",
              "      <th>year</th>\n",
              "      <th>cases</th>\n",
              "      <th>deaths</th>\n",
              "      <th>countriesAndTerritories</th>\n",
              "      <th>geoId</th>\n",
              "      <th>countryterritoryCode</th>\n",
              "      <th>popData2019</th>\n",
              "      <th>continentExp</th>\n",
              "      <th>Cumulative_number_for_14_days_of_COVID-19_cases_per_100000</th>\n",
              "    </tr>\n",
              "  </thead>\n",
              "  <tbody>\n",
              "    <tr>\n",
              "      <th>0</th>\n",
              "      <td>2020-12-14</td>\n",
              "      <td>14</td>\n",
              "      <td>12</td>\n",
              "      <td>2020</td>\n",
              "      <td>746</td>\n",
              "      <td>6</td>\n",
              "      <td>Afghanistan</td>\n",
              "      <td>AF</td>\n",
              "      <td>AFG</td>\n",
              "      <td>38041757.0</td>\n",
              "      <td>Asia</td>\n",
              "      <td>9.013779</td>\n",
              "    </tr>\n",
              "    <tr>\n",
              "      <th>1</th>\n",
              "      <td>2020-12-13</td>\n",
              "      <td>13</td>\n",
              "      <td>12</td>\n",
              "      <td>2020</td>\n",
              "      <td>298</td>\n",
              "      <td>9</td>\n",
              "      <td>Afghanistan</td>\n",
              "      <td>AF</td>\n",
              "      <td>AFG</td>\n",
              "      <td>38041757.0</td>\n",
              "      <td>Asia</td>\n",
              "      <td>7.052776</td>\n",
              "    </tr>\n",
              "    <tr>\n",
              "      <th>2</th>\n",
              "      <td>2020-12-12</td>\n",
              "      <td>12</td>\n",
              "      <td>12</td>\n",
              "      <td>2020</td>\n",
              "      <td>113</td>\n",
              "      <td>11</td>\n",
              "      <td>Afghanistan</td>\n",
              "      <td>AF</td>\n",
              "      <td>AFG</td>\n",
              "      <td>38041757.0</td>\n",
              "      <td>Asia</td>\n",
              "      <td>6.868768</td>\n",
              "    </tr>\n",
              "    <tr>\n",
              "      <th>3</th>\n",
              "      <td>2020-12-11</td>\n",
              "      <td>11</td>\n",
              "      <td>12</td>\n",
              "      <td>2020</td>\n",
              "      <td>63</td>\n",
              "      <td>10</td>\n",
              "      <td>Afghanistan</td>\n",
              "      <td>AF</td>\n",
              "      <td>AFG</td>\n",
              "      <td>38041757.0</td>\n",
              "      <td>Asia</td>\n",
              "      <td>7.134266</td>\n",
              "    </tr>\n",
              "    <tr>\n",
              "      <th>4</th>\n",
              "      <td>2020-12-10</td>\n",
              "      <td>10</td>\n",
              "      <td>12</td>\n",
              "      <td>2020</td>\n",
              "      <td>202</td>\n",
              "      <td>16</td>\n",
              "      <td>Afghanistan</td>\n",
              "      <td>AF</td>\n",
              "      <td>AFG</td>\n",
              "      <td>38041757.0</td>\n",
              "      <td>Asia</td>\n",
              "      <td>6.968658</td>\n",
              "    </tr>\n",
              "  </tbody>\n",
              "</table>\n",
              "</div>\n",
              "    <div class=\"colab-df-buttons\">\n",
              "\n",
              "  <div class=\"colab-df-container\">\n",
              "    <button class=\"colab-df-convert\" onclick=\"convertToInteractive('df-93495a78-3f6e-45fa-a3ee-b332b148758e')\"\n",
              "            title=\"Convert this dataframe to an interactive table.\"\n",
              "            style=\"display:none;\">\n",
              "\n",
              "  <svg xmlns=\"http://www.w3.org/2000/svg\" height=\"24px\" viewBox=\"0 -960 960 960\">\n",
              "    <path d=\"M120-120v-720h720v720H120Zm60-500h600v-160H180v160Zm220 220h160v-160H400v160Zm0 220h160v-160H400v160ZM180-400h160v-160H180v160Zm440 0h160v-160H620v160ZM180-180h160v-160H180v160Zm440 0h160v-160H620v160Z\"/>\n",
              "  </svg>\n",
              "    </button>\n",
              "\n",
              "  <style>\n",
              "    .colab-df-container {\n",
              "      display:flex;\n",
              "      gap: 12px;\n",
              "    }\n",
              "\n",
              "    .colab-df-convert {\n",
              "      background-color: #E8F0FE;\n",
              "      border: none;\n",
              "      border-radius: 50%;\n",
              "      cursor: pointer;\n",
              "      display: none;\n",
              "      fill: #1967D2;\n",
              "      height: 32px;\n",
              "      padding: 0 0 0 0;\n",
              "      width: 32px;\n",
              "    }\n",
              "\n",
              "    .colab-df-convert:hover {\n",
              "      background-color: #E2EBFA;\n",
              "      box-shadow: 0px 1px 2px rgba(60, 64, 67, 0.3), 0px 1px 3px 1px rgba(60, 64, 67, 0.15);\n",
              "      fill: #174EA6;\n",
              "    }\n",
              "\n",
              "    .colab-df-buttons div {\n",
              "      margin-bottom: 4px;\n",
              "    }\n",
              "\n",
              "    [theme=dark] .colab-df-convert {\n",
              "      background-color: #3B4455;\n",
              "      fill: #D2E3FC;\n",
              "    }\n",
              "\n",
              "    [theme=dark] .colab-df-convert:hover {\n",
              "      background-color: #434B5C;\n",
              "      box-shadow: 0px 1px 3px 1px rgba(0, 0, 0, 0.15);\n",
              "      filter: drop-shadow(0px 1px 2px rgba(0, 0, 0, 0.3));\n",
              "      fill: #FFFFFF;\n",
              "    }\n",
              "  </style>\n",
              "\n",
              "    <script>\n",
              "      const buttonEl =\n",
              "        document.querySelector('#df-93495a78-3f6e-45fa-a3ee-b332b148758e button.colab-df-convert');\n",
              "      buttonEl.style.display =\n",
              "        google.colab.kernel.accessAllowed ? 'block' : 'none';\n",
              "\n",
              "      async function convertToInteractive(key) {\n",
              "        const element = document.querySelector('#df-93495a78-3f6e-45fa-a3ee-b332b148758e');\n",
              "        const dataTable =\n",
              "          await google.colab.kernel.invokeFunction('convertToInteractive',\n",
              "                                                    [key], {});\n",
              "        if (!dataTable) return;\n",
              "\n",
              "        const docLinkHtml = 'Like what you see? Visit the ' +\n",
              "          '<a target=\"_blank\" href=https://colab.research.google.com/notebooks/data_table.ipynb>data table notebook</a>'\n",
              "          + ' to learn more about interactive tables.';\n",
              "        element.innerHTML = '';\n",
              "        dataTable['output_type'] = 'display_data';\n",
              "        await google.colab.output.renderOutput(dataTable, element);\n",
              "        const docLink = document.createElement('div');\n",
              "        docLink.innerHTML = docLinkHtml;\n",
              "        element.appendChild(docLink);\n",
              "      }\n",
              "    </script>\n",
              "  </div>\n",
              "\n",
              "\n",
              "    <div id=\"df-78b41aca-59fd-4a94-8475-43e9e78048b5\">\n",
              "      <button class=\"colab-df-quickchart\" onclick=\"quickchart('df-78b41aca-59fd-4a94-8475-43e9e78048b5')\"\n",
              "                title=\"Suggest charts\"\n",
              "                style=\"display:none;\">\n",
              "\n",
              "<svg xmlns=\"http://www.w3.org/2000/svg\" height=\"24px\"viewBox=\"0 0 24 24\"\n",
              "     width=\"24px\">\n",
              "    <g>\n",
              "        <path d=\"M19 3H5c-1.1 0-2 .9-2 2v14c0 1.1.9 2 2 2h14c1.1 0 2-.9 2-2V5c0-1.1-.9-2-2-2zM9 17H7v-7h2v7zm4 0h-2V7h2v10zm4 0h-2v-4h2v4z\"/>\n",
              "    </g>\n",
              "</svg>\n",
              "      </button>\n",
              "\n",
              "<style>\n",
              "  .colab-df-quickchart {\n",
              "      --bg-color: #E8F0FE;\n",
              "      --fill-color: #1967D2;\n",
              "      --hover-bg-color: #E2EBFA;\n",
              "      --hover-fill-color: #174EA6;\n",
              "      --disabled-fill-color: #AAA;\n",
              "      --disabled-bg-color: #DDD;\n",
              "  }\n",
              "\n",
              "  [theme=dark] .colab-df-quickchart {\n",
              "      --bg-color: #3B4455;\n",
              "      --fill-color: #D2E3FC;\n",
              "      --hover-bg-color: #434B5C;\n",
              "      --hover-fill-color: #FFFFFF;\n",
              "      --disabled-bg-color: #3B4455;\n",
              "      --disabled-fill-color: #666;\n",
              "  }\n",
              "\n",
              "  .colab-df-quickchart {\n",
              "    background-color: var(--bg-color);\n",
              "    border: none;\n",
              "    border-radius: 50%;\n",
              "    cursor: pointer;\n",
              "    display: none;\n",
              "    fill: var(--fill-color);\n",
              "    height: 32px;\n",
              "    padding: 0;\n",
              "    width: 32px;\n",
              "  }\n",
              "\n",
              "  .colab-df-quickchart:hover {\n",
              "    background-color: var(--hover-bg-color);\n",
              "    box-shadow: 0 1px 2px rgba(60, 64, 67, 0.3), 0 1px 3px 1px rgba(60, 64, 67, 0.15);\n",
              "    fill: var(--button-hover-fill-color);\n",
              "  }\n",
              "\n",
              "  .colab-df-quickchart-complete:disabled,\n",
              "  .colab-df-quickchart-complete:disabled:hover {\n",
              "    background-color: var(--disabled-bg-color);\n",
              "    fill: var(--disabled-fill-color);\n",
              "    box-shadow: none;\n",
              "  }\n",
              "\n",
              "  .colab-df-spinner {\n",
              "    border: 2px solid var(--fill-color);\n",
              "    border-color: transparent;\n",
              "    border-bottom-color: var(--fill-color);\n",
              "    animation:\n",
              "      spin 1s steps(1) infinite;\n",
              "  }\n",
              "\n",
              "  @keyframes spin {\n",
              "    0% {\n",
              "      border-color: transparent;\n",
              "      border-bottom-color: var(--fill-color);\n",
              "      border-left-color: var(--fill-color);\n",
              "    }\n",
              "    20% {\n",
              "      border-color: transparent;\n",
              "      border-left-color: var(--fill-color);\n",
              "      border-top-color: var(--fill-color);\n",
              "    }\n",
              "    30% {\n",
              "      border-color: transparent;\n",
              "      border-left-color: var(--fill-color);\n",
              "      border-top-color: var(--fill-color);\n",
              "      border-right-color: var(--fill-color);\n",
              "    }\n",
              "    40% {\n",
              "      border-color: transparent;\n",
              "      border-right-color: var(--fill-color);\n",
              "      border-top-color: var(--fill-color);\n",
              "    }\n",
              "    60% {\n",
              "      border-color: transparent;\n",
              "      border-right-color: var(--fill-color);\n",
              "    }\n",
              "    80% {\n",
              "      border-color: transparent;\n",
              "      border-right-color: var(--fill-color);\n",
              "      border-bottom-color: var(--fill-color);\n",
              "    }\n",
              "    90% {\n",
              "      border-color: transparent;\n",
              "      border-bottom-color: var(--fill-color);\n",
              "    }\n",
              "  }\n",
              "</style>\n",
              "\n",
              "      <script>\n",
              "        async function quickchart(key) {\n",
              "          const quickchartButtonEl =\n",
              "            document.querySelector('#' + key + ' button');\n",
              "          quickchartButtonEl.disabled = true;  // To prevent multiple clicks.\n",
              "          quickchartButtonEl.classList.add('colab-df-spinner');\n",
              "          try {\n",
              "            const charts = await google.colab.kernel.invokeFunction(\n",
              "                'suggestCharts', [key], {});\n",
              "          } catch (error) {\n",
              "            console.error('Error during call to suggestCharts:', error);\n",
              "          }\n",
              "          quickchartButtonEl.classList.remove('colab-df-spinner');\n",
              "          quickchartButtonEl.classList.add('colab-df-quickchart-complete');\n",
              "        }\n",
              "        (() => {\n",
              "          let quickchartButtonEl =\n",
              "            document.querySelector('#df-78b41aca-59fd-4a94-8475-43e9e78048b5 button');\n",
              "          quickchartButtonEl.style.display =\n",
              "            google.colab.kernel.accessAllowed ? 'block' : 'none';\n",
              "        })();\n",
              "      </script>\n",
              "    </div>\n",
              "\n",
              "    </div>\n",
              "  </div>\n"
            ],
            "application/vnd.google.colaboratory.intrinsic+json": {
              "type": "dataframe",
              "variable_name": "corona_world",
              "summary": "{\n  \"name\": \"corona_world\",\n  \"rows\": 61900,\n  \"fields\": [\n    {\n      \"column\": \"dateRep\",\n      \"properties\": {\n        \"dtype\": \"date\",\n        \"min\": \"2019-12-31 00:00:00\",\n        \"max\": \"2020-12-14 00:00:00\",\n        \"num_unique_values\": 350,\n        \"samples\": [\n          \"2020-07-10 00:00:00\",\n          \"2020-03-13 00:00:00\",\n          \"2020-01-24 00:00:00\"\n        ],\n        \"semantic_type\": \"\",\n        \"description\": \"\"\n      }\n    },\n    {\n      \"column\": \"day\",\n      \"properties\": {\n        \"dtype\": \"number\",\n        \"std\": 8,\n        \"min\": 1,\n        \"max\": 31,\n        \"num_unique_values\": 31,\n        \"samples\": [\n          17,\n          29,\n          21\n        ],\n        \"semantic_type\": \"\",\n        \"description\": \"\"\n      }\n    },\n    {\n      \"column\": \"month\",\n      \"properties\": {\n        \"dtype\": \"number\",\n        \"std\": 2,\n        \"min\": 1,\n        \"max\": 12,\n        \"num_unique_values\": 12,\n        \"samples\": [\n          2,\n          3,\n          12\n        ],\n        \"semantic_type\": \"\",\n        \"description\": \"\"\n      }\n    },\n    {\n      \"column\": \"year\",\n      \"properties\": {\n        \"dtype\": \"number\",\n        \"std\": 0,\n        \"min\": 2019,\n        \"max\": 2020,\n        \"num_unique_values\": 2,\n        \"samples\": [\n          2019,\n          2020\n        ],\n        \"semantic_type\": \"\",\n        \"description\": \"\"\n      }\n    },\n    {\n      \"column\": \"cases\",\n      \"properties\": {\n        \"dtype\": \"number\",\n        \"std\": 6779,\n        \"min\": -8261,\n        \"max\": 234633,\n        \"num_unique_values\": 5966,\n        \"samples\": [\n          154893,\n          7192\n        ],\n        \"semantic_type\": \"\",\n        \"description\": \"\"\n      }\n    },\n    {\n      \"column\": \"deaths\",\n      \"properties\": {\n        \"dtype\": \"number\",\n        \"std\": 131,\n        \"min\": -1918,\n        \"max\": 4928,\n        \"num_unique_values\": 1049,\n        \"samples\": [\n          684,\n          806\n        ],\n        \"semantic_type\": \"\",\n        \"description\": \"\"\n      }\n    },\n    {\n      \"column\": \"countriesAndTerritories\",\n      \"properties\": {\n        \"dtype\": \"category\",\n        \"num_unique_values\": 214,\n        \"samples\": [\n          \"Aruba\",\n          \"Uganda\"\n        ],\n        \"semantic_type\": \"\",\n        \"description\": \"\"\n      }\n    },\n    {\n      \"column\": \"geoId\",\n      \"properties\": {\n        \"dtype\": \"category\",\n        \"num_unique_values\": 213,\n        \"samples\": [\n          \"AW\",\n          \"UA\"\n        ],\n        \"semantic_type\": \"\",\n        \"description\": \"\"\n      }\n    },\n    {\n      \"column\": \"countryterritoryCode\",\n      \"properties\": {\n        \"dtype\": \"category\",\n        \"num_unique_values\": 212,\n        \"samples\": [\n          \"BGR\",\n          \"SVK\"\n        ],\n        \"semantic_type\": \"\",\n        \"description\": \"\"\n      }\n    },\n    {\n      \"column\": \"popData2019\",\n      \"properties\": {\n        \"dtype\": \"number\",\n        \"std\": 153129379.3449986,\n        \"min\": 815.0,\n        \"max\": 1433783692.0,\n        \"num_unique_values\": 212,\n        \"samples\": [\n          7000039.0,\n          5450421.0\n        ],\n        \"semantic_type\": \"\",\n        \"description\": \"\"\n      }\n    },\n    {\n      \"column\": \"continentExp\",\n      \"properties\": {\n        \"dtype\": \"category\",\n        \"num_unique_values\": 6,\n        \"samples\": [\n          \"Asia\",\n          \"Europe\"\n        ],\n        \"semantic_type\": \"\",\n        \"description\": \"\"\n      }\n    },\n    {\n      \"column\": \"Cumulative_number_for_14_days_of_COVID-19_cases_per_100000\",\n      \"properties\": {\n        \"dtype\": \"number\",\n        \"std\": 162.3292398242697,\n        \"min\": -147.41958709,\n        \"max\": 1900.8362104,\n        \"num_unique_values\": 39047,\n        \"samples\": [\n          1.8808721,\n          0.90817816\n        ],\n        \"semantic_type\": \"\",\n        \"description\": \"\"\n      }\n    }\n  ]\n}"
            }
          },
          "metadata": {},
          "execution_count": 4
        }
      ],
      "source": [
        "corona_world.head()"
      ]
    },
    {
      "cell_type": "markdown",
      "id": "2a20b5b3",
      "metadata": {
        "deletable": false,
        "editable": false,
        "nbgrader": {
          "cell_type": "markdown",
          "checksum": "123d620469649f5870573a37bddc0372",
          "grade": false,
          "grade_id": "cell-bc9a55059284688d",
          "locked": true,
          "schema_version": 3,
          "solution": false,
          "task": false
        },
        "id": "2a20b5b3"
      },
      "source": [
        "Das ``DataFrame`` Objekt erlaubt Zugriff auf die enthaltenen Daten über die Methoden .iloc (index-basierte Selektion) und .loc (name-basierte Selektion):"
      ]
    },
    {
      "cell_type": "code",
      "execution_count": 5,
      "id": "ed04f336",
      "metadata": {
        "colab": {
          "base_uri": "https://localhost:8080/"
        },
        "id": "ed04f336",
        "outputId": "e8bb8293-2f9a-43a8-998b-98a1978e0c5a"
      },
      "outputs": [
        {
          "output_type": "stream",
          "name": "stdout",
          "text": [
            "RangeIndex(start=0, stop=61900, step=1)\n",
            "Index(['dateRep', 'day', 'month', 'year', 'cases', 'deaths',\n",
            "       'countriesAndTerritories', 'geoId', 'countryterritoryCode',\n",
            "       'popData2019', 'continentExp',\n",
            "       'Cumulative_number_for_14_days_of_COVID-19_cases_per_100000'],\n",
            "      dtype='object')\n",
            "     dateRep  deaths\n",
            "0 2020-12-14       6\n",
            "1 2020-12-13       9\n",
            "2 2020-12-12      11\n",
            "3 2020-12-11      10\n",
            "4 2020-12-10      16\n",
            "   month\n",
            "0     12\n",
            "1     12\n",
            "2     12\n",
            "3     12\n",
            "4     12\n",
            "5     12\n"
          ]
        }
      ],
      "source": [
        "print(corona_world.index)\n",
        "print(corona_world.columns)\n",
        "\n",
        "print(corona_world.iloc[0:5,[0,5]])\n",
        "print(corona_world.loc[0:5,[\"month\"]])"
      ]
    },
    {
      "cell_type": "markdown",
      "id": "9b3d14f8",
      "metadata": {
        "deletable": false,
        "editable": false,
        "nbgrader": {
          "cell_type": "markdown",
          "checksum": "9fffd95dda657b5ce3271a148d7da4b5",
          "grade": false,
          "grade_id": "cell-acda034da3f0f8b7",
          "locked": true,
          "schema_version": 3,
          "solution": false,
          "task": false
        },
        "id": "9b3d14f8"
      },
      "source": [
        "Nun selektieren wir nur die Einträge welche zu Deutschland gehören. Mit ``corona_countries==\"Germany\"`` erhalten wir eine boolean Mask, welche wir auf `corona_world` anwenden können. Weiterhin selektieren wir nur columns, welche für uns relevant sind. Außerdem flippen wir die finalen numpy arrays, sodass diese von der Vergangenheit forwärts laufen."
      ]
    },
    {
      "cell_type": "code",
      "execution_count": 6,
      "id": "9051f284",
      "metadata": {
        "deletable": false,
        "editable": false,
        "nbgrader": {
          "cell_type": "code",
          "checksum": "32b651ba8d567c1f9c5630d1dffb27bc",
          "grade": false,
          "grade_id": "cell-1ca46cccd2fc41bf",
          "locked": true,
          "schema_version": 3,
          "solution": false,
          "task": false
        },
        "colab": {
          "base_uri": "https://localhost:8080/"
        },
        "id": "9051f284",
        "outputId": "9dfb3bdf-63ba-4c08-fcf7-96ab7bd90f44"
      },
      "outputs": [
        {
          "output_type": "stream",
          "name": "stdout",
          "text": [
            "0        False\n",
            "1        False\n",
            "2        False\n",
            "3        False\n",
            "4        False\n",
            "         ...  \n",
            "61895    False\n",
            "61896    False\n",
            "61897    False\n",
            "61898    False\n",
            "61899    False\n",
            "Name: countriesAndTerritories, Length: 61900, dtype: bool\n"
          ]
        }
      ],
      "source": [
        "##### DO NOT CHANGE #####\n",
        "# Select data\n",
        "corona_countries = corona_world[\"countriesAndTerritories\"]\n",
        "print(corona_countries == \"Germany\")\n",
        "corona_germany = corona_world[corona_countries == \"Germany\"]\n",
        "corona_germany = corona_germany[[\n",
        "    \"dateRep\", \"cases\", \"deaths\",\n",
        "    \"Cumulative_number_for_14_days_of_COVID-19_cases_per_100000\"\n",
        "]]\n",
        "time_germany = corona_germany[\"dateRep\"].values\n",
        "cc_germany = corona_germany[\n",
        "    \"Cumulative_number_for_14_days_of_COVID-19_cases_per_100000\"\n",
        "].to_numpy()\n",
        "time_germany = np.flip(time_germany)\n",
        "cc_germany = np.flip(cc_germany)\n",
        "\n",
        "##### DO NOT CHANGE #####"
      ]
    },
    {
      "cell_type": "markdown",
      "id": "e3798568",
      "metadata": {
        "deletable": false,
        "editable": false,
        "nbgrader": {
          "cell_type": "markdown",
          "checksum": "425e67425f7561c64a0acc859b4ad9c2",
          "grade": false,
          "grade_id": "cell-6c8265d0e69eb0d6",
          "locked": true,
          "schema_version": 3,
          "solution": false,
          "task": false
        },
        "id": "e3798568"
      },
      "source": [
        "Wir visualisieren nun die 14-Tage-Inzidenz für Deutschland (`Cumulative_number_for_14_days_of_COVID-19_cases_per_100000`). Hierfür nutzen wir das Package ``matplotlib.pyplot``, welches wir in zukünftigen Aufgabenblättern noch oft nutzen werden. [Hier](https://matplotlib.org/stable/tutorials/introductory/usage.html#sphx-glr-tutorials-introductory-usage-py) findet sich ein guter Guide zu diesem Package."
      ]
    },
    {
      "cell_type": "code",
      "execution_count": 7,
      "id": "f39cc87f",
      "metadata": {
        "deletable": false,
        "editable": false,
        "nbgrader": {
          "cell_type": "code",
          "checksum": "92260114dbbae6abd204967ad3470131",
          "grade": false,
          "grade_id": "cell-f25dfa94f373d747",
          "locked": true,
          "schema_version": 3,
          "solution": false,
          "task": false
        },
        "id": "f39cc87f"
      },
      "outputs": [],
      "source": [
        "##### DO NOT CHANGE #####\n",
        "# Date functionality\n",
        "months = mdates.MonthLocator()  # every month\n",
        "\n",
        "##### DO NOT CHANGE #####"
      ]
    },
    {
      "cell_type": "code",
      "execution_count": 8,
      "id": "6f9fd741",
      "metadata": {
        "colab": {
          "base_uri": "https://localhost:8080/",
          "height": 455
        },
        "id": "6f9fd741",
        "outputId": "fdd054a5-7120-4af2-924a-697490ff797c"
      },
      "outputs": [
        {
          "output_type": "display_data",
          "data": {
            "text/plain": [
              "<Figure size 640x480 with 1 Axes>"
            ],
            "image/png": "[encoded data removed]"
          },
          "metadata": {}
        }
      ],
      "source": [
        "fig, ax = plt.subplots()  # generate a new plot\n",
        "ax.plot(time_germany, cc_germany)  # plot data\n",
        "ax.xaxis.set_major_locator(months)  # modify axis\n",
        "fig.autofmt_xdate()\n",
        "plt.grid(True, \"both\")\n",
        "plt.title(\"Germany\")\n",
        "plt.ylabel(\"14 days cases per 100k\")\n",
        "plt.xlabel(\"Time [year-month]\")\n",
        "plt.show()"
      ]
    },
    {
      "cell_type": "markdown",
      "id": "e689f476",
      "metadata": {
        "deletable": false,
        "editable": false,
        "nbgrader": {
          "cell_type": "markdown",
          "checksum": "cf4a226ede71a4b12aa4dfba081a8dd7",
          "grade": false,
          "grade_id": "cell-c96af88bd5d2524a",
          "locked": true,
          "schema_version": 3,
          "solution": false,
          "task": false
        },
        "id": "e689f476"
      },
      "source": [
        "Nun folgen ein paar Aufgaben, die du selbst beantworten sollst.\n",
        "Hierfür kannst du entweder das pandas dataframe und seine Operationen direkt verwenden,\n",
        "oder die Daten konvertieren und mit `numpy` arbeiten. Versuche wenn möglich immer eingebaute\n",
        "Funktionalitäten von `numpy` oder `pandas` zu nutzen, da diese deutlich schneller sind\n",
        "als pures Python.\n",
        "\n",
        "Dokumentation findet sich hier: [numpy](https://numpy.org/doc/) und\n",
        "[pandas](https://pandas.pydata.org/docs/getting_started/index.html#getting-started)\n",
        "\n",
        "**1.** Liste die Zahl der Todesfälle in Verbindung mit Covid-19 relativ zur mittleren Bevölkerungszahl (gemittelt über alle Einträge für das jeweilige Land) für jedes Land. Welches Land hat die höchste Todesrate? Welches die niedrigste?\n",
        "\n",
        "Für diese Aufgabe bietet es sich an, die Ergebnisse in Dictionaries mit einem Key für jedes Land zu speichern. Du kannst dir weiterhin folgende möglicherweise hilfreichen Funktionen anschauen:\n",
        "\n",
        "[pandas](https://pandas.pydata.org/docs/getting_started/index.html#getting-started):\n",
        "``.unique``, ``.groupby``, ``.mean``, ``.sum``, ``.sort_values``, ``.get_group`` and ``.from_dict``:"
      ]
    },
    {
      "cell_type": "code",
      "execution_count": 75,
      "id": "1e743419",
      "metadata": {
        "deletable": false,
        "nbgrader": {
          "cell_type": "code",
          "checksum": "9daa880109ae0daa83daf0593547f48a",
          "grade": false,
          "grade_id": "exercise_1",
          "locked": false,
          "schema_version": 3,
          "solution": true,
          "task": false
        },
        "colab": {
          "base_uri": "https://localhost:8080/"
        },
        "id": "1e743419",
        "outputId": "95f2bc76-7b44-4770-f7d3-3622696da0e1"
      },
      "outputs": [
        {
          "output_type": "stream",
          "name": "stdout",
          "text": [
            "countriesAndTerritories\n",
            "Anguilla                                      0.000000\n",
            "Bhutan                                        0.000000\n",
            "Dominica                                      0.000000\n",
            "Cambodia                                      0.000000\n",
            "Eritrea                                       0.000000\n",
            "                                                ...   \n",
            "Peru                                          0.001128\n",
            "San_Marino                                    0.001480\n",
            "Belgium                                       0.001567\n",
            "Cases_on_an_international_conveyance_Japan         NaN\n",
            "Wallis_and_Futuna                                  NaN\n",
            "Length: 214, dtype: float64\n",
            "Belgium\n",
            "Anguilla\n"
          ]
        }
      ],
      "source": [
        "# Fülle die folgenden Objekte:\n",
        "\n",
        "countries = corona_world[\"countriesAndTerritories\"].unique() # Liste aller Länder (jedes Land nur ein Mal)\n",
        "population = corona_world.groupby(\"countriesAndTerritories\")[\"popData2019\"].mean() # Durchschnitt der Bevölkerungszahl über alle Einträge für jedes Land\n",
        "deaths = corona_world.groupby(\"countriesAndTerritories\")[\"deaths\"].sum() # Summe aller Todesfälle für jedes Land\n",
        "rel_deaths = deaths / population # Summe aller Todesfälle geteilt durch Bevölkerungszahl für jedes Land\n",
        "country_max_mortality = rel_deaths.idxmax() # Welches Land hatte die höchste relative Todesrate?\n",
        "\n",
        "# YOUR CODE HERE\n",
        "print(rel_deaths.sort_values())\n",
        "print(rel_deaths.idxmax())\n",
        "print(rel_deaths.idxmin())\n",
        "\n",
        "# code to pass test\n",
        "population = population.to_dict()\n",
        "deaths = deaths.to_dict()\n",
        "rel_deaths = rel_deaths.to_dict()"
      ]
    },
    {
      "cell_type": "markdown",
      "id": "38a3a655",
      "metadata": {
        "deletable": false,
        "editable": false,
        "nbgrader": {
          "cell_type": "markdown",
          "checksum": "10b561d0f49bf07404faa45503d6ee05",
          "grade": false,
          "grade_id": "cell-1663db010b7a0738",
          "locked": true,
          "schema_version": 3,
          "solution": false,
          "task": false
        },
        "id": "38a3a655"
      },
      "source": [
        "**2.** Nun möchten wir die kumulative Anzahl der Fälle (summierte Anzahl der Fälle bis zu einem Datum), die kumulative Anzahl der verstorbenen Fälle und die kumulative Anzahl der genesenen Fälle für Deutschland über der Zeit plotten.\n",
        "\n",
        "Stelle sicher, dass die Daten die richtige Reihenfolge für eine kumulative Summe haben.\n",
        "\n",
        "Tipp: Schau dir die Funktion ``np.cumsum`` an.\n",
        "\n",
        "Tipp zum Bestimmen der kumulative Anzahl der genesenen Fälle:\n",
        "Wir nehmen an, dass man nach 14 Tagen nach der Infektion / positivem Test entweder genesen oder verstorben ist.\n",
        "Daher berechnen wir die kumulative Anzahl der genesenen Fälle, indem wir die Anzahl der kumulativen Fälle vor vierzehn Tagen minus der aktuellen kumulativen Anzahl der Todesfälle rechnen."
      ]
    },
    {
      "cell_type": "code",
      "execution_count": 60,
      "id": "5772c4da",
      "metadata": {
        "deletable": false,
        "nbgrader": {
          "cell_type": "code",
          "checksum": "9f6405921f274057c15f62ebac91ddeb",
          "grade": false,
          "grade_id": "exercise_2",
          "locked": false,
          "schema_version": 3,
          "solution": true,
          "task": false
        },
        "colab": {
          "base_uri": "https://localhost:8080/",
          "height": 1000
        },
        "id": "5772c4da",
        "outputId": "52ec2a24-37b7-47e8-c855-e50d00bf9cf6"
      },
      "outputs": [
        {
          "output_type": "display_data",
          "data": {
            "text/plain": [
              "<Figure size 640x480 with 1 Axes>"
            ],
            "image/png": "[encoded data removed]"
          },
          "metadata": {}
        },
        {
          "output_type": "display_data",
          "data": {
            "text/plain": [
              "<Figure size 640x480 with 1 Axes>"
            ],
            "image/png": "[encoded data removed]"
          },
          "metadata": {}
        },
        {
          "output_type": "display_data",
          "data": {
            "text/plain": [
              "<Figure size 640x480 with 1 Axes>"
            ],
            "image/png": "[encoded data removed]"
          },
          "metadata": {}
        }
      ],
      "source": [
        "corona_countries = corona_world[\"countriesAndTerritories\"]\n",
        "corona_germany = corona_world[corona_countries == \"Germany\"]\n",
        "corona_germany = corona_germany[[\n",
        "    \"dateRep\", \"cases\", \"deaths\"\n",
        "]]\n",
        "time_germany = corona_germany[\"dateRep\"].values\n",
        "time_germany = np.flip(time_germany)\n",
        "deaths_germany = np.flip(corona_germany[\"deaths\"])\n",
        "cases_germany = np.flip(corona_germany[\"cases\"])\n",
        "\n",
        "cum_death = np.cumsum(deaths_germany.values)\n",
        "cum_cases = np.cumsum(cases_germany.values)\n",
        "\n",
        "# Compute cumulative recoveries as per rule (14 days shift)\n",
        "shift_days = 14\n",
        "cum_recov = np.zeros_like(cum_cases)\n",
        "cum_recov[shift_days:] = cum_cases[:-shift_days] - cum_death[shift_days:]\n",
        "cum_recov[:shift_days] = 0  # for first 14 days, recovery data undefined: set to 0\n",
        "\n",
        "# YOUR CODE HERE\n",
        "\n",
        "# Cumulative Deaths\n",
        "fig, ax = plt.subplots()  # generate a new plot\n",
        "ax.plot(time_germany, cum_death)  # plot data\n",
        "ax.xaxis.set_major_locator(months)  # modify axis\n",
        "fig.autofmt_xdate()\n",
        "plt.grid(True, \"both\")\n",
        "plt.title(\"Germany\")\n",
        "plt.ylabel(\"Cumulative Deaths\")\n",
        "plt.xlabel(\"Time [year-month]\")\n",
        "plt.show()\n",
        "\n",
        "# Cumulative Cases\n",
        "fig, ax = plt.subplots()  # generate a new plot\n",
        "ax.plot(time_germany, cum_cases)  # plot data\n",
        "ax.xaxis.set_major_locator(months)  # modify axis\n",
        "fig.autofmt_xdate()\n",
        "plt.grid(True, \"both\")\n",
        "plt.title(\"Germany\")\n",
        "plt.ylabel(\"Cumulative Cases\")\n",
        "plt.xlabel(\"Time [year-month]\")\n",
        "plt.show()\n",
        "\n",
        "# Cumulative Recoveries\n",
        "fig, ax = plt.subplots()  # generate a new plot\n",
        "ax.plot(time_germany, cum_recov)  # plot data\n",
        "ax.xaxis.set_major_locator(months)  # modify axis\n",
        "fig.autofmt_xdate()\n",
        "plt.grid(True, \"both\")\n",
        "plt.title(\"Germany\")\n",
        "plt.ylabel(\"Cumulative Recoveries\")\n",
        "plt.xlabel(\"Time [year-month]\")\n",
        "plt.show()"
      ]
    },
    {
      "cell_type": "markdown",
      "id": "7e874897",
      "metadata": {
        "deletable": false,
        "editable": false,
        "nbgrader": {
          "cell_type": "markdown",
          "checksum": "3d7dda631253587eba6669046527b13a",
          "grade": false,
          "grade_id": "cell-3a4d36adc049d86c",
          "locked": true,
          "schema_version": 3,
          "solution": false,
          "task": false
        },
        "id": "7e874897"
      },
      "source": [
        "Wir wollen nun analysieren, wie gut man mit einfachen Modellen den Verlauf der\n",
        "Pandemie im Spätjahr 2020 (nach 01.10.2020) in Deutschland vorhersagen kann.\n",
        "\n",
        "**3.** Zunächst selektieren wir die Daten vom 01.08.2020 bis 01.10.2020 zum Fitten unserer Modelle. Beachte, dass wir hier numpy arrays vom Typ ``dtype=\"datetime64[ns]\"`` verwenden.\n",
        "\n",
        "Wir müssen die passende Zeitperiode selektieren und dann durch ``np.timedelta64(1,\"D\")``, was dem Zeitraum eines Tages entspricht, teilen. Dann erhalten wir ein array, welches die Tage vom 01.08.2020 aufwärts zählt.\n",
        "\n",
        "Als Testdaten selektieren wir alle Daten ab dem 01.08.2020, also auch über den 01.10.2020 hinaus."
      ]
    },
    {
      "cell_type": "code",
      "execution_count": 81,
      "id": "acee36db",
      "metadata": {
        "id": "acee36db"
      },
      "outputs": [],
      "source": [
        "date_start = datetime(2020, 8, 1)\n",
        "# date_start = datetime(2020, 9, 17)\n",
        "date_stop = datetime(2020, 10, 1)\n",
        "# date_stop = datetime(2020, 10, 1)\n",
        "selection = np.logical_and(time_germany >= np.datetime64(date_start),\n",
        "                           time_germany < np.datetime64(date_stop))\n",
        "\n",
        "# Selektiere Daten\n",
        "x_cases = np.array(time_germany[selection] - np.datetime64(date_start)) / np.timedelta64(1, \"D\")\n",
        "y_cases = np.array(cc_germany)[selection]\n",
        "x_test = time_germany[time_germany >= np.datetime64(date_start)]\n",
        "x_test_days = (x_test - np.datetime64(date_start)) / np.timedelta64(1, \"D\")"
      ]
    },
    {
      "cell_type": "markdown",
      "id": "86655350",
      "metadata": {
        "deletable": false,
        "editable": false,
        "nbgrader": {
          "cell_type": "markdown",
          "checksum": "eb6c643a81b4d2d44385146eb12fb15e",
          "grade": false,
          "grade_id": "cell-6fc0457dec84034d",
          "locked": true,
          "schema_version": 3,
          "solution": false,
          "task": false
        },
        "id": "86655350"
      },
      "source": [
        "Nun versuchen wir ein paar analytische Funktionen an die Daten zu fitten, wofür wir ``scipy.optimize.curve_fit`` verwenden. Falls der Fit nicht auf Anhieb konvergiert, versuche die bounds und den initial guess von Hand zu ändern.\n",
        "\n",
        "Versuche die folgenden Ausdrücke. Implementiere diese zunächst mit der Hilfe von Funktionen wie ``np.square``, ``np.exp`` oder ``np.power`` etc.\n",
        "\n",
        "* $f_1(x)= ax+b$\n",
        "* $f_2(x)= c e^{a (x-b)}$\n",
        "* $f_3(x)= a x^2 + b x + c$\n",
        "* $f_4(x)= a x^3 + b x^2 + cx + d$\n",
        "* $\\dots$"
      ]
    },
    {
      "cell_type": "code",
      "execution_count": 82,
      "id": "a95d19cd",
      "metadata": {
        "deletable": false,
        "lines_to_next_cell": 2,
        "nbgrader": {
          "cell_type": "code",
          "checksum": "f06fa9f022ce74f7c54db9fcd865dc3b",
          "grade": false,
          "grade_id": "exercise_3_functions",
          "locked": false,
          "schema_version": 3,
          "solution": true,
          "task": false
        },
        "id": "a95d19cd"
      },
      "outputs": [],
      "source": [
        "# Funktionen, welche implementiert werden sollen:\n",
        "def fun_1(x, a, b):\n",
        "    return a * x + b\n",
        "\n",
        "\n",
        "def fun_2(x, a, b, c):\n",
        "    return c * np.exp(a * (x - b))\n",
        "\n",
        "\n",
        "def fun_3(x, a, b, c):\n",
        "    return a * np.square(x) + b * x + c\n",
        "\n",
        "\n",
        "def fun_4(x, a, b, c, d):\n",
        "    return a * np.power(x, 3) + b * np.square(x) + c * x + d\n",
        "\n",
        "\n",
        "# Du kannst auch eigene zusätzliche Ideen implementieren...\n",
        "\n",
        "# YOUR CODE HERE\n",
        "pass"
      ]
    },
    {
      "cell_type": "code",
      "execution_count": 83,
      "id": "0376bbe5",
      "metadata": {
        "deletable": false,
        "nbgrader": {
          "cell_type": "code",
          "checksum": "6c2b3bae8f32cd60b59129ca09048610",
          "grade": false,
          "grade_id": "exercise_3_fit",
          "locked": false,
          "schema_version": 3,
          "solution": true,
          "task": false
        },
        "colab": {
          "base_uri": "https://localhost:8080/",
          "height": 455
        },
        "id": "0376bbe5",
        "outputId": "a4d9d480-b9a3-4184-ad3e-d2f3ed1d6172"
      },
      "outputs": [
        {
          "output_type": "display_data",
          "data": {
            "text/plain": [
              "<Figure size 640x480 with 1 Axes>"
            ],
            "image/png": "[encoded data removed]"
          },
          "metadata": {}
        }
      ],
      "source": [
        "param_1, _ = scipy.optimize.curve_fit(fun_1, x_cases, y_cases)\n",
        "param_2, _ = scipy.optimize.curve_fit(fun_2, x_cases, y_cases)\n",
        "param_3, _ = scipy.optimize.curve_fit(fun_3, x_cases, y_cases)\n",
        "param_4, _ = scipy.optimize.curve_fit(fun_4, x_cases, y_cases)\n",
        "\n",
        "# YOUR CODE HERE\n",
        "pass\n",
        "\n",
        "y_fit_1 = fun_1(x_test_days, *param_1)\n",
        "y_fit_2 = fun_2(x_test_days, *param_2)\n",
        "y_fit_3 = fun_3(x_test_days, *param_3)\n",
        "y_fit_4 = fun_4(x_test_days, *param_4)\n",
        "\n",
        "# YOUR CODE HERE\n",
        "pass\n",
        "\n",
        "fig, ax = plt.subplots()  # generate a new plot\n",
        "ax.plot(time_germany, cc_germany)  # plot data\n",
        "ax.plot(x_test, y_fit_1, label=\"f1\")  # plot data\n",
        "ax.plot(x_test, y_fit_2, label=\"f2\")\n",
        "ax.plot(x_test, y_fit_3, label=\"f3\")\n",
        "ax.plot(x_test, y_fit_4, label=\"f4\")\n",
        "\n",
        "# YOUR CODE HERE\n",
        "pass\n",
        "\n",
        "ax.xaxis.set_major_locator(months)  # modify axis\n",
        "fig.autofmt_xdate()\n",
        "plt.grid(True, \"both\")\n",
        "plt.ylim([-20, 370])\n",
        "\n",
        "plt.legend()\n",
        "plt.title(\"Germany\")\n",
        "plt.ylabel(\"14 days cases per 100k\")\n",
        "plt.xlabel(\"Time [year-month]\")\n",
        "\n",
        "plt.show()  # make plot"
      ]
    },
    {
      "cell_type": "markdown",
      "id": "ff40afb5",
      "metadata": {
        "deletable": false,
        "editable": false,
        "nbgrader": {
          "cell_type": "markdown",
          "checksum": "1c3e218ee99e02fdb88f84c71a36153b",
          "grade": false,
          "grade_id": "cell-7dc0f2f1e1ce451c",
          "locked": true,
          "schema_version": 3,
          "solution": false,
          "task": false
        },
        "id": "ff40afb5"
      },
      "source": [
        "- (1) Welche Funktion extrapoliert am besten über den 01.10.2020 bis zum Ende des Jahres?\n",
        "- (2) Ändert sich das, wenn du nur an die letzten 14 Tage vom 17.09.2020 bis zum 01.10.2020 fittest?"
      ]
    },
    {
      "cell_type": "code",
      "execution_count": 76,
      "id": "4c140804",
      "metadata": {
        "deletable": false,
        "nbgrader": {
          "cell_type": "code",
          "checksum": "8aa2be0acf837678a32615c98799ae48",
          "grade": false,
          "grade_id": "exercise_3_best_function",
          "locked": false,
          "schema_version": 3,
          "solution": true,
          "task": false
        },
        "id": "4c140804"
      },
      "outputs": [],
      "source": [
        "answer_best_fun = 4  # Beste Funktion für die erste Frage (int)?\n",
        "answer_best_fun_14_days = 3  # Welche Funktion ist im zweiten Fall (2) am besten? (int)\n",
        "\n",
        "# YOUR CODE HERE\n",
        "pass"
      ]
    },
    {
      "cell_type": "markdown",
      "id": "466f9a9d",
      "metadata": {
        "id": "466f9a9d"
      },
      "source": [
        "**Das war es auch schon für das erste Übungsblatt.**\n",
        "\n",
        "**Nun folgen noch ein paar Checks für dich, mit welchen du deine Ergebnis grob überprüfen kannst:**"
      ]
    },
    {
      "cell_type": "code",
      "execution_count": 77,
      "id": "04d81d31",
      "metadata": {
        "deletable": false,
        "editable": false,
        "nbgrader": {
          "cell_type": "code",
          "checksum": "aa77ad7a8737a52d4efc2b73f70a372f",
          "grade": true,
          "grade_id": "correct_exercise_1",
          "locked": true,
          "points": 6,
          "schema_version": 3,
          "solution": false,
          "task": false
        },
        "id": "04d81d31"
      },
      "outputs": [],
      "source": [
        "##### DO NOT CHANGE #####\n",
        "# ID: correct_exercise_1 - possible points: 6\n",
        "\n",
        "assert isinstance(countries, list) or isinstance(countries, np.ndarray)\n",
        "assert isinstance(rel_deaths, dict)\n",
        "assert isinstance(population, dict)\n",
        "assert isinstance(deaths, dict)\n",
        "assert isinstance(country_max_mortality, str)\n",
        "\n",
        "\n",
        "##### DO NOT CHANGE #####"
      ]
    },
    {
      "cell_type": "code",
      "execution_count": 78,
      "id": "01d1f2a4",
      "metadata": {
        "deletable": false,
        "editable": false,
        "nbgrader": {
          "cell_type": "code",
          "checksum": "cf635db354db1edb74674ac15866039f",
          "grade": true,
          "grade_id": "correct_exercise_2",
          "locked": true,
          "points": 6,
          "schema_version": 3,
          "solution": false,
          "task": false
        },
        "id": "01d1f2a4"
      },
      "outputs": [],
      "source": [
        "##### DO NOT CHANGE #####\n",
        "# ID: correct_exercise_2 - possible points: 6\n",
        "\n",
        "assert isinstance(cum_death, np.ndarray)\n",
        "assert isinstance(cum_cases, np.ndarray)\n",
        "\n",
        "\n",
        "##### DO NOT CHANGE #####"
      ]
    },
    {
      "cell_type": "code",
      "execution_count": 79,
      "id": "d45caeeb",
      "metadata": {
        "deletable": false,
        "editable": false,
        "nbgrader": {
          "cell_type": "code",
          "checksum": "65abe2c4ba7adb68a15805a62c54a677",
          "grade": true,
          "grade_id": "correct_exercise_3_functions",
          "locked": true,
          "points": 2,
          "schema_version": 3,
          "solution": false,
          "task": false
        },
        "id": "d45caeeb"
      },
      "outputs": [],
      "source": [
        "##### DO NOT CHANGE #####\n",
        "# ID: correct_exercise_3_functions - possible points: 2\n",
        "\n",
        "assert fun_1(0, 0, 0) == 0\n",
        "assert fun_2(0, 0, 0, 0) == 0\n",
        "assert fun_3(0, 0, 0, 0) == 0\n",
        "assert fun_4(0, 0, 0, 0, 0) == 0\n",
        "\n",
        "\n",
        "##### DO NOT CHANGE #####"
      ]
    },
    {
      "cell_type": "code",
      "execution_count": 80,
      "id": "29696dd9",
      "metadata": {
        "deletable": false,
        "editable": false,
        "nbgrader": {
          "cell_type": "code",
          "checksum": "cc2dc3fccefae8ff3459ab71f109250f",
          "grade": true,
          "grade_id": "correct_exercise_3_fits_and_answers",
          "locked": true,
          "points": 6,
          "schema_version": 3,
          "solution": false,
          "task": false
        },
        "id": "29696dd9"
      },
      "outputs": [],
      "source": [
        "##### DO NOT CHANGE #####\n",
        "# ID: correct_exercise_3_fits_and_answers - possible points: 6\n",
        "\n",
        "assert param_1 is not None\n",
        "assert param_2 is not None\n",
        "assert param_3 is not None\n",
        "assert param_4 is not None\n",
        "assert isinstance(answer_best_fun, int)\n",
        "assert isinstance(answer_best_fun_14_days, int)\n",
        "\n",
        "\n",
        "##### DO NOT CHANGE #####"
      ]
    },
    {
      "cell_type": "code",
      "source": [],
      "metadata": {
        "id": "0LyEKU1nFahW"
      },
      "id": "0LyEKU1nFahW",
      "execution_count": 74,
      "outputs": []
    }
  ],
  "metadata": {
    "jupytext": {
      "formats": "ipynb,py:percent"
    },
    "kernelspec": {
      "display_name": "Python 3 (ipykernel)",
      "language": "python",
      "name": "python3"
    },
    "language_info": {
      "codemirror_mode": {
        "name": "ipython",
        "version": 3
      },
      "file_extension": ".py",
      "mimetype": "text/x-python",
      "name": "python",
      "nbconvert_exporter": "python",
      "pygments_lexer": "ipython3",
      "version": "3.11.12"
    },
    "colab": {
      "provenance": []
    }
  },
  "nbformat": 4,
  "nbformat_minor": 5
}