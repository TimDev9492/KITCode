{
 "cells": [
  {
   "cell_type": "markdown",
   "metadata": {},
   "source": [
    "# Notebook zu Potenzenmethode & Rayleigh-Quotienten-Iteration"
   ]
  },
  {
   "cell_type": "code",
   "execution_count": 1,
   "metadata": {},
   "outputs": [],
   "source": [
    "import numpy as np\n",
    "import scipy.linalg as spla"
   ]
  },
  {
   "cell_type": "markdown",
   "metadata": {},
   "source": [
    "Wir betrachten die Matrizen\n",
    "$$\n",
    "A = \\begin{pmatrix} 5 & 4 & 4 & 5 \\\\ 9 & 4 & 8 & 3 \\\\ -9 & -4 & -8 & -5 \\\\ 0 & 1 & 1 & 2 \\end{pmatrix} \\qquad \\text{und} \\qquad\n",
    "B = \\begin{pmatrix} 5 & 4 & 4 & 5 \\\\ 6 & 4 & 5 & 3 \\\\ -6 & -4 & -5 & -5 \\\\ 0 & 1 & 1 & 2 \\end{pmatrix}.\n",
    "$$\n",
    "Anhand dieser Matrizen wollen wir die Verfahren zur Approximation von Eigenwerten testen und verstehen. \n",
    "\n",
    "**(a) Um die Ergebnisse der Verfahren später beurteilen zu können, lassen Sie sich von Python zunächst die \"korrekten\" Eigenwerte berechnen und anzeigen. Benutzen Sie dazu den Befehl `eig` aus dem `linalg` Modul von `scipy`. Da dieses Modul oben mit dem Namen `spla` eingebunden wurde, wird der Befehl also über `spla.eig(...)` aufgerufen.**"
   ]
  },
  {
   "cell_type": "code",
   "execution_count": 2,
   "metadata": {},
   "outputs": [
    {
     "name": "stdout",
     "output_type": "stream",
     "text": [
      "[[ 5.  4.  4.  5.]\n",
      " [ 9.  4.  8.  3.]\n",
      " [-9. -4. -8. -5.]\n",
      " [ 0.  1.  1.  2.]]\n",
      "[[ 5.  4.  4.  5.]\n",
      " [ 6.  4.  5.  3.]\n",
      " [-6. -4. -5. -5.]\n",
      " [ 0.  1.  1.  2.]]\n"
     ]
    }
   ],
   "source": [
    "A = np.array([[5.0, 4, 4, 5],[9, 4, 8, 3],[-9, -4, -8, -5],[0, 1, 1, 2]])\n",
    "B = np.array([[5.0, 4, 4, 5],[6, 4, 5, 3],[-6, -4, -5, -5],[0, 1, 1, 2]])\n",
    "print(A)\n",
    "print(B)"
   ]
  },
  {
   "cell_type": "code",
   "execution_count": 3,
   "metadata": {},
   "outputs": [
    {
     "name": "stdout",
     "output_type": "stream",
     "text": [
      "(array([ 5.+0.j, -4.+0.j,  1.+1.j,  1.-1.j]), array([[ 5.77350269e-01+0.00000000e+00j,  1.92296269e-16+0.00000000e+00j,\n",
      "        -1.59594560e-16-5.00000000e-01j, -1.59594560e-16+5.00000000e-01j],\n",
      "       [ 5.77350269e-01+0.00000000e+00j, -7.07106781e-01+0.00000000e+00j,\n",
      "        -5.00000000e-01+0.00000000e+00j, -5.00000000e-01-0.00000000e+00j],\n",
      "       [-5.77350269e-01+0.00000000e+00j,  7.07106781e-01+0.00000000e+00j,\n",
      "         1.38777878e-16+5.00000000e-01j,  1.38777878e-16-5.00000000e-01j],\n",
      "       [ 0.00000000e+00+0.00000000e+00j,  0.00000000e+00+0.00000000e+00j,\n",
      "         5.00000000e-01-1.04083409e-16j,  5.00000000e-01+1.04083409e-16j]]))\n",
      "(array([ 5.+0.j, -1.+0.j,  1.+1.j,  1.-1.j]), array([[ 5.77350269e-01+0.00000000e+00j, -6.40987562e-17+0.00000000e+00j,\n",
      "         4.99600361e-16+5.00000000e-01j,  4.99600361e-16-5.00000000e-01j],\n",
      "       [ 5.77350269e-01+0.00000000e+00j,  7.07106781e-01+0.00000000e+00j,\n",
      "         5.00000000e-01+0.00000000e+00j,  5.00000000e-01-0.00000000e+00j],\n",
      "       [-5.77350269e-01+0.00000000e+00j, -7.07106781e-01+0.00000000e+00j,\n",
      "        -9.78384040e-16-5.00000000e-01j, -9.78384040e-16+5.00000000e-01j],\n",
      "       [ 2.56395025e-17+0.00000000e+00j,  3.14018492e-17+0.00000000e+00j,\n",
      "        -5.00000000e-01+2.56739074e-16j, -5.00000000e-01-2.56739074e-16j]]))\n"
     ]
    }
   ],
   "source": [
    "print(spla.eig(A))\n",
    "print(spla.eig(B))"
   ]
  },
  {
   "cell_type": "markdown",
   "metadata": {},
   "source": [
    "## Potenzenmethode"
   ]
  },
  {
   "cell_type": "markdown",
   "metadata": {},
   "source": [
    "**(b) Schreiben Sie eine Prozedur, die `K` Iterationen der Potenzenmethode für eine Matrix `A` und einen Startvektor `z0` berechnet. Die Prozedur soll die aktuelle Approximation an den Eigenwert in jedem Schritt auf dem Bildschirm ausgeben, und am Ende die finale Approximationen an den Eigenwert und den Eigenvektor an das Hauptprogramm zurückgeben.**"
   ]
  },
  {
   "cell_type": "markdown",
   "metadata": {},
   "source": [
    "**Hinweis:** Das komplexe Skalarprodukt $x^H y = \\overline{x}^T y$ zweier Vektoren $x$ und $y$ erhalten Sie in numpy durch `np.vdot(x,y)`."
   ]
  },
  {
   "cell_type": "markdown",
   "metadata": {},
   "source": [
    "Außerdem ein kleiner Tipp, _falls_ Sie an einer schönen Bildschrimausgabe interessiert sind: In sogenannten \"F-Strings\" können Sie die Darstellung von Zahlen in Strings (also z.B. für den `print`-Befehl) beeinflussen. Ein Beispiel:"
   ]
  },
  {
   "cell_type": "code",
   "execution_count": 4,
   "metadata": {},
   "outputs": [
    {
     "name": "stdout",
     "output_type": "stream",
     "text": [
      "Die Variable hat den Wert 1.4142135623730951\n",
      "Die Variable hat den Wert 1.414\n"
     ]
    }
   ],
   "source": [
    "a = np.sqrt(2) \n",
    "print('Die Variable hat den Wert',a)\n",
    "print(f'Die Variable hat den Wert {a:.3f}')"
   ]
  },
  {
   "cell_type": "markdown",
   "metadata": {},
   "source": [
    "In der zweiten Variante wurde die Darstellung der in `a` gespeicherten Zahl spezifiziert. Das führende `f` vor dem String erlaubt solche Formatierungen. Die geschweiften Klammern stellen einen Platzhalter für eine Zahl, die formatiert ausgegeben werden soll, dar. Vor dem Doppelpunkt wird angegeben, welche Variable ausgegeben werden soll, und dahinter wird spezifiziert in welcher Darstellung. Das `f` steht für eine Fix point number (das Komma trennt also immer den ganzahligen Teil von dem Rest). Der Zusatz `.3` legt genauer fest, dass 3 Nachkommastellen nach dem Dezimalpunkt angezeigt werden sollen."
   ]
  },
  {
   "cell_type": "code",
   "execution_count": 5,
   "metadata": {},
   "outputs": [],
   "source": [
    "def rayleigh_quot(A, v):\n",
    "    return 1/np.vdot(v, v) * np.vdot(v, A @ v)\n",
    "\n",
    "def power_iteration(K, A, z0):\n",
    "    y_k = 1/spla.norm(z0) * z0\n",
    "    z_k = y_k\n",
    "    k = 0\n",
    "    while k < K:\n",
    "        z_k = A @ y_k\n",
    "        q_k = np.vdot(y_k, z_k)\n",
    "        y_k = 1/spla.norm(z_k) * z_k\n",
    "        k += 1\n",
    "        print(f'Rayleigh Quotient: {q_k:.3f} ({k} iterations)')\n",
    "    return q_k, y_k\n",
    "\n",
    "        "
   ]
  },
  {
   "cell_type": "markdown",
   "metadata": {},
   "source": [
    "**(c) Testen Sie die Prozedur mit den obigen Matrizen $A$ und $B$. Starten Sie dabei mit einem beliebigen Vektor, z.B. $z_0 = (1,1,1,1)^T$, und berechnen Sie 30 Iterationen. Gegen welchen Eigenwert von $A$ bzw. $B$ konvergiert die Methode, und warum? Vergleichen und erklären Sie die Konvergenzgeschwindigkeiten. Überprüfen Sie außerdem den Fehler der finalen Approximationen $\\lambda,v$ an Eigenwert und Eigenvektor, indem Sie den Wert von $\\left\\lVert Av-\\lambda v \\right\\rVert_2$ für die jeweilige Matrix ausgeben.**"
   ]
  },
  {
   "cell_type": "code",
   "execution_count": 6,
   "metadata": {
    "scrolled": true
   },
   "outputs": [
    {
     "name": "stdout",
     "output_type": "stream",
     "text": [
      "Rayleigh Quotient: 5.000 (1 iterations)\n",
      "Rayleigh Quotient: 3.246 (2 iterations)\n",
      "Rayleigh Quotient: 7.040 (3 iterations)\n",
      "Rayleigh Quotient: 3.604 (4 iterations)\n",
      "Rayleigh Quotient: 6.271 (5 iterations)\n",
      "Rayleigh Quotient: 4.072 (6 iterations)\n",
      "Rayleigh Quotient: 5.816 (7 iterations)\n",
      "Rayleigh Quotient: 4.394 (8 iterations)\n",
      "Rayleigh Quotient: 5.517 (9 iterations)\n",
      "Rayleigh Quotient: 4.607 (10 iterations)\n",
      "Rayleigh Quotient: 5.328 (11 iterations)\n",
      "Rayleigh Quotient: 4.746 (12 iterations)\n",
      "Rayleigh Quotient: 5.208 (13 iterations)\n",
      "Rayleigh Quotient: 4.837 (14 iterations)\n",
      "Rayleigh Quotient: 5.133 (15 iterations)\n",
      "Rayleigh Quotient: 4.895 (16 iterations)\n",
      "Rayleigh Quotient: 5.085 (17 iterations)\n",
      "Rayleigh Quotient: 4.933 (18 iterations)\n",
      "Rayleigh Quotient: 5.054 (19 iterations)\n",
      "Rayleigh Quotient: 4.957 (20 iterations)\n",
      "Rayleigh Quotient: 5.035 (21 iterations)\n",
      "Rayleigh Quotient: 4.972 (22 iterations)\n",
      "Rayleigh Quotient: 5.022 (23 iterations)\n",
      "Rayleigh Quotient: 4.982 (24 iterations)\n",
      "Rayleigh Quotient: 5.014 (25 iterations)\n",
      "Rayleigh Quotient: 4.989 (26 iterations)\n",
      "Rayleigh Quotient: 5.009 (27 iterations)\n",
      "Rayleigh Quotient: 4.993 (28 iterations)\n",
      "Rayleigh Quotient: 5.006 (29 iterations)\n",
      "Rayleigh Quotient: 4.995 (30 iterations)\n",
      "---\n",
      "Rayleigh Quotient: 5.000 (1 iterations)\n",
      "Rayleigh Quotient: 5.184 (2 iterations)\n",
      "Rayleigh Quotient: 5.143 (3 iterations)\n",
      "Rayleigh Quotient: 4.962 (4 iterations)\n",
      "Rayleigh Quotient: 4.989 (5 iterations)\n",
      "Rayleigh Quotient: 4.995 (6 iterations)\n",
      "Rayleigh Quotient: 5.000 (7 iterations)\n",
      "Rayleigh Quotient: 5.000 (8 iterations)\n",
      "Rayleigh Quotient: 5.000 (9 iterations)\n",
      "Rayleigh Quotient: 5.000 (10 iterations)\n",
      "Rayleigh Quotient: 5.000 (11 iterations)\n",
      "Rayleigh Quotient: 5.000 (12 iterations)\n",
      "Rayleigh Quotient: 5.000 (13 iterations)\n",
      "Rayleigh Quotient: 5.000 (14 iterations)\n",
      "Rayleigh Quotient: 5.000 (15 iterations)\n",
      "Rayleigh Quotient: 5.000 (16 iterations)\n",
      "Rayleigh Quotient: 5.000 (17 iterations)\n",
      "Rayleigh Quotient: 5.000 (18 iterations)\n",
      "Rayleigh Quotient: 5.000 (19 iterations)\n",
      "Rayleigh Quotient: 5.000 (20 iterations)\n",
      "Rayleigh Quotient: 5.000 (21 iterations)\n",
      "Rayleigh Quotient: 5.000 (22 iterations)\n",
      "Rayleigh Quotient: 5.000 (23 iterations)\n",
      "Rayleigh Quotient: 5.000 (24 iterations)\n",
      "Rayleigh Quotient: 5.000 (25 iterations)\n",
      "Rayleigh Quotient: 5.000 (26 iterations)\n",
      "Rayleigh Quotient: 5.000 (27 iterations)\n",
      "Rayleigh Quotient: 5.000 (28 iterations)\n",
      "Rayleigh Quotient: 5.000 (29 iterations)\n",
      "Rayleigh Quotient: 5.000 (30 iterations)\n"
     ]
    }
   ],
   "source": [
    "eig_val_A, eig_vec_A = power_iteration(30, A, np.array([1, 1, 1, 1]))\n",
    "print('---')\n",
    "eig_val_B, eig_vec_B = power_iteration(30, B, np.array([1, 1, 1, 1]))\n"
   ]
  },
  {
   "cell_type": "code",
   "execution_count": 7,
   "metadata": {},
   "outputs": [
    {
     "name": "stdout",
     "output_type": "stream",
     "text": [
      "Absolute error A: 0.00875926554077168\n",
      "Absolute error B: 4.443150246491174e-16\n"
     ]
    }
   ],
   "source": [
    "print(f'Absolute error A: {spla.norm(A @ eig_vec_A - eig_val_A * eig_vec_A)}')\n",
    "print(f'Absolute error B: {spla.norm(B @ eig_vec_B - eig_val_B * eig_vec_B)}')"
   ]
  },
  {
   "cell_type": "markdown",
   "metadata": {},
   "source": [
    "## Inverse Potenzenmethode mit Shift"
   ]
  },
  {
   "cell_type": "markdown",
   "metadata": {},
   "source": [
    "**(d) Schreiben Sie nun eine Prozedur, welche einen zusätzlichen Eingabeparameter $\\mu$ hat und die inverse Potenzenmethode mit Shift $\\mu$ durchführt.**\n",
    "\n",
    "Zur Lösung der auftretenden LGS verwenden wir eine LR-Zerlegung. Für eine Matrix $A$ erhalten Sie diese über den Befehl, `spla.lu(A)`, welcher drei Matrizen $P,L,R$ (Permutationsmatrix, untere und obere Dreiecksmatrix) zurückgibt, für die $A = PLR$ gilt. ACHTUNG: Aus der VL kennen wir die Zerlegung in der Form $PA=LR$!\n",
    "\n",
    "Mit dem Befehl `solve_triangular(A,b,lower=True)` bzw. `solve_triangular(A,b,lower=False)` können Sie dann LGS mit einer unteren/oberen Dreiecksmatrix durch Vorwärts- bzw. Rückwärtssubstitution lösen lassen."
   ]
  },
  {
   "cell_type": "code",
   "execution_count": 8,
   "metadata": {},
   "outputs": [],
   "source": [
    "def power_iteration_shift(K, A, z0, shift):\n",
    "    y_k = 1/spla.norm(z0) * z0\n",
    "    z_k = y_k\n",
    "    k = 0\n",
    "    n = np.shape(A)[0]\n",
    "    M = shift * np.eye(n) - A\n",
    "    P, L, R = spla.lu(M)\n",
    "    while k < K:\n",
    "        # M @ z_k = y_k\n",
    "        # P L R @ z_k = y_k\n",
    "        # L R @ z_k = P.T @ y_k\n",
    "        Rz_k = spla.solve_triangular(L, P.T @ y_k, lower=True)\n",
    "        z_k = spla.solve_triangular(R, Rz_k, lower=False)\n",
    "        y_k = 1/spla.norm(z_k) * z_k\n",
    "        q_k = rayleigh_quot(A, y_k)\n",
    "        k += 1\n",
    "        print(f'Rayleigh Quotient: {q_k:.3f} ({k} iterations)')\n",
    "    return q_k, y_k"
   ]
  },
  {
   "cell_type": "markdown",
   "metadata": {},
   "source": [
    "**(e) Testen Sie Ihre Prozedur wie oben mit der Matrix $A$. Verwenden Sie als Shift zunächst $\\mu = 4$. Was beobachten Sie im Vergleich zu oben? Verwenden Sie anschließend die Shifts $\\mu = -3$ und $\\mu = 0$. Was passiert und warum?**\n"
   ]
  },
  {
   "cell_type": "code",
   "execution_count": 9,
   "metadata": {
    "scrolled": true
   },
   "outputs": [
    {
     "name": "stdout",
     "output_type": "stream",
     "text": [
      "shift: 4\n",
      "Rayleigh Quotient: 4.055 (1 iterations)\n",
      "Rayleigh Quotient: 5.293 (2 iterations)\n",
      "Rayleigh Quotient: 4.930 (3 iterations)\n",
      "Rayleigh Quotient: 5.016 (4 iterations)\n",
      "Rayleigh Quotient: 4.997 (5 iterations)\n",
      "Rayleigh Quotient: 5.000 (6 iterations)\n",
      "Rayleigh Quotient: 5.000 (7 iterations)\n",
      "Rayleigh Quotient: 5.000 (8 iterations)\n",
      "Rayleigh Quotient: 5.000 (9 iterations)\n",
      "Rayleigh Quotient: 5.000 (10 iterations)\n",
      "Rayleigh Quotient: 5.000 (11 iterations)\n",
      "Rayleigh Quotient: 5.000 (12 iterations)\n",
      "Rayleigh Quotient: 5.000 (13 iterations)\n",
      "Rayleigh Quotient: 5.000 (14 iterations)\n",
      "Rayleigh Quotient: 5.000 (15 iterations)\n",
      "Rayleigh Quotient: 5.000 (16 iterations)\n",
      "Rayleigh Quotient: 5.000 (17 iterations)\n",
      "Rayleigh Quotient: 5.000 (18 iterations)\n",
      "Rayleigh Quotient: 5.000 (19 iterations)\n",
      "Rayleigh Quotient: 5.000 (20 iterations)\n",
      "Rayleigh Quotient: 5.000 (21 iterations)\n",
      "Rayleigh Quotient: 5.000 (22 iterations)\n",
      "Rayleigh Quotient: 5.000 (23 iterations)\n",
      "Rayleigh Quotient: 5.000 (24 iterations)\n",
      "Rayleigh Quotient: 5.000 (25 iterations)\n",
      "Rayleigh Quotient: 5.000 (26 iterations)\n",
      "Rayleigh Quotient: 5.000 (27 iterations)\n",
      "Rayleigh Quotient: 5.000 (28 iterations)\n",
      "Rayleigh Quotient: 5.000 (29 iterations)\n",
      "Rayleigh Quotient: 5.000 (30 iterations)\n",
      "shift: -3\n",
      "Rayleigh Quotient: -2.945 (1 iterations)\n",
      "Rayleigh Quotient: -4.019 (2 iterations)\n",
      "Rayleigh Quotient: -4.007 (3 iterations)\n",
      "Rayleigh Quotient: -3.998 (4 iterations)\n",
      "Rayleigh Quotient: -4.000 (5 iterations)\n",
      "Rayleigh Quotient: -4.000 (6 iterations)\n",
      "Rayleigh Quotient: -4.000 (7 iterations)\n",
      "Rayleigh Quotient: -4.000 (8 iterations)\n",
      "Rayleigh Quotient: -4.000 (9 iterations)\n",
      "Rayleigh Quotient: -4.000 (10 iterations)\n",
      "Rayleigh Quotient: -4.000 (11 iterations)\n",
      "Rayleigh Quotient: -4.000 (12 iterations)\n",
      "Rayleigh Quotient: -4.000 (13 iterations)\n",
      "Rayleigh Quotient: -4.000 (14 iterations)\n",
      "Rayleigh Quotient: -4.000 (15 iterations)\n",
      "Rayleigh Quotient: -4.000 (16 iterations)\n",
      "Rayleigh Quotient: -4.000 (17 iterations)\n",
      "Rayleigh Quotient: -4.000 (18 iterations)\n",
      "Rayleigh Quotient: -4.000 (19 iterations)\n",
      "Rayleigh Quotient: -4.000 (20 iterations)\n",
      "Rayleigh Quotient: -4.000 (21 iterations)\n",
      "Rayleigh Quotient: -4.000 (22 iterations)\n",
      "Rayleigh Quotient: -4.000 (23 iterations)\n",
      "Rayleigh Quotient: -4.000 (24 iterations)\n",
      "Rayleigh Quotient: -4.000 (25 iterations)\n",
      "Rayleigh Quotient: -4.000 (26 iterations)\n",
      "Rayleigh Quotient: -4.000 (27 iterations)\n",
      "Rayleigh Quotient: -4.000 (28 iterations)\n",
      "Rayleigh Quotient: -4.000 (29 iterations)\n",
      "Rayleigh Quotient: -4.000 (30 iterations)\n",
      "shift: 0\n",
      "Rayleigh Quotient: 0.097 (1 iterations)\n",
      "Rayleigh Quotient: 1.167 (2 iterations)\n",
      "Rayleigh Quotient: 0.985 (3 iterations)\n",
      "Rayleigh Quotient: 1.065 (4 iterations)\n",
      "Rayleigh Quotient: 1.007 (5 iterations)\n",
      "Rayleigh Quotient: 0.998 (6 iterations)\n",
      "Rayleigh Quotient: 1.001 (7 iterations)\n",
      "Rayleigh Quotient: 0.999 (8 iterations)\n",
      "Rayleigh Quotient: 1.000 (9 iterations)\n",
      "Rayleigh Quotient: 1.000 (10 iterations)\n",
      "Rayleigh Quotient: 1.000 (11 iterations)\n",
      "Rayleigh Quotient: 1.000 (12 iterations)\n",
      "Rayleigh Quotient: 1.000 (13 iterations)\n",
      "Rayleigh Quotient: 1.000 (14 iterations)\n",
      "Rayleigh Quotient: 1.000 (15 iterations)\n",
      "Rayleigh Quotient: 1.000 (16 iterations)\n",
      "Rayleigh Quotient: 1.000 (17 iterations)\n",
      "Rayleigh Quotient: 1.000 (18 iterations)\n",
      "Rayleigh Quotient: 1.000 (19 iterations)\n",
      "Rayleigh Quotient: 1.000 (20 iterations)\n",
      "Rayleigh Quotient: 1.000 (21 iterations)\n",
      "Rayleigh Quotient: 1.000 (22 iterations)\n",
      "Rayleigh Quotient: 1.000 (23 iterations)\n",
      "Rayleigh Quotient: 1.000 (24 iterations)\n",
      "Rayleigh Quotient: 1.000 (25 iterations)\n",
      "Rayleigh Quotient: 1.000 (26 iterations)\n",
      "Rayleigh Quotient: 1.000 (27 iterations)\n",
      "Rayleigh Quotient: 1.000 (28 iterations)\n",
      "Rayleigh Quotient: 1.000 (29 iterations)\n",
      "Rayleigh Quotient: 1.000 (30 iterations)\n"
     ]
    },
    {
     "data": {
      "text/plain": [
       "(0.9999999999999607,\n",
       " array([ 0.2236068 , -0.67082039, -0.2236068 ,  0.67082039]))"
      ]
     },
     "execution_count": 9,
     "metadata": {},
     "output_type": "execute_result"
    }
   ],
   "source": [
    "print(f'shift: 4')\n",
    "power_iteration_shift(30, A, np.array([1, 1, 1, 1]), 4)\n",
    "print(f'shift: -3')\n",
    "power_iteration_shift(30, A, np.array([1, 1, 1, 1]), -3)\n",
    "print(f'shift: 0')\n",
    "power_iteration_shift(30, A, np.array([1, 1, 1, 1]), 0)\n"
   ]
  },
  {
   "cell_type": "markdown",
   "metadata": {},
   "source": [
    "## Rayleigh-Quotienten-Iteration"
   ]
  },
  {
   "cell_type": "markdown",
   "metadata": {},
   "source": [
    "**(f) Kopieren Sie Ihre Prozedur aus Teil (d) und ändern Sie diese zur Rayleigh-Quotienten-Iteration ab. Testen Sie diese wie in Teil (e). Verwenden Sie auch einmal einen besonders schlechten Shift, z.B. $\\mu = 100$.**\n",
    "\n",
    "Ggf. sollten Sie noch ein Abbruchkriterium ergänzen, z.B. falls $\\left\\lVert Av-\\lambda v \\right\\rVert_2<10^{-14}$ für die aktuelle Approximation $\\lambda,v$ an Eigenwert und Eigenvektor gilt (sonst kann die Matrix $\\mu I - A$ irgendwann singulär werden)."
   ]
  },
  {
   "cell_type": "code",
   "execution_count": 10,
   "metadata": {},
   "outputs": [],
   "source": [
    "def rayleigh_iteration(K, A, z0, shift0):\n",
    "    shift = shift0\n",
    "    y_k = 1/spla.norm(z0) * z0\n",
    "    z_k = y_k\n",
    "    k = 0\n",
    "    n = np.shape(A)[0]\n",
    "    while k < K:\n",
    "        # M @ z_k = y_k\n",
    "        # P L R @ z_k = y_k\n",
    "        # L R @ z_k = P.T @ y_k\n",
    "        M = shift * np.eye(n) - A\n",
    "        P, L, R = spla.lu(M)\n",
    "        Rz_k = spla.solve_triangular(L, P.T @ y_k, lower=True)\n",
    "        z_k = spla.solve_triangular(R, Rz_k, lower=False)\n",
    "        y_k = 1/spla.norm(z_k) * z_k\n",
    "        q_k = rayleigh_quot(A, y_k)\n",
    "        shift = q_k\n",
    "        k += 1\n",
    "        print(f'Rayleigh Quotient: {q_k:.3f} ({k} iterations)')\n",
    "\n",
    "        norm = spla.norm(A @ y_k - q_k * y_k)\n",
    "        if norm < 1e-14:\n",
    "            print(f'Stopping criteria reached after {k} iterations.')\n",
    "            return q_k, y_k\n",
    "\n",
    "    return q_k, y_k"
   ]
  },
  {
   "cell_type": "code",
   "execution_count": 11,
   "metadata": {},
   "outputs": [
    {
     "name": "stdout",
     "output_type": "stream",
     "text": [
      "Rayleigh Quotient: 4.055 (1 iterations)\n",
      "Rayleigh Quotient: 5.272 (2 iterations)\n",
      "Rayleigh Quotient: 5.014 (3 iterations)\n",
      "Rayleigh Quotient: 5.000 (4 iterations)\n",
      "Rayleigh Quotient: 5.000 (5 iterations)\n",
      "Rayleigh Quotient: 5.000 (6 iterations)\n",
      "Stopping criteria reached after 6 iterations.\n"
     ]
    },
    {
     "data": {
      "text/plain": [
       "(5.0,\n",
       " array([ 5.77350269e-01,  5.77350269e-01, -5.77350269e-01,  4.31272691e-21]))"
      ]
     },
     "execution_count": 11,
     "metadata": {},
     "output_type": "execute_result"
    }
   ],
   "source": [
    "rayleigh_iteration(100, A, np.array([1, 1, 1, 1]), 4)"
   ]
  },
  {
   "cell_type": "code",
   "execution_count": 12,
   "metadata": {},
   "outputs": [
    {
     "name": "stdout",
     "output_type": "stream",
     "text": [
      "Rayleigh Quotient: 8.300 (1 iterations)\n",
      "Rayleigh Quotient: 7.454 (2 iterations)\n",
      "Rayleigh Quotient: 5.607 (3 iterations)\n",
      "Rayleigh Quotient: 5.061 (4 iterations)\n",
      "Rayleigh Quotient: 5.001 (5 iterations)\n",
      "Rayleigh Quotient: 5.000 (6 iterations)\n",
      "Rayleigh Quotient: 5.000 (7 iterations)\n",
      "Stopping criteria reached after 7 iterations.\n"
     ]
    },
    {
     "data": {
      "text/plain": [
       "(5.000000000000004,\n",
       " array([ 5.77350269e-01,  5.77350269e-01, -5.77350269e-01,  7.00900508e-16]))"
      ]
     },
     "execution_count": 12,
     "metadata": {},
     "output_type": "execute_result"
    }
   ],
   "source": [
    "rayleigh_iteration(100, A, np.array([1, 1, 1, 1]), 100)\n"
   ]
  },
  {
   "cell_type": "code",
   "execution_count": 13,
   "metadata": {},
   "outputs": [
    {
     "name": "stdout",
     "output_type": "stream",
     "text": [
      "Rayleigh Quotient: 0.097 (1 iterations)\n",
      "Rayleigh Quotient: 1.189 (2 iterations)\n",
      "Rayleigh Quotient: 1.084 (3 iterations)\n",
      "Rayleigh Quotient: 0.985 (4 iterations)\n",
      "Rayleigh Quotient: 0.994 (5 iterations)\n",
      "Rayleigh Quotient: 1.001 (6 iterations)\n",
      "Rayleigh Quotient: 1.000 (7 iterations)\n",
      "Rayleigh Quotient: 1.000 (8 iterations)\n",
      "Rayleigh Quotient: 1.000 (9 iterations)\n",
      "Rayleigh Quotient: 1.000 (10 iterations)\n",
      "Rayleigh Quotient: 1.000 (11 iterations)\n",
      "Rayleigh Quotient: 1.000 (12 iterations)\n",
      "Rayleigh Quotient: 1.000 (13 iterations)\n",
      "Rayleigh Quotient: 1.000 (14 iterations)\n",
      "Rayleigh Quotient: 1.000 (15 iterations)\n",
      "Rayleigh Quotient: 1.000 (16 iterations)\n",
      "Rayleigh Quotient: 1.000 (17 iterations)\n",
      "Rayleigh Quotient: 1.000 (18 iterations)\n",
      "Rayleigh Quotient: 1.000 (19 iterations)\n",
      "Rayleigh Quotient: 1.000 (20 iterations)\n",
      "Rayleigh Quotient: 1.000 (21 iterations)\n",
      "Rayleigh Quotient: 1.000 (22 iterations)\n",
      "Rayleigh Quotient: 1.000 (23 iterations)\n",
      "Rayleigh Quotient: 1.000 (24 iterations)\n",
      "Rayleigh Quotient: 1.000 (25 iterations)\n",
      "Rayleigh Quotient: 1.000 (26 iterations)\n",
      "Rayleigh Quotient: 1.000 (27 iterations)\n",
      "Rayleigh Quotient: 1.000 (28 iterations)\n",
      "Rayleigh Quotient: 1.000 (29 iterations)\n",
      "Rayleigh Quotient: 1.000 (30 iterations)\n"
     ]
    },
    {
     "data": {
      "text/plain": [
       "(0.9999999999999998,\n",
       " array([-0.01464108,  0.70695519,  0.01464108, -0.70695519]))"
      ]
     },
     "execution_count": 13,
     "metadata": {},
     "output_type": "execute_result"
    }
   ],
   "source": [
    "rayleigh_iteration(30, A, np.array([1, 1, 1, 1]), 0)\n"
   ]
  },
  {
   "cell_type": "code",
   "execution_count": null,
   "metadata": {},
   "outputs": [],
   "source": []
  },
  {
   "cell_type": "code",
   "execution_count": null,
   "metadata": {},
   "outputs": [],
   "source": []
  }
 ],
 "metadata": {
  "kernelspec": {
   "display_name": "Python 3 (ipykernel)",
   "language": "python",
   "name": "python3"
  },
  "language_info": {
   "codemirror_mode": {
    "name": "ipython",
    "version": 3
   },
   "file_extension": ".py",
   "mimetype": "text/x-python",
   "name": "python",
   "nbconvert_exporter": "python",
   "pygments_lexer": "ipython3",
   "version": "3.12.3"
  }
 },
 "nbformat": 4,
 "nbformat_minor": 4
}
