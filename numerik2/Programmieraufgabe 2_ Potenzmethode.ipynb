{
 "cells": [
  {
   "cell_type": "markdown",
   "metadata": {},
   "source": [
    "# Notebook zu Potenzenmethode & Rayleigh-Quotienten-Iteration"
   ]
  },
  {
   "cell_type": "code",
   "execution_count": 61,
   "metadata": {},
   "outputs": [],
   "source": [
    "import numpy as np\n",
    "import scipy.linalg as spla"
   ]
  },
  {
   "cell_type": "markdown",
   "metadata": {},
   "source": [
    "Wir betrachten die Matrizen\n",
    "$$\n",
    "A = \\begin{pmatrix} 5 & 4 & 4 & 5 \\\\ 9 & 4 & 8 & 3 \\\\ -9 & -4 & -8 & -5 \\\\ 0 & 1 & 1 & 2 \\end{pmatrix} \\qquad \\text{und} \\qquad\n",
    "B = \\begin{pmatrix} 5 & 4 & 4 & 5 \\\\ 6 & 4 & 5 & 3 \\\\ -6 & -4 & -5 & -5 \\\\ 0 & 1 & 1 & 2 \\end{pmatrix}.\n",
    "$$\n",
    "Anhand dieser Matrizen wollen wir die Verfahren zur Approximation von Eigenwerten testen und verstehen. \n",
    "\n",
    "**(a) Um die Ergebnisse der Verfahren später beurteilen zu können, lassen Sie sich von Python zunächst die \"korrekten\" Eigenwerte berechnen und anzeigen. Benutzen Sie dazu den Befehl `eig` aus dem `linalg` Modul von `scipy`. Da dieses Modul oben mit dem Namen `spla` eingebunden wurde, wird der Befehl also über `spla.eig(...)` aufgerufen.**"
   ]
  },
  {
   "cell_type": "code",
   "execution_count": 62,
   "metadata": {},
   "outputs": [
    {
     "name": "stdout",
     "output_type": "stream",
     "text": [
      "[[ 5.  4.  4.  5.]\n",
      " [ 9.  4.  8.  3.]\n",
      " [-9. -4. -8. -5.]\n",
      " [ 0.  1.  1.  2.]]\n",
      "[[ 5.  4.  4.  5.]\n",
      " [ 6.  4.  5.  3.]\n",
      " [-6. -4. -5. -5.]\n",
      " [ 0.  1.  1.  2.]]\n"
     ]
    }
   ],
   "source": [
    "A = np.array([[5.0, 4, 4, 5],[9, 4, 8, 3],[-9, -4, -8, -5],[0, 1, 1, 2]])\n",
    "B = np.array([[5.0, 4, 4, 5],[6, 4, 5, 3],[-6, -4, -5, -5],[0, 1, 1, 2]])\n",
    "print(A)\n",
    "print(B)"
   ]
  },
  {
   "cell_type": "code",
   "execution_count": 63,
   "metadata": {},
   "outputs": [
    {
     "name": "stdout",
     "output_type": "stream",
     "text": [
      "(array([ 5.+0.j, -4.+0.j,  1.+1.j,  1.-1.j]), array([[ 5.77350269e-01+0.00000000e+00j,  1.92296269e-16+0.00000000e+00j,\n",
      "        -1.59594560e-16-5.00000000e-01j, -1.59594560e-16+5.00000000e-01j],\n",
      "       [ 5.77350269e-01+0.00000000e+00j, -7.07106781e-01+0.00000000e+00j,\n",
      "        -5.00000000e-01+0.00000000e+00j, -5.00000000e-01-0.00000000e+00j],\n",
      "       [-5.77350269e-01+0.00000000e+00j,  7.07106781e-01+0.00000000e+00j,\n",
      "         1.38777878e-16+5.00000000e-01j,  1.38777878e-16-5.00000000e-01j],\n",
      "       [ 0.00000000e+00+0.00000000e+00j,  0.00000000e+00+0.00000000e+00j,\n",
      "         5.00000000e-01-1.04083409e-16j,  5.00000000e-01+1.04083409e-16j]]))\n",
      "(array([ 5.+0.j, -1.+0.j,  1.+1.j,  1.-1.j]), array([[ 5.77350269e-01+0.00000000e+00j, -6.40987562e-17+0.00000000e+00j,\n",
      "         4.99600361e-16+5.00000000e-01j,  4.99600361e-16-5.00000000e-01j],\n",
      "       [ 5.77350269e-01+0.00000000e+00j,  7.07106781e-01+0.00000000e+00j,\n",
      "         5.00000000e-01+0.00000000e+00j,  5.00000000e-01-0.00000000e+00j],\n",
      "       [-5.77350269e-01+0.00000000e+00j, -7.07106781e-01+0.00000000e+00j,\n",
      "        -9.78384040e-16-5.00000000e-01j, -9.78384040e-16+5.00000000e-01j],\n",
      "       [ 2.56395025e-17+0.00000000e+00j,  3.14018492e-17+0.00000000e+00j,\n",
      "        -5.00000000e-01+2.56739074e-16j, -5.00000000e-01-2.56739074e-16j]]))\n"
     ]
    }
   ],
   "source": [
    "print(spla.eig(A))\n",
    "print(spla.eig(B))"
   ]
  },
  {
   "cell_type": "markdown",
   "metadata": {},
   "source": [
    "## Potenzenmethode"
   ]
  },
  {
   "cell_type": "markdown",
   "metadata": {},
   "source": [
    "**(b) Schreiben Sie eine Prozedur, die `K` Iterationen der Potenzenmethode für eine Matrix `A` und einen Startvektor `z0` berechnet. Die Prozedur soll die aktuelle Approximation an den Eigenwert in jedem Schritt auf dem Bildschirm ausgeben, und am Ende die finale Approximationen an den Eigenwert und den Eigenvektor an das Hauptprogramm zurückgeben.**"
   ]
  },
  {
   "cell_type": "markdown",
   "metadata": {},
   "source": [
    "**Hinweis:** Das komplexe Skalarprodukt $x^H y = \\overline{x}^T y$ zweier Vektoren $x$ und $y$ erhalten Sie in numpy durch `np.vdot(x,y)`."
   ]
  },
  {
   "cell_type": "markdown",
   "metadata": {},
   "source": [
    "Außerdem ein kleiner Tipp, _falls_ Sie an einer schönen Bildschrimausgabe interessiert sind: In sogenannten \"F-Strings\" können Sie die Darstellung von Zahlen in Strings (also z.B. für den `print`-Befehl) beeinflussen. Ein Beispiel:"
   ]
  },
  {
   "cell_type": "code",
   "execution_count": 64,
   "metadata": {},
   "outputs": [
    {
     "name": "stdout",
     "output_type": "stream",
     "text": [
      "Die Variable hat den Wert 1.4142135623730951\n",
      "Die Variable hat den Wert 1.414\n"
     ]
    }
   ],
   "source": [
    "a = np.sqrt(2) \n",
    "print('Die Variable hat den Wert',a)\n",
    "print(f'Die Variable hat den Wert {a:.3f}')"
   ]
  },
  {
   "cell_type": "markdown",
   "metadata": {},
   "source": [
    "In der zweiten Variante wurde die Darstellung der in `a` gespeicherten Zahl spezifiziert. Das führende `f` vor dem String erlaubt solche Formatierungen. Die geschweiften Klammern stellen einen Platzhalter für eine Zahl, die formatiert ausgegeben werden soll, dar. Vor dem Doppelpunkt wird angegeben, welche Variable ausgegeben werden soll, und dahinter wird spezifiziert in welcher Darstellung. Das `f` steht für eine Fix point number (das Komma trennt also immer den ganzahligen Teil von dem Rest). Der Zusatz `.3` legt genauer fest, dass 3 Nachkommastellen nach dem Dezimalpunkt angezeigt werden sollen."
   ]
  },
  {
   "cell_type": "code",
   "execution_count": 65,
   "metadata": {},
   "outputs": [],
   "source": [
    "def rayleigh_quot(A, v):\n",
    "    return 1/np.vdot(v, v) * np.vdot(v, A @ v)\n",
    "\n",
    "def power_iteration(K, A, z0):\n",
    "    y_k = 1/spla.norm(z0) * z0\n",
    "    z_k = y_k\n",
    "    k = 0\n",
    "    while k < K:\n",
    "        z_k = A @ y_k\n",
    "        q_k = np.vdot(y_k, z_k)\n",
    "        y_k = 1/spla.norm(z_k) * z_k\n",
    "        k += 1\n",
    "        print(f'Rayleigh Quotient: {q_k:.3f} ({k} iterations)')\n",
    "    return q_k, y_k\n",
    "\n",
    "        "
   ]
  },
  {
   "cell_type": "markdown",
   "metadata": {},
   "source": [
    "**(c) Testen Sie die Prozedur mit den obigen Matrizen $A$ und $B$. Starten Sie dabei mit einem beliebigen Vektor, z.B. $z_0 = (1,1,1,1)^T$, und berechnen Sie 30 Iterationen. Gegen welchen Eigenwert von $A$ bzw. $B$ konvergiert die Methode, und warum? Vergleichen und erklären Sie die Konvergenzgeschwindigkeiten. Überprüfen Sie außerdem den Fehler der finalen Approximationen $\\lambda,v$ an Eigenwert und Eigenvektor, indem Sie den Wert von $\\left\\lVert Av-\\lambda v \\right\\rVert_2$ für die jeweilige Matrix ausgeben.**"
   ]
  },
  {
   "cell_type": "code",
   "execution_count": 66,
   "metadata": {
    "scrolled": true
   },
   "outputs": [
    {
     "name": "stdout",
     "output_type": "stream",
     "text": [
      "Rayleigh Quotient: 5.000 (1 iterations)\n",
      "Rayleigh Quotient: 3.246 (2 iterations)\n",
      "Rayleigh Quotient: 7.040 (3 iterations)\n",
      "Rayleigh Quotient: 3.604 (4 iterations)\n",
      "Rayleigh Quotient: 6.271 (5 iterations)\n",
      "Rayleigh Quotient: 4.072 (6 iterations)\n",
      "Rayleigh Quotient: 5.816 (7 iterations)\n",
      "Rayleigh Quotient: 4.394 (8 iterations)\n",
      "Rayleigh Quotient: 5.517 (9 iterations)\n",
      "Rayleigh Quotient: 4.607 (10 iterations)\n",
      "Rayleigh Quotient: 5.328 (11 iterations)\n",
      "Rayleigh Quotient: 4.746 (12 iterations)\n",
      "Rayleigh Quotient: 5.208 (13 iterations)\n",
      "Rayleigh Quotient: 4.837 (14 iterations)\n",
      "Rayleigh Quotient: 5.133 (15 iterations)\n",
      "Rayleigh Quotient: 4.895 (16 iterations)\n",
      "Rayleigh Quotient: 5.085 (17 iterations)\n",
      "Rayleigh Quotient: 4.933 (18 iterations)\n",
      "Rayleigh Quotient: 5.054 (19 iterations)\n",
      "Rayleigh Quotient: 4.957 (20 iterations)\n",
      "Rayleigh Quotient: 5.035 (21 iterations)\n",
      "Rayleigh Quotient: 4.972 (22 iterations)\n",
      "Rayleigh Quotient: 5.022 (23 iterations)\n",
      "Rayleigh Quotient: 4.982 (24 iterations)\n",
      "Rayleigh Quotient: 5.014 (25 iterations)\n",
      "Rayleigh Quotient: 4.989 (26 iterations)\n",
      "Rayleigh Quotient: 5.009 (27 iterations)\n",
      "Rayleigh Quotient: 4.993 (28 iterations)\n",
      "Rayleigh Quotient: 5.006 (29 iterations)\n",
      "Rayleigh Quotient: 4.995 (30 iterations)\n",
      "---\n",
      "Rayleigh Quotient: 5.000 (1 iterations)\n",
      "Rayleigh Quotient: 5.184 (2 iterations)\n",
      "Rayleigh Quotient: 5.143 (3 iterations)\n",
      "Rayleigh Quotient: 4.962 (4 iterations)\n",
      "Rayleigh Quotient: 4.989 (5 iterations)\n",
      "Rayleigh Quotient: 4.995 (6 iterations)\n",
      "Rayleigh Quotient: 5.000 (7 iterations)\n",
      "Rayleigh Quotient: 5.000 (8 iterations)\n",
      "Rayleigh Quotient: 5.000 (9 iterations)\n",
      "Rayleigh Quotient: 5.000 (10 iterations)\n",
      "Rayleigh Quotient: 5.000 (11 iterations)\n",
      "Rayleigh Quotient: 5.000 (12 iterations)\n",
      "Rayleigh Quotient: 5.000 (13 iterations)\n",
      "Rayleigh Quotient: 5.000 (14 iterations)\n",
      "Rayleigh Quotient: 5.000 (15 iterations)\n",
      "Rayleigh Quotient: 5.000 (16 iterations)\n",
      "Rayleigh Quotient: 5.000 (17 iterations)\n",
      "Rayleigh Quotient: 5.000 (18 iterations)\n",
      "Rayleigh Quotient: 5.000 (19 iterations)\n",
      "Rayleigh Quotient: 5.000 (20 iterations)\n",
      "Rayleigh Quotient: 5.000 (21 iterations)\n",
      "Rayleigh Quotient: 5.000 (22 iterations)\n",
      "Rayleigh Quotient: 5.000 (23 iterations)\n",
      "Rayleigh Quotient: 5.000 (24 iterations)\n",
      "Rayleigh Quotient: 5.000 (25 iterations)\n",
      "Rayleigh Quotient: 5.000 (26 iterations)\n",
      "Rayleigh Quotient: 5.000 (27 iterations)\n",
      "Rayleigh Quotient: 5.000 (28 iterations)\n",
      "Rayleigh Quotient: 5.000 (29 iterations)\n",
      "Rayleigh Quotient: 5.000 (30 iterations)\n"
     ]
    }
   ],
   "source": [
    "eig_val_A, eig_vec_A = power_iteration(30, A, np.array([1, 1, 1, 1]))\n",
    "print('---')\n",
    "eig_val_B, eig_vec_B = power_iteration(30, B, np.array([1, 1, 1, 1]))\n"
   ]
  },
  {
   "cell_type": "code",
   "execution_count": 67,
   "metadata": {},
   "outputs": [
    {
     "name": "stdout",
     "output_type": "stream",
     "text": [
      "Absolute error A: 0.00875926554077168\n",
      "Absolute error B: 4.443150246491174e-16\n"
     ]
    }
   ],
   "source": [
    "print(f'Absolute error A: {spla.norm(A @ eig_vec_A - eig_val_A * eig_vec_A)}')\n",
    "print(f'Absolute error B: {spla.norm(B @ eig_vec_B - eig_val_B * eig_vec_B)}')"
   ]
  },
  {
   "cell_type": "markdown",
   "metadata": {},
   "source": [
    "## Inverse Potenzenmethode mit Shift"
   ]
  },
  {
   "cell_type": "markdown",
   "metadata": {},
   "source": [
    "**(d) Schreiben Sie nun eine Prozedur, welche einen zusätzlichen Eingabeparameter $\\mu$ hat und die inverse Potenzenmethode mit Shift $\\mu$ durchführt.**\n",
    "\n",
    "Zur Lösung der auftretenden LGS verwenden wir eine LR-Zerlegung. Für eine Matrix $A$ erhalten Sie diese über den Befehl, `spla.lu(A)`, welcher drei Matrizen $P,L,R$ (Permutationsmatrix, untere und obere Dreiecksmatrix) zurückgibt, für die $A = PLR$ gilt. ACHTUNG: Aus der VL kennen wir die Zerlegung in der Form $PA=LR$!\n",
    "\n",
    "Mit dem Befehl `solve_triangular(A,b,lower=True)` bzw. `solve_triangular(A,b,lower=False)` können Sie dann LGS mit einer unteren/oberen Dreiecksmatrix durch Vorwärts- bzw. Rückwärtssubstitution lösen lassen."
   ]
  },
  {
   "cell_type": "code",
   "execution_count": 68,
   "metadata": {},
   "outputs": [],
   "source": [
    "def power_iteration_shift(K, A, z0, shift):\n",
    "    y_k = 1/spla.norm(z0) * z0\n",
    "    z_k = y_k\n",
    "    k = 0\n",
    "    n = np.shape(A)[0]\n",
    "    M = shift * np.eye(n) - A\n",
    "    P, L, R = spla.lu(M)\n",
    "    while k < K:\n",
    "        # M @ z_k = y_k\n",
    "        # P L R @ z_k = y_k\n",
    "        # L R @ z_k = P.T @ y_k\n",
    "        Rz_k = spla.solve_triangular(L, P.T @ y_k, lower=True)\n",
    "        z_k = spla.solve_triangular(R, Rz_k, lower=False)\n",
    "        y_k = 1/spla.norm(z_k) * z_k\n",
    "        q_k = rayleigh_quot(A, y_k)\n",
    "        k += 1\n",
    "        print(f'Rayleigh Quotient: {q_k:.3f} ({k} iterations)')\n",
    "    return q_k, y_k"
   ]
  },
  {
   "cell_type": "markdown",
   "metadata": {},
   "source": [
    "**(e) Testen Sie Ihre Prozedur wie oben mit der Matrix $A$. Verwenden Sie als Shift zunächst $\\mu = 4$. Was beobachten Sie im Vergleich zu oben? Verwenden Sie anschließend die Shifts $\\mu = -3$ und $\\mu = 0$. Was passiert und warum?**\n"
   ]
  },
  {
   "cell_type": "code",
   "execution_count": 69,
   "metadata": {
    "scrolled": true
   },
   "outputs": [
    {
     "name": "stdout",
     "output_type": "stream",
     "text": [
      "shift: 4\n",
      "Rayleigh Quotient: 4.055 (1 iterations)\n",
      "Rayleigh Quotient: 5.293 (2 iterations)\n",
      "Rayleigh Quotient: 4.930 (3 iterations)\n",
      "Rayleigh Quotient: 5.016 (4 iterations)\n",
      "Rayleigh Quotient: 4.997 (5 iterations)\n",
      "Rayleigh Quotient: 5.000 (6 iterations)\n",
      "Rayleigh Quotient: 5.000 (7 iterations)\n",
      "Rayleigh Quotient: 5.000 (8 iterations)\n",
      "Rayleigh Quotient: 5.000 (9 iterations)\n",
      "Rayleigh Quotient: 5.000 (10 iterations)\n",
      "Rayleigh Quotient: 5.000 (11 iterations)\n",
      "Rayleigh Quotient: 5.000 (12 iterations)\n",
      "Rayleigh Quotient: 5.000 (13 iterations)\n",
      "Rayleigh Quotient: 5.000 (14 iterations)\n",
      "Rayleigh Quotient: 5.000 (15 iterations)\n",
      "Rayleigh Quotient: 5.000 (16 iterations)\n",
      "Rayleigh Quotient: 5.000 (17 iterations)\n",
      "Rayleigh Quotient: 5.000 (18 iterations)\n",
      "Rayleigh Quotient: 5.000 (19 iterations)\n",
      "Rayleigh Quotient: 5.000 (20 iterations)\n",
      "Rayleigh Quotient: 5.000 (21 iterations)\n",
      "Rayleigh Quotient: 5.000 (22 iterations)\n",
      "Rayleigh Quotient: 5.000 (23 iterations)\n",
      "Rayleigh Quotient: 5.000 (24 iterations)\n",
      "Rayleigh Quotient: 5.000 (25 iterations)\n",
      "Rayleigh Quotient: 5.000 (26 iterations)\n",
      "Rayleigh Quotient: 5.000 (27 iterations)\n",
      "Rayleigh Quotient: 5.000 (28 iterations)\n",
      "Rayleigh Quotient: 5.000 (29 iterations)\n",
      "Rayleigh Quotient: 5.000 (30 iterations)\n",
      "shift: -3\n",
      "Rayleigh Quotient: -2.945 (1 iterations)\n",
      "Rayleigh Quotient: -4.019 (2 iterations)\n",
      "Rayleigh Quotient: -4.007 (3 iterations)\n",
      "Rayleigh Quotient: -3.998 (4 iterations)\n",
      "Rayleigh Quotient: -4.000 (5 iterations)\n",
      "Rayleigh Quotient: -4.000 (6 iterations)\n",
      "Rayleigh Quotient: -4.000 (7 iterations)\n",
      "Rayleigh Quotient: -4.000 (8 iterations)\n",
      "Rayleigh Quotient: -4.000 (9 iterations)\n",
      "Rayleigh Quotient: -4.000 (10 iterations)\n",
      "Rayleigh Quotient: -4.000 (11 iterations)\n",
      "Rayleigh Quotient: -4.000 (12 iterations)\n",
      "Rayleigh Quotient: -4.000 (13 iterations)\n",
      "Rayleigh Quotient: -4.000 (14 iterations)\n",
      "Rayleigh Quotient: -4.000 (15 iterations)\n",
      "Rayleigh Quotient: -4.000 (16 iterations)\n",
      "Rayleigh Quotient: -4.000 (17 iterations)\n",
      "Rayleigh Quotient: -4.000 (18 iterations)\n",
      "Rayleigh Quotient: -4.000 (19 iterations)\n",
      "Rayleigh Quotient: -4.000 (20 iterations)\n",
      "Rayleigh Quotient: -4.000 (21 iterations)\n",
      "Rayleigh Quotient: -4.000 (22 iterations)\n",
      "Rayleigh Quotient: -4.000 (23 iterations)\n",
      "Rayleigh Quotient: -4.000 (24 iterations)\n",
      "Rayleigh Quotient: -4.000 (25 iterations)\n",
      "Rayleigh Quotient: -4.000 (26 iterations)\n",
      "Rayleigh Quotient: -4.000 (27 iterations)\n",
      "Rayleigh Quotient: -4.000 (28 iterations)\n",
      "Rayleigh Quotient: -4.000 (29 iterations)\n",
      "Rayleigh Quotient: -4.000 (30 iterations)\n",
      "shift: 0\n",
      "Rayleigh Quotient: 0.097 (1 iterations)\n",
      "Rayleigh Quotient: 1.167 (2 iterations)\n",
      "Rayleigh Quotient: 0.985 (3 iterations)\n",
      "Rayleigh Quotient: 1.065 (4 iterations)\n",
      "Rayleigh Quotient: 1.007 (5 iterations)\n",
      "Rayleigh Quotient: 0.998 (6 iterations)\n",
      "Rayleigh Quotient: 1.001 (7 iterations)\n",
      "Rayleigh Quotient: 0.999 (8 iterations)\n",
      "Rayleigh Quotient: 1.000 (9 iterations)\n",
      "Rayleigh Quotient: 1.000 (10 iterations)\n",
      "Rayleigh Quotient: 1.000 (11 iterations)\n",
      "Rayleigh Quotient: 1.000 (12 iterations)\n",
      "Rayleigh Quotient: 1.000 (13 iterations)\n",
      "Rayleigh Quotient: 1.000 (14 iterations)\n",
      "Rayleigh Quotient: 1.000 (15 iterations)\n",
      "Rayleigh Quotient: 1.000 (16 iterations)\n",
      "Rayleigh Quotient: 1.000 (17 iterations)\n",
      "Rayleigh Quotient: 1.000 (18 iterations)\n",
      "Rayleigh Quotient: 1.000 (19 iterations)\n",
      "Rayleigh Quotient: 1.000 (20 iterations)\n",
      "Rayleigh Quotient: 1.000 (21 iterations)\n",
      "Rayleigh Quotient: 1.000 (22 iterations)\n",
      "Rayleigh Quotient: 1.000 (23 iterations)\n",
      "Rayleigh Quotient: 1.000 (24 iterations)\n",
      "Rayleigh Quotient: 1.000 (25 iterations)\n",
      "Rayleigh Quotient: 1.000 (26 iterations)\n",
      "Rayleigh Quotient: 1.000 (27 iterations)\n",
      "Rayleigh Quotient: 1.000 (28 iterations)\n",
      "Rayleigh Quotient: 1.000 (29 iterations)\n",
      "Rayleigh Quotient: 1.000 (30 iterations)\n"
     ]
    },
    {
     "data": {
      "text/plain": [
       "(np.float64(0.9999999999999607),\n",
       " array([ 0.2236068 , -0.67082039, -0.2236068 ,  0.67082039]))"
      ]
     },
     "execution_count": 69,
     "metadata": {},
     "output_type": "execute_result"
    }
   ],
   "source": [
    "print(f'shift: 4')\n",
    "power_iteration_shift(30, A, np.array([1, 1, 1, 1]), 4)\n",
    "print(f'shift: -3')\n",
    "power_iteration_shift(30, A, np.array([1, 1, 1, 1]), -3)\n",
    "print(f'shift: 0')\n",
    "power_iteration_shift(30, A, np.array([1, 1, 1, 1]), 0)\n"
   ]
  },
  {
   "cell_type": "markdown",
   "metadata": {},
   "source": [
    "## Rayleigh-Quotienten-Iteration"
   ]
  },
  {
   "cell_type": "markdown",
   "metadata": {},
   "source": [
    "**(f) Kopieren Sie Ihre Prozedur aus Teil (d) und ändern Sie diese zur Rayleigh-Quotienten-Iteration ab. Testen Sie diese wie in Teil (e). Verwenden Sie auch einmal einen besonders schlechten Shift, z.B. $\\mu = 100$.**\n",
    "\n",
    "Ggf. sollten Sie noch ein Abbruchkriterium ergänzen, z.B. falls $\\left\\lVert Av-\\lambda v \\right\\rVert_2<10^{-14}$ für die aktuelle Approximation $\\lambda,v$ an Eigenwert und Eigenvektor gilt (sonst kann die Matrix $\\mu I - A$ irgendwann singulär werden)."
   ]
  },
  {
   "cell_type": "code",
   "execution_count": 70,
   "metadata": {},
   "outputs": [],
   "source": [
    "def rayleigh_iteration(K, A, z0, shift0):\n",
    "    shift = shift0\n",
    "    y_k = 1/spla.norm(z0) * z0\n",
    "    z_k = y_k\n",
    "    k = 0\n",
    "    n = np.shape(A)[0]\n",
    "    while k < K:\n",
    "        # M @ z_k = y_k\n",
    "        # P L R @ z_k = y_k\n",
    "        # L R @ z_k = P.T @ y_k\n",
    "        M = shift * np.eye(n) - A\n",
    "        P, L, R = spla.lu(M)\n",
    "        Rz_k = spla.solve_triangular(L, P.T @ y_k, lower=True)\n",
    "        z_k = spla.solve_triangular(R, Rz_k, lower=False)\n",
    "        y_k = 1/spla.norm(z_k) * z_k\n",
    "        q_k = rayleigh_quot(A, y_k)\n",
    "        shift = q_k\n",
    "        k += 1\n",
    "        print(f'Rayleigh Quotient: {q_k:.3f} ({k} iterations)')\n",
    "\n",
    "        norm = spla.norm(A @ y_k - q_k * y_k)\n",
    "        if norm < 1e-14:\n",
    "            print(f'Stopping criteria reached after {k} iterations.')\n",
    "            return q_k, y_k\n",
    "\n",
    "    return q_k, y_k"
   ]
  },
  {
   "cell_type": "code",
   "execution_count": 71,
   "metadata": {},
   "outputs": [
    {
     "name": "stdout",
     "output_type": "stream",
     "text": [
      "Rayleigh Quotient: 4.055 (1 iterations)\n",
      "Rayleigh Quotient: 5.293 (2 iterations)\n",
      "Rayleigh Quotient: 4.930 (3 iterations)\n",
      "Rayleigh Quotient: 5.016 (4 iterations)\n",
      "Rayleigh Quotient: 4.997 (5 iterations)\n",
      "Rayleigh Quotient: 5.000 (6 iterations)\n",
      "Rayleigh Quotient: 5.000 (7 iterations)\n",
      "Rayleigh Quotient: 5.000 (8 iterations)\n",
      "Rayleigh Quotient: 5.000 (9 iterations)\n",
      "Rayleigh Quotient: 5.000 (10 iterations)\n",
      "Rayleigh Quotient: 5.000 (11 iterations)\n",
      "Rayleigh Quotient: 5.000 (12 iterations)\n",
      "Rayleigh Quotient: 5.000 (13 iterations)\n",
      "Rayleigh Quotient: 5.000 (14 iterations)\n",
      "Rayleigh Quotient: 5.000 (15 iterations)\n",
      "Rayleigh Quotient: 5.000 (16 iterations)\n",
      "Rayleigh Quotient: 5.000 (17 iterations)\n",
      "Rayleigh Quotient: 5.000 (18 iterations)\n",
      "Rayleigh Quotient: 5.000 (19 iterations)\n",
      "Rayleigh Quotient: 5.000 (20 iterations)\n",
      "Rayleigh Quotient: 5.000 (21 iterations)\n",
      "Rayleigh Quotient: 5.000 (22 iterations)\n",
      "Rayleigh Quotient: 5.000 (23 iterations)\n",
      "Rayleigh Quotient: 5.000 (24 iterations)\n",
      "Rayleigh Quotient: 5.000 (25 iterations)\n",
      "Rayleigh Quotient: 5.000 (26 iterations)\n",
      "Rayleigh Quotient: 5.000 (27 iterations)\n",
      "Rayleigh Quotient: 5.000 (28 iterations)\n",
      "Rayleigh Quotient: 5.000 (29 iterations)\n",
      "Stopping criteria reached after 29 iterations.\n"
     ]
    },
    {
     "data": {
      "text/plain": [
       "(np.float64(5.000000000000006),\n",
       " array([-5.77350269e-01, -5.77350269e-01,  5.77350269e-01, -3.33066907e-16]))"
      ]
     },
     "execution_count": 71,
     "metadata": {},
     "output_type": "execute_result"
    }
   ],
   "source": [
    "rayleigh_iteration(100, A, np.array([1, 1, 1, 1]), 4)"
   ]
  },
  {
   "cell_type": "code",
   "execution_count": 72,
   "metadata": {},
   "outputs": [
    {
     "name": "stdout",
     "output_type": "stream",
     "text": [
      "Rayleigh Quotient: 8.300 (1 iterations)\n",
      "Rayleigh Quotient: 10.443 (2 iterations)\n",
      "Rayleigh Quotient: 11.526 (3 iterations)\n",
      "Rayleigh Quotient: 11.867 (4 iterations)\n",
      "Rayleigh Quotient: 11.770 (5 iterations)\n",
      "Rayleigh Quotient: 11.444 (6 iterations)\n",
      "Rayleigh Quotient: 11.018 (7 iterations)\n",
      "Rayleigh Quotient: 10.563 (8 iterations)\n",
      "Rayleigh Quotient: 10.114 (9 iterations)\n",
      "Rayleigh Quotient: 9.691 (10 iterations)\n",
      "Rayleigh Quotient: 9.301 (11 iterations)\n",
      "Rayleigh Quotient: 8.944 (12 iterations)\n",
      "Rayleigh Quotient: 8.621 (13 iterations)\n",
      "Rayleigh Quotient: 8.330 (14 iterations)\n",
      "Rayleigh Quotient: 8.066 (15 iterations)\n",
      "Rayleigh Quotient: 7.829 (16 iterations)\n",
      "Rayleigh Quotient: 7.614 (17 iterations)\n",
      "Rayleigh Quotient: 7.420 (18 iterations)\n",
      "Rayleigh Quotient: 7.244 (19 iterations)\n",
      "Rayleigh Quotient: 7.084 (20 iterations)\n",
      "Rayleigh Quotient: 6.938 (21 iterations)\n",
      "Rayleigh Quotient: 6.805 (22 iterations)\n",
      "Rayleigh Quotient: 6.684 (23 iterations)\n",
      "Rayleigh Quotient: 6.573 (24 iterations)\n",
      "Rayleigh Quotient: 6.471 (25 iterations)\n",
      "Rayleigh Quotient: 6.378 (26 iterations)\n",
      "Rayleigh Quotient: 6.291 (27 iterations)\n",
      "Rayleigh Quotient: 6.212 (28 iterations)\n",
      "Rayleigh Quotient: 6.138 (29 iterations)\n",
      "Rayleigh Quotient: 6.070 (30 iterations)\n",
      "Rayleigh Quotient: 6.007 (31 iterations)\n",
      "Rayleigh Quotient: 5.949 (32 iterations)\n",
      "Rayleigh Quotient: 5.895 (33 iterations)\n",
      "Rayleigh Quotient: 5.844 (34 iterations)\n",
      "Rayleigh Quotient: 5.797 (35 iterations)\n",
      "Rayleigh Quotient: 5.753 (36 iterations)\n",
      "Rayleigh Quotient: 5.712 (37 iterations)\n",
      "Rayleigh Quotient: 5.673 (38 iterations)\n",
      "Rayleigh Quotient: 5.637 (39 iterations)\n",
      "Rayleigh Quotient: 5.603 (40 iterations)\n",
      "Rayleigh Quotient: 5.572 (41 iterations)\n",
      "Rayleigh Quotient: 5.542 (42 iterations)\n",
      "Rayleigh Quotient: 5.514 (43 iterations)\n",
      "Rayleigh Quotient: 5.487 (44 iterations)\n",
      "Rayleigh Quotient: 5.463 (45 iterations)\n",
      "Rayleigh Quotient: 5.439 (46 iterations)\n",
      "Rayleigh Quotient: 5.417 (47 iterations)\n",
      "Rayleigh Quotient: 5.396 (48 iterations)\n",
      "Rayleigh Quotient: 5.377 (49 iterations)\n",
      "Rayleigh Quotient: 5.358 (50 iterations)\n",
      "Rayleigh Quotient: 5.341 (51 iterations)\n",
      "Rayleigh Quotient: 5.324 (52 iterations)\n",
      "Rayleigh Quotient: 5.308 (53 iterations)\n",
      "Rayleigh Quotient: 5.293 (54 iterations)\n",
      "Rayleigh Quotient: 5.279 (55 iterations)\n",
      "Rayleigh Quotient: 5.266 (56 iterations)\n",
      "Rayleigh Quotient: 5.253 (57 iterations)\n",
      "Rayleigh Quotient: 5.241 (58 iterations)\n",
      "Rayleigh Quotient: 5.230 (59 iterations)\n",
      "Rayleigh Quotient: 5.219 (60 iterations)\n",
      "Rayleigh Quotient: 5.209 (61 iterations)\n",
      "Rayleigh Quotient: 5.199 (62 iterations)\n",
      "Rayleigh Quotient: 5.189 (63 iterations)\n",
      "Rayleigh Quotient: 5.180 (64 iterations)\n",
      "Rayleigh Quotient: 5.172 (65 iterations)\n",
      "Rayleigh Quotient: 5.164 (66 iterations)\n",
      "Rayleigh Quotient: 5.156 (67 iterations)\n",
      "Rayleigh Quotient: 5.149 (68 iterations)\n",
      "Rayleigh Quotient: 5.142 (69 iterations)\n",
      "Rayleigh Quotient: 5.135 (70 iterations)\n",
      "Rayleigh Quotient: 5.129 (71 iterations)\n",
      "Rayleigh Quotient: 5.123 (72 iterations)\n",
      "Rayleigh Quotient: 5.117 (73 iterations)\n",
      "Rayleigh Quotient: 5.112 (74 iterations)\n",
      "Rayleigh Quotient: 5.107 (75 iterations)\n",
      "Rayleigh Quotient: 5.102 (76 iterations)\n",
      "Rayleigh Quotient: 5.097 (77 iterations)\n",
      "Rayleigh Quotient: 5.093 (78 iterations)\n",
      "Rayleigh Quotient: 5.088 (79 iterations)\n",
      "Rayleigh Quotient: 5.084 (80 iterations)\n",
      "Rayleigh Quotient: 5.080 (81 iterations)\n",
      "Rayleigh Quotient: 5.077 (82 iterations)\n",
      "Rayleigh Quotient: 5.073 (83 iterations)\n",
      "Rayleigh Quotient: 5.070 (84 iterations)\n",
      "Rayleigh Quotient: 5.066 (85 iterations)\n",
      "Rayleigh Quotient: 5.063 (86 iterations)\n",
      "Rayleigh Quotient: 5.060 (87 iterations)\n",
      "Rayleigh Quotient: 5.057 (88 iterations)\n",
      "Rayleigh Quotient: 5.055 (89 iterations)\n",
      "Rayleigh Quotient: 5.052 (90 iterations)\n",
      "Rayleigh Quotient: 5.050 (91 iterations)\n",
      "Rayleigh Quotient: 5.047 (92 iterations)\n",
      "Rayleigh Quotient: 5.045 (93 iterations)\n",
      "Rayleigh Quotient: 5.043 (94 iterations)\n",
      "Rayleigh Quotient: 5.041 (95 iterations)\n",
      "Rayleigh Quotient: 5.039 (96 iterations)\n",
      "Rayleigh Quotient: 5.037 (97 iterations)\n",
      "Rayleigh Quotient: 5.035 (98 iterations)\n",
      "Rayleigh Quotient: 5.034 (99 iterations)\n",
      "Rayleigh Quotient: 5.032 (100 iterations)\n"
     ]
    },
    {
     "data": {
      "text/plain": [
       "(np.float64(5.032056172814664),\n",
       " array([ 0.57916273,  0.5736976 , -0.57912868,  0.0071805 ]))"
      ]
     },
     "execution_count": 72,
     "metadata": {},
     "output_type": "execute_result"
    }
   ],
   "source": [
    "rayleigh_iteration(100, A, np.array([1, 1, 1, 1]), 100)\n"
   ]
  },
  {
   "cell_type": "code",
   "execution_count": 73,
   "metadata": {},
   "outputs": [
    {
     "name": "stdout",
     "output_type": "stream",
     "text": [
      "Rayleigh Quotient: 0.097 (1 iterations)\n",
      "Rayleigh Quotient: 1.167 (2 iterations)\n",
      "Rayleigh Quotient: 0.985 (3 iterations)\n",
      "Rayleigh Quotient: 1.065 (4 iterations)\n",
      "Rayleigh Quotient: 1.007 (5 iterations)\n",
      "Rayleigh Quotient: 0.998 (6 iterations)\n",
      "Rayleigh Quotient: 1.001 (7 iterations)\n",
      "Rayleigh Quotient: 0.999 (8 iterations)\n",
      "Rayleigh Quotient: 1.000 (9 iterations)\n",
      "Rayleigh Quotient: 1.000 (10 iterations)\n",
      "Rayleigh Quotient: 1.000 (11 iterations)\n",
      "Rayleigh Quotient: 1.000 (12 iterations)\n",
      "Rayleigh Quotient: 1.000 (13 iterations)\n",
      "Rayleigh Quotient: 1.000 (14 iterations)\n",
      "Rayleigh Quotient: 1.000 (15 iterations)\n",
      "Rayleigh Quotient: 1.000 (16 iterations)\n",
      "Rayleigh Quotient: 1.000 (17 iterations)\n",
      "Rayleigh Quotient: 1.000 (18 iterations)\n",
      "Rayleigh Quotient: 1.000 (19 iterations)\n",
      "Rayleigh Quotient: 1.000 (20 iterations)\n",
      "Rayleigh Quotient: 1.000 (21 iterations)\n",
      "Rayleigh Quotient: 1.000 (22 iterations)\n",
      "Rayleigh Quotient: 1.000 (23 iterations)\n",
      "Rayleigh Quotient: 1.000 (24 iterations)\n",
      "Rayleigh Quotient: 1.000 (25 iterations)\n",
      "Rayleigh Quotient: 1.000 (26 iterations)\n",
      "Rayleigh Quotient: 1.000 (27 iterations)\n",
      "Rayleigh Quotient: 1.000 (28 iterations)\n",
      "Rayleigh Quotient: 1.000 (29 iterations)\n",
      "Rayleigh Quotient: 1.000 (30 iterations)\n"
     ]
    },
    {
     "data": {
      "text/plain": [
       "(np.float64(0.9999999999999607),\n",
       " array([ 0.2236068 , -0.67082039, -0.2236068 ,  0.67082039]))"
      ]
     },
     "execution_count": 73,
     "metadata": {},
     "output_type": "execute_result"
    }
   ],
   "source": [
    "rayleigh_iteration(30, A, np.array([1, 1, 1, 1]), 0)\n"
   ]
  },
  {
   "cell_type": "code",
   "execution_count": null,
   "metadata": {},
   "outputs": [],
   "source": []
  }
 ],
 "metadata": {
  "kernelspec": {
   "display_name": "Python 3",
   "language": "python",
   "name": "python3"
  },
  "language_info": {
   "codemirror_mode": {
    "name": "ipython",
    "version": 3
   },
   "file_extension": ".py",
   "mimetype": "text/x-python",
   "name": "python",
   "nbconvert_exporter": "python",
   "pygments_lexer": "ipython3",
   "version": "3.13.3"
  }
 },
 "nbformat": 4,
 "nbformat_minor": 4
}
