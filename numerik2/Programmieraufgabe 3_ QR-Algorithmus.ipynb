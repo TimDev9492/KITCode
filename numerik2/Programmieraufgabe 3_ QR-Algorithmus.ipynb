{
 "cells": [
  {
   "cell_type": "markdown",
   "id": "c14e4676-86f6-41bb-95b9-f6dec4434ca7",
   "metadata": {},
   "source": [
    "# Notebook zum QR-Algorithmus"
   ]
  },
  {
   "cell_type": "markdown",
   "id": "26dd7a00-f93d-4803-952d-bd53c42729f2",
   "metadata": {},
   "source": [
    "### Vorbereitungen"
   ]
  },
  {
   "cell_type": "markdown",
   "id": "bd70aaba-45d4-4fc6-b02d-5e145c11cd1d",
   "metadata": {},
   "source": [
    "Wir benötigten in diesem Notebook die folgenden Module:"
   ]
  },
  {
   "cell_type": "code",
   "execution_count": 1,
   "id": "0221ae7a-aaa9-4283-a336-837a0b619621",
   "metadata": {},
   "outputs": [],
   "source": [
    "import numpy as np\n",
    "import scipy.linalg as spla  # für Matrixzerlegungen und co\n",
    "import numpy.random as rnd   # für alles, was mit Zufallszahlen zu tun hat"
   ]
  },
  {
   "cell_type": "markdown",
   "id": "a322a3c1-d4dd-462a-8bca-307be753f673",
   "metadata": {},
   "source": [
    "Die Prozeduren, die wir in diesem Notebook betrachten, liefern verschiedene Vektoren und Matrizen als Ergebnis. Um diese schöner darstellen zu können, eignen sich die folgenden beiden Prozeduren. Was diese Prozeduren genau tun müssen Sie sich nicht anschauen."
   ]
  },
  {
   "cell_type": "code",
   "execution_count": 2,
   "id": "2f456216-d8e9-43c1-a273-4b925401522e",
   "metadata": {},
   "outputs": [],
   "source": [
    "def printvector(v):\n",
    "    if v.dtype == \"int\":\n",
    "        print(''.join([' {:4}'.format(item) for item in v])+\"\\n\")\n",
    "    elif v.dtype == \"complex128\":\n",
    "        print(''.join([' {:16.3f}'.format(item) for item in v])+\"\\n\")\n",
    "    else:\n",
    "        print(''.join([' {:7.3f}'.format(item) for item in v])+\"\\n\")"
   ]
  },
  {
   "cell_type": "code",
   "execution_count": 3,
   "id": "f3a397c4-6c3b-4d1a-b2e3-ebc783f82039",
   "metadata": {},
   "outputs": [],
   "source": [
    "def printmatrix(A):\n",
    "    if A.dtype == \"int\":\n",
    "        print('\\n'.join([''.join(['  {:4}'.format(item) for item in row]) for row in A])+\"\\n\")\n",
    "    elif A.dtype == \"complex128\":\n",
    "        print('\\n'.join([''.join(['  {:16.3f}'.format(item) for item in row]) for row in A])+\"\\n\")   \n",
    "    else:\n",
    "        print('\\n'.join([''.join(['  {:7.3f}'.format(item) for item in row]) for row in A])+\"\\n\")       "
   ]
  },
  {
   "cell_type": "markdown",
   "id": "93bf5de8-7e03-4054-b599-762398d74880",
   "metadata": {},
   "source": [
    "### Problemstellung & Modellmatrizen\n",
    "In diesem Notebook wollen wir Eigenwerte von Matrizen mit verschiedenen Varianten des QR-Algorithmus approximieren. Zunächst konstruieren wir uns dazu ein paar Modellmatrizen, von denen wir die Eigenwerte kennen und mit denen wir die Algorithmen testen können.\n",
    "\n",
    "Zur Konstruktion der Matrizen starten wir zunächst mit einer Diagonalmatrix oder einer Blockdiagonalmatrix $D$, und wenden dann eine beliebig ausgewählte Ähnlichkeitstransformation an, d.h. berechnen $A=S^{-1} D S$ für eine invertierbare Matrix $S$. Die Eigenwerte von $A$ entsprechen dann denen von $D$. Der Matrix $A$ selbst sieht man aber die Eigenwerte nicht direkt an.\n",
    "\n",
    "Konkret verwenden wir\n",
    "$$\n",
    "D_1 = \\begin{pmatrix} 2 \\\\ & 1 \\\\ && 5 \\\\ &&& -4 \\\\ &&&& \\frac12 \\end{pmatrix}, \\qquad\n",
    "D_2= \\begin{pmatrix} 2+2\\mathrm{i} \\\\ & 1 \\\\ && 5 \\\\ &&& -4+1\\mathrm{i} \\\\ &&&& \\frac12-3\\mathrm{i} \\end{pmatrix}, \\qquad\n",
    "D_3 = \\begin{pmatrix} 2 \\\\ & 1 \\\\ && 5 \\\\ &&& 5 \\\\ &&&& \\frac12 \\end{pmatrix}, \\qquad\n",
    "D_4 = \\begin{pmatrix} 2 \\\\ & 1 \\\\ && 5 \\\\ &&& -5 \\\\ &&&& \\frac12 \\end{pmatrix}, \\qquad\n",
    "$$\n",
    "sowie\n",
    "$$\n",
    "D_5 = \\begin{pmatrix} 2+2\\mathrm{i} \\\\ & 1 \\\\ && 1 & -1 \\\\ && 1 & 1 \\\\ &&&& \\frac12-3\\mathrm{i} \\end{pmatrix} \n",
    "\\qquad \\text{und} \\qquad\n",
    "D_6 = \\begin{pmatrix} 2 \\\\ & 1 \\\\ && 1 & -1 \\\\ && 1 & 1 \\\\ &&&& \\frac12 \\end{pmatrix},\n",
    "$$\n",
    "und definieren dann $A_i = S^{-1} D_i S$ für $i=1,\\ldots,6$ mit der invertierbaren Matrix\n",
    "$$ \n",
    "S = \\begin{pmatrix} \n",
    "     2 & -1 &  1 &  0 & -1 \\\\\n",
    "    -1 &  1 &  2 &  2 &  2 \\\\\n",
    "    -1 &  0 &  2 & -1 &  1 \\\\\n",
    "    -1 &  2 &  2 &  2 &  1 \\\\\n",
    "     2 & -1 &  2 &  0 & -1 \n",
    "\\end{pmatrix}.\n",
    "$$ "
   ]
  },
  {
   "cell_type": "code",
   "execution_count": 112,
   "id": "aa43cb0c-4cdc-46b4-b58e-860885cff860",
   "metadata": {},
   "outputs": [],
   "source": [
    "# (Block-)Diagonalmatrizen\n",
    "A1 = np.diag(np.array([2, 1, 5, -4, 1/2]))\n",
    "A2 = np.diag(np.array([2+2j, 1, 5, -4+1j, 1/2-3j]))\n",
    "A3 = np.diag(np.array([2, 1, 5,  5, 1/2]))\n",
    "A4 = np.diag(np.array([2, 1, 5, -5, 1/2]))\n",
    "A5 = np.array([[2+2j,0,0,0,0],[0,1,0,0,0],[0,0,1,-1,0],[0,0,1,1,0],[0,0,0,0,1/2-3j]])\n",
    "A6 = np.array([[2,0,0,0,0],[0,1,0,0,0],[0,0,1,-1,0],[0,0,1,1,0],[0,0,0,0,1/2]])\n",
    "\n",
    "# Ähnlichkeitstransformation\n",
    "S = np.array([\n",
    "    [2, -1, 1, 0, -1],\n",
    "    [-1, 1, 2, 2, 2],\n",
    "    [-1, 0, 2, -1, 1],\n",
    "    [-1, 2, 2, 2, 1],\n",
    "    [2, -1, 2, 0, -1]\n",
    "])\n",
    "S_inv = spla.inv(S)\n",
    "\n",
    "A1 = S_inv @ A1 @ S\n",
    "A2 = S_inv @ A2 @ S\n",
    "A3 = S_inv @ A3 @ S\n",
    "A4 = S_inv @ A4 @ S\n",
    "A5 = S_inv @ A5 @ S\n",
    "A6 = S_inv @ A6 @ S"
   ]
  },
  {
   "cell_type": "markdown",
   "id": "b2095e43-0be1-44d9-ac09-1adc2d14c44e",
   "metadata": {},
   "source": [
    "Für die Matrix $A_1$ gilt dann zum Beispiel:"
   ]
  },
  {
   "cell_type": "code",
   "execution_count": 32,
   "id": "54910b0b-b62b-4d5d-b8c2-c4a295faf6da",
   "metadata": {},
   "outputs": [
    {
     "name": "stdout",
     "output_type": "stream",
     "text": [
      "A_1 =\n",
      "   16.000  -15.125   10.250  -11.500   -7.375\n",
      "   15.000  -17.875    3.750  -16.500   -8.625\n",
      "   -3.000    1.500   -1.000    0.000    1.500\n",
      "   -7.000    9.250   -8.500   10.000    2.750\n",
      "   10.000   -8.875   13.750   -6.500   -2.625\n",
      "\n"
     ]
    }
   ],
   "source": [
    "print('A_1 =')\n",
    "printmatrix(A1)"
   ]
  },
  {
   "cell_type": "markdown",
   "id": "a13786bd-54ae-47b0-a6eb-6975731a5c1d",
   "metadata": {},
   "source": [
    "**(a) Nennen Sie kurz die \"Herausforderungen\" im Bezug auf die Eigenwerte von $D_3, \\ldots, D_6$.**"
   ]
  },
  {
   "cell_type": "markdown",
   "id": "b5d7b82b-9137-4178-a6ef-9e304f939dc5",
   "metadata": {},
   "source": [
    "D3: doppelter Eigenwert\n",
    "D4: verschiedene Eigenwerte mit gleichem Betrag\n",
    "D5, D6: 2x2 Block hat keine Eigenvektoren zwei verschiedene komplexe Eigenwerte mit gleichem Betrag"
   ]
  },
  {
   "cell_type": "markdown",
   "id": "8cda2606-c96c-4a48-991c-5974c1bcd153",
   "metadata": {},
   "source": [
    "## 1.) Naiver QR-Algorithmus"
   ]
  },
  {
   "cell_type": "markdown",
   "id": "2428ee18-78db-499c-b013-abfe5d970f02",
   "metadata": {},
   "source": [
    "**(b) Implementieren Sie eine Prozedur `qr_alg_naiv`, die den QR-Algorithmus in der naiven Version auf eine Matrix anwendet. Die Anzahl der Iterationen `kMax` soll dabei als Eingabeparameter übergeben werden.**\n",
    "\n",
    "Berechnen Sie die QR-Zerlegungen mithilfe der in `scipy` enthalten Prozedur (also mit `spla.qr(...)`)."
   ]
  },
  {
   "cell_type": "code",
   "execution_count": 41,
   "id": "c6aeb645-363f-4e0f-8d44-2bd264a8986f",
   "metadata": {},
   "outputs": [],
   "source": [
    "def qr_alg_naive(M, kMax=100):\n",
    "    A = M.copy()\n",
    "    for k in range(kMax):\n",
    "        Q, R = spla.qr(A)\n",
    "        A = R @ Q\n",
    "    return A"
   ]
  },
  {
   "cell_type": "markdown",
   "id": "a3e65aed-5978-4219-9d20-5078f03a1967",
   "metadata": {},
   "source": [
    "**(c) Wenden Sie die Prozedur zunächst auf die Matrizen $A_1$ und $A_2$ an. Wie viele Iterationen `kMax` brauchen Sie für gute Ergebnisse?**"
   ]
  },
  {
   "cell_type": "code",
   "execution_count": 47,
   "id": "6692b2bd-225c-497d-92d3-d85593dda843",
   "metadata": {},
   "outputs": [
    {
     "name": "stdout",
     "output_type": "stream",
     "text": [
      "    5.003   16.733   -9.269  -18.006   38.105\n",
      "   -0.001   -4.003   -1.398   13.071   -2.919\n",
      "    0.000   -0.000    2.000   -1.176    7.512\n",
      "    0.000    0.000    0.000    1.000   -0.042\n",
      "    0.000    0.000   -0.000   -0.000    0.500\n",
      "\n"
     ]
    }
   ],
   "source": [
    "printmatrix(qr_alg_naive(A1, 35))"
   ]
  },
  {
   "cell_type": "code",
   "execution_count": null,
   "id": "357d26c4-7db0-4ce8-8a1f-d1ab50728f41",
   "metadata": {},
   "outputs": [
    {
     "name": "stdout",
     "output_type": "stream",
     "text": [
      "      5.000+0.000j   -13.061-10.625j    12.872+17.095j  -53.831+101.745j   -21.164-14.967j\n",
      "      0.000-0.000j     -4.000+1.000j     -0.367+1.306j      2.087+5.592j    -8.209+10.535j\n",
      "      0.000+0.000j      0.000-0.000j      0.500-2.999j     6.871-24.770j      2.711+3.907j\n",
      "      0.000+0.000j     -0.000-0.000j     -0.000-0.000j      2.000+1.999j     -0.675-0.225j\n",
      "     -0.000-0.000j      0.000+0.000j      0.000+0.000j     -0.000-0.000j      1.000+0.000j\n",
      "\n"
     ]
    }
   ],
   "source": [
    "printmatrix(qr_alg_naive(A2, 125))"
   ]
  },
  {
   "cell_type": "markdown",
   "id": "b20572d6-51ef-4d60-83ec-56c792bd6fb7",
   "metadata": {},
   "source": [
    "**(d) Wenden Sie die Prozedur nun jeweils mit `kMax = 50` auf die Matrizen $A_3,...,A_6$ an. Beobachten und erklären Sie die Ergebnisse.**"
   ]
  },
  {
   "cell_type": "code",
   "execution_count": null,
   "id": "5414cd91-e3f9-4bec-ae40-3848c34711c4",
   "metadata": {},
   "outputs": [
    {
     "name": "stdout",
     "output_type": "stream",
     "text": [
      "    5.000    0.000  -13.017   26.367  -33.573\n",
      "    0.000    5.000   -2.136   -4.420   -6.529\n",
      "    0.000    0.000    2.000   -1.176   -7.512\n",
      "   -0.000    0.000    0.000    1.000    0.042\n",
      "   -0.000   -0.000    0.000    0.000    0.500\n",
      "\n"
     ]
    }
   ],
   "source": [
    "printmatrix(qr_alg_naive(A3, 50))\n",
    "# schnelle Konvergenz, da sich die Eigenwerte bis auf mehrfaches Auftreten im Betrag recht deutlich unterscheiden"
   ]
  },
  {
   "cell_type": "code",
   "execution_count": null,
   "id": "1239465d-6a9b-4f33-85fb-ec6b03b4697d",
   "metadata": {},
   "outputs": [
    {
     "name": "stdout",
     "output_type": "stream",
     "text": [
      "    0.654   19.832   -8.281  -25.582  -38.321\n",
      "    1.239   -0.654   -3.486   10.392   -5.175\n",
      "    0.000    0.000    2.000   -1.176   -7.512\n",
      "    0.000   -0.000    0.000    1.000    0.042\n",
      "   -0.000    0.000    0.000    0.000    0.500\n",
      "\n"
     ]
    }
   ],
   "source": [
    "printmatrix(qr_alg_naive(A4, 50))\n",
    "# langsame Konvergenz, da zwei verschieden Eigenwerte den gleichen Betrag haben\n"
   ]
  },
  {
   "cell_type": "code",
   "execution_count": 60,
   "id": "6759fcca-0e83-49e8-ad0e-42f7baf85533",
   "metadata": {
    "scrolled": true
   },
   "outputs": [
    {
     "name": "stdout",
     "output_type": "stream",
     "text": [
      "      0.604-2.872j  -42.473-104.317j    14.336+33.575j      5.945-9.714j   -13.733+19.840j\n",
      "     -0.004-0.006j      1.851+1.724j     -0.306-0.444j     -0.372+0.125j      0.714-0.399j\n",
      "      0.001+0.002j      0.072-0.495j      1.612+0.147j     -1.003-0.356j      0.565+0.299j\n",
      "     -0.000-0.000j      0.323-0.000j      1.077-0.342j      0.432-0.000j     -1.456+0.000j\n",
      "      0.000+0.000j     -0.000+0.000j     -0.000+0.000j      0.000+0.000j      1.000-0.000j\n",
      "\n"
     ]
    }
   ],
   "source": [
    "printmatrix(qr_alg_naive(A5, 50))\n",
    "# siehe A4\n"
   ]
  },
  {
   "cell_type": "code",
   "execution_count": 62,
   "id": "fd609b38-7abb-4704-b8e6-cc9e14232c86",
   "metadata": {
    "scrolled": true
   },
   "outputs": [
    {
     "name": "stdout",
     "output_type": "stream",
     "text": [
      "    2.000    3.000   -3.397  -10.157  -35.332\n",
      "   -0.000    1.549    1.117    0.816    0.354\n",
      "    0.000   -1.165    0.451    1.478   -0.075\n",
      "   -0.000    0.000    0.000    1.000    0.042\n",
      "    0.000   -0.000   -0.000    0.000    0.500\n",
      "\n"
     ]
    }
   ],
   "source": [
    "printmatrix(qr_alg_naive(A6, 50))\n",
    "# konvergiert nicht, da nicht alle Eigenwerte reell, aber nur mit reellen Zahlen gerechnet wird"
   ]
  },
  {
   "cell_type": "code",
   "execution_count": null,
   "id": "c540d41b-fe78-4561-9bd8-2d069ff77922",
   "metadata": {},
   "outputs": [],
   "source": []
  },
  {
   "cell_type": "code",
   "execution_count": null,
   "id": "92ed2171-566f-46d0-8205-f17db20236a3",
   "metadata": {},
   "outputs": [],
   "source": []
  },
  {
   "cell_type": "code",
   "execution_count": null,
   "id": "754f3a86-9958-4d0e-9166-61722565378a",
   "metadata": {},
   "outputs": [],
   "source": []
  },
  {
   "cell_type": "code",
   "execution_count": null,
   "id": "75a38470-b777-4542-b9b8-cffa56bdb467",
   "metadata": {},
   "outputs": [],
   "source": []
  },
  {
   "cell_type": "markdown",
   "id": "7d41c445-739d-4a1f-b184-d852ba653169",
   "metadata": {},
   "source": [
    "## 2.) Transformation auf Hessenberg-Form\n",
    "\n",
    "Als ersten Schritt hin zu einer effizienteren Implementierung wollen wir die Matrizen durch eine Ähnlichkeitstransformation auf Hessenberg-Form bringen.\n",
    "\n",
    "**(e) Schreiben Sie eine Prozedur `hess`, die eine Matrix durch eine unitäre Ähnlichkeitstransformation auf Hessenberg-Form bringt (siehe Beweis von Satz 6.22).**\n",
    "\n",
    "Hinweise:\n",
    "* Berücksichtigen Sie, wie die richtige Householder-Transformation aussieht, die einen Vektor mit **komplexen** Einträgen auf ein Vielfaches des ersten Einheitsvektors spiegelt (siehe Abschnitt 6.8.1 im Skript).\n",
    "* Die verwendeten Householder-Transformationen brauchen Sie nicht speichern, denn wir sind nur an den Eigenwerten von Matrizen interessiert, und die Hessenberg-Matrix, die Ihre Prozedur am Ende liefert, ist ja ähnlich zur Ausgangsmatrix.\n",
    "* Bei Vektoren (genauer: eindimensionale `ndarray`) unterscheidet Numpy nicht zwischen Zeilen- und Spaltenvektoren, sondern interpretiert sie (zum Beispiel bei der Matrixmultilplikation) so wie es Sinn macht.\n",
    "* Die komplex konjugierte Variante eines Vektors/arrays $v$ erhalten Sie über `v.conj()`.\n",
    "* Das dyadische Produkt $vw^\\top$ zweier Vektoren $v,w\\in\\mathbb{C}^n$ erhalten Sie über `np.outer(v,w)`, und dementsprechend das Produkt $vw^H$ über `np.outer(v,w.conj())`."
   ]
  },
  {
   "cell_type": "code",
   "execution_count": 125,
   "id": "ed0c0457-2e83-4236-84ef-c09a4fce1ca7",
   "metadata": {},
   "outputs": [],
   "source": [
    "def hess(A):\n",
    "    n = A.shape[0]\n",
    "    for i in range(n-2):\n",
    "        x = A[i+1:, i]\n",
    "        sgn = np.sign(x[0]) if x[0] != 0 else 1\n",
    "        alpha = -sgn * spla.norm(x)\n",
    "        e1 = np.zeros(n-1-i)\n",
    "        e1[0] = 1\n",
    "        u = x - alpha * e1\n",
    "        u /= np.linalg.norm(u)\n",
    "        Q_squiggle = np.eye(n-1-i) - 2 * np.outer(u, u.conj())\n",
    "        Q = spla.block_diag(np.eye(i+1), Q_squiggle)\n",
    "        A = Q @ A @ Q\n",
    "    return A\n"
   ]
  },
  {
   "cell_type": "markdown",
   "id": "ee0234f0-6902-462d-95f9-4e4e156de359",
   "metadata": {},
   "source": [
    "**(f) Wenden Sie Ihre Prozedur zum Test auf die Matrizen $A_1$ und $A_2$ an. Übergeben Sie dabei nur eine Kopie der Matrizen an die Prozedur `hess`, damit die Ausgangsmatrizen unverändert bleiben. Überprüfen Sie: Haben die Ergebnismatrizen Hessenberg-Struktur? Haben Sie weiterhin die selben Eigenwerte wie die Ausgangsmatrizen (über `spla.eigvals` überprüfbar)?**"
   ]
  },
  {
   "cell_type": "code",
   "execution_count": null,
   "id": "d98b17d1-02d9-4a08-b9ca-c68b570c6f04",
   "metadata": {},
   "outputs": [
    {
     "name": "stdout",
     "output_type": "stream",
     "text": [
      "   16.000   12.819  -11.423   14.699   -3.098\n",
      "  -19.570  -16.389   16.033  -23.265    6.682\n",
      "    0.000   -0.757    0.407   -3.797    6.616\n",
      "    0.000   -0.000   -4.424    3.517    8.044\n",
      "   -0.000   -0.000    0.000    0.039    0.965\n",
      "\n",
      "[-4. +0.j  5. +0.j  2. +0.j  0.5+0.j  1. +0.j]\n"
     ]
    }
   ],
   "source": [
    "M = hess(A1.copy())\n",
    "printmatrix(M)\n",
    "\n",
    "print(spla.eigvals(M))\n",
    "print(spla.eigvals(A1))"
   ]
  },
  {
   "cell_type": "code",
   "execution_count": 134,
   "id": "fb322964-250e-4e58-9f04-bc801e00dd68",
   "metadata": {},
   "outputs": [
    {
     "name": "stdout",
     "output_type": "stream",
     "text": [
      "    16.000+46.750j     8.848+35.339j    -0.451-20.130j    22.602+25.078j    -3.733+10.226j\n",
      "   -23.534-61.580j   -13.510-46.700j     2.218+27.477j   -35.927-31.542j     5.042-14.034j\n",
      "      0.000+0.000j     -0.026+0.353j     -3.756+1.070j     -2.716-0.912j     11.195+0.174j\n",
      "      0.000+0.000j     -0.000+0.000j     -3.012-0.302j      4.555-1.203j      5.529+0.976j\n",
      "     -0.000+0.000j     -0.000+0.000j     -0.000-0.000j     -0.445+0.415j      1.212+0.082j\n",
      "\n",
      "[-4. +1.00000000e+00j  0.5-3.00000000e+00j  5. +1.33305712e-14j\n",
      "  2. +2.00000000e+00j  1. +7.03781454e-15j]\n",
      "[-4. +1.00000000e+00j  0.5-3.00000000e+00j  5. -1.96636464e-14j\n",
      "  2. +2.00000000e+00j  1. +6.75873537e-15j]\n"
     ]
    }
   ],
   "source": [
    "M = hess(A2.copy())\n",
    "printmatrix(M)\n",
    "\n",
    "print(spla.eigvals(M))\n",
    "print(spla.eigvals(A2))"
   ]
  },
  {
   "cell_type": "markdown",
   "id": "815725cf-470c-4bc4-8ed8-14980ebd0652",
   "metadata": {},
   "source": [
    "## 3.) QR-Algorithmus mit Shift für Hessenberg Matrizen"
   ]
  },
  {
   "cell_type": "markdown",
   "id": "4bf3e66e-cec1-4c42-856c-550dd5f49f62",
   "metadata": {},
   "source": [
    "Bevor wir uns um den QR-Algorithmus mit Shift kümmern, bringen wir zunächst alle Modellmatrizen in Hessenberg-Form:"
   ]
  },
  {
   "cell_type": "code",
   "execution_count": 135,
   "id": "71390771-92e5-4889-9c07-e85bec6c5906",
   "metadata": {},
   "outputs": [],
   "source": [
    "A1_hess = hess(A1.copy())\n",
    "A2_hess = hess(A2.copy())\n",
    "A3_hess = hess(A3.copy())\n",
    "A4_hess = hess(A4.copy())\n",
    "A5_hess = hess(A5.copy())\n",
    "A6_hess = hess(A6.copy())"
   ]
  },
  {
   "cell_type": "markdown",
   "id": "69b07aa2-2fec-4ba2-b0f0-a69b4e23f763",
   "metadata": {},
   "source": [
    "Nun wollen wir den QR-Algorithmus mit Shift für eine Hessenberg-Matrix $H$ implementieren. Dabei verwenden wird immer das letzte Element $\\mu = h_{n,n}$ von $H$ als Shift. Wir iterieren so lange, bis Deflation auftritt, in dem Sinne, dass\n",
    "$$\n",
    "|h_{n,n-1}| \\leq \\texttt{eps} \\left( |h_{n-1,n-1,}| + |h_{n,n}| \\right)\n",
    "$$\n",
    "mit der Maschinengenauigkeit $\\texttt{eps}$ gilt."
   ]
  },
  {
   "cell_type": "markdown",
   "id": "0f4971d1-e043-4bc3-b1e5-b9a8936e7356",
   "metadata": {},
   "source": [
    "**(g) Implementieren Sie den eben beschriebenen QR-Algorithmus mit Shift. Sobald Deflation auftritt, soll die Prozedur beendet werden und dabei den isolierten Eigenwert sowie die Restmatrix ausgeben.**\n",
    "\n",
    "Hinweise:\n",
    "* Verwenden Sie wieder einen Parameter `kMax`, um die maximale Iterationszahl festzulegen, falls es nicht vorzeitig zu Deflation kommen sollte. In diesem Fall soll nur die letzte Iterierte ausgegeben werden.\n",
    "* Die Maschinengenauigkeit (für 64Bit-Gleitkommazahlen) erhalten Sie über `np.finfo(np.float64).eps`.\n",
    "* Stellen Sie sicher, dass Ihre Prozedur auch für $1\\times1$-Matrizen ein sinnvolles Ergebnis liefert.\n",
    "\n",
    "Testen Sie Ihre Prozedur mit den Matrizen `A1_hess` und `A2_hess`. Lassen Sie Python auch die Eigenwerte der Restmatrix berechnen und überprüfen Sie, ob die Ergebnisse Sinn ergeben."
   ]
  },
  {
   "cell_type": "code",
   "execution_count": null,
   "id": "4de09b53-eb69-47b7-847b-0a860d060b7c",
   "metadata": {},
   "outputs": [],
   "source": [
    "def qr_alg_shifts(A, kMax=100):\n",
    "    H = A.copy()\n",
    "    n = H.shape[0]\n",
    "    if n == 1:\n",
    "        return None, H\n",
    "    for k in range(kMax):\n",
    "        shift = H[n-1, n-1]\n",
    "        H_shift = H - shift * np.eye(n)\n",
    "        Q, R = spla.qr(H_shift)\n",
    "        H = R @ Q + shift * np.eye(n)\n",
    "        if spla.norm(H[n-1, n-2]) <= np.finfo(np.float64).eps * (spla.norm(H[n-2, n-2]) + spla.norm(H[n-1, n-1])):\n",
    "            return H[n-1, n-1], H[:n-1, :n-1]\n",
    "    return None, H\n"
   ]
  },
  {
   "cell_type": "code",
   "execution_count": 153,
   "id": "93f37132-b926-426a-a36d-768126a61326",
   "metadata": {},
   "outputs": [
    {
     "name": "stdout",
     "output_type": "stream",
     "text": [
      "1.0000000000000044\n",
      "   -0.986   17.814    7.826   35.163\n",
      "    1.025    2.042    4.191    9.966\n",
      "   -0.000   -0.049    2.021   -7.550\n",
      "    0.000    0.000    0.016    0.422\n",
      "\n",
      "    -4.000+0.000j     5.000+0.000j     2.000+0.000j     0.500+0.000j\n",
      "\n",
      "---\n",
      "(1+3.969276400905076e-15j)\n",
      "     -2.209+1.445j    -11.045-3.857j     9.396+16.481j    64.365-84.725j\n",
      "      0.409+1.071j     -3.308-3.309j      0.184+3.165j     43.398-3.493j\n",
      "      0.000-0.000j     -0.361+4.897j      7.799-0.278j   -12.630-27.281j\n",
      "     -0.000-0.000j     -0.000-0.000j     -0.138-0.014j      1.218+2.143j\n",
      "\n",
      "    -4.000+1.000j     0.500-3.000j     5.000-0.000j     2.000+2.000j\n",
      "\n"
     ]
    }
   ],
   "source": [
    "eig, R = qr_alg_shifts(A1_hess, 35)\n",
    "print(eig)\n",
    "printmatrix(R)\n",
    "printvector(spla.eigvals(R))\n",
    "\n",
    "print('---')\n",
    "\n",
    "eig, R = qr_alg_shifts(A2_hess, 35)\n",
    "print(eig)\n",
    "printmatrix(R)\n",
    "printvector(spla.eigvals(R))"
   ]
  },
  {
   "cell_type": "markdown",
   "id": "1fbfd786-4780-4a9c-9565-de6ff6021d99",
   "metadata": {},
   "source": [
    "**(h) Erweitern Sie Ihre Prozedur aus Teil (g) folgendermaßen: Sobald Deflation auftritt, rufen Sie die Prozedur rekursiv auf, um den QR-Algorithmus mit der Restmatrix erneut zu starten. Speichern Sie dann den isolierten Eigenwert sowie die Eigenwerte der Restmatrix in einem Vektor, den Sie am Ende zurückgeben. Achten Sie hier besonders darauf, dass Ihre Prozedur für $1\\times1$-Matrizen sinnvoll agiert.**"
   ]
  },
  {
   "cell_type": "code",
   "execution_count": 176,
   "id": "772b7939-3305-4a52-b571-721a31e1dbfa",
   "metadata": {},
   "outputs": [],
   "source": [
    "def qr_alg_shifts_recursive(A, kMax=100):\n",
    "    H = A.copy()\n",
    "    n = H.shape[0]\n",
    "    eigvals = np.array([], dtype=H.dtype)\n",
    "    if n == 1:\n",
    "        return np.append(eigvals, H[0, 0])\n",
    "    for k in range(kMax):\n",
    "        shift = H[n-1, n-1]\n",
    "        H_shift = H - shift * np.eye(n)\n",
    "        Q, R = spla.qr(H_shift)\n",
    "        H = R @ Q + shift * np.eye(n)\n",
    "        if spla.norm(H[n-1, n-2]) <= np.finfo(np.float64).eps * (spla.norm(H[n-2, n-2]) + spla.norm(H[n-1, n-1])):\n",
    "            eigvals = np.append(eigvals, H[n-1, n-1])\n",
    "            eigvals = np.append(eigvals, qr_alg_shifts_recursive(H[:n-1, :n-1], kMax))\n",
    "            return eigvals\n",
    "    return eigvals\n"
   ]
  },
  {
   "cell_type": "markdown",
   "id": "cc2670b3-b37b-4ebb-b2c8-150432ef526a",
   "metadata": {},
   "source": [
    "**(i) Sofern kein Abbruch wegen Erreichen der maximalen Iterationszahl erfolgt, sollte Ihre Prozedur aus Teil (h) einen Vektor mit allen Eigenwerten der eingegebenen Matrix $H$ berechnen. Überprüfen Sie dies zunächst anhand der Matrizen `A1_hess` und `A2_hess`. Wenn für diese Matrizen alles funktioniert, testen Sie auch die Matrizen `A3_hess`,...,`A6_hess`. Mit welchen Matrizen kommt die Prozedur (nicht) klar? Haben Sie eine Idee, warum? Beobachten Sie außerdem auch die Anzahl an Iterationen, die insgesamt durchgeführt wird, insbesondere im Vergleich zu den Aufgabenteilen (c) und (d).**"
   ]
  },
  {
   "cell_type": "code",
   "execution_count": 188,
   "id": "addeefbf-0eaa-49c6-8bc5-3e71ac6c4983",
   "metadata": {},
   "outputs": [
    {
     "name": "stdout",
     "output_type": "stream",
     "text": [
      "   1.000   0.500   2.000   5.000  -4.000\n",
      "\n",
      "     1.000+0.000j     2.000+2.000j     5.000-0.000j     0.500-3.000j    -4.000+1.000j\n",
      "\n"
     ]
    }
   ],
   "source": [
    "printvector(qr_alg_shifts_recursive(A1_hess, 4))\n",
    "printvector(qr_alg_shifts_recursive(A2_hess, 5))\n"
   ]
  },
  {
   "cell_type": "code",
   "execution_count": null,
   "id": "91d03ad0-c085-4cdb-bf12-9682b1ec3d95",
   "metadata": {},
   "outputs": [
    {
     "name": "stdout",
     "output_type": "stream",
     "text": [
      "   5.000   5.000   1.000   0.500   2.000\n",
      "\n",
      "   1.000   0.500   2.000   5.000  -5.000\n",
      "\n",
      "     1.000-0.000j     1.000+1.000j     1.000-1.000j     2.000+2.000j     0.500-3.000j\n",
      "\n",
      "     1.000+0.000j     0.500+0.000j     2.000+0.000j\n",
      "\n"
     ]
    }
   ],
   "source": [
    "printvector(qr_alg_shifts_recursive(A3_hess, 5))\n",
    "printvector(qr_alg_shifts_recursive(A4_hess, 4))\n",
    "printvector(qr_alg_shifts_recursive(A5_hess, 7))\n",
    "printvector(qr_alg_shifts_recursive(A6_hess.astype(np.complex128), 100))\n",
    "# keine Ahnung warum es für A6 nicht konvergiert, aber für A5 schon\n"
   ]
  },
  {
   "cell_type": "markdown",
   "id": "523d0cc6-0fe6-4317-a22b-d28bd2615572",
   "metadata": {},
   "source": [
    "Natürlich können wir unsere Prozedur jetzt auch auf andere Matrizen als die Modellmatrizen anwenden, und so die Eigenwerte (quasi) beliebiger Matrizen berechnen. Hier zum Beispiel für eine zufällige Matrix mit komplexen Einträgen: "
   ]
  },
  {
   "cell_type": "code",
   "execution_count": 218,
   "id": "a573e116-59bb-455a-8859-47c1aa604f56",
   "metadata": {},
   "outputs": [
    {
     "name": "stdout",
     "output_type": "stream",
     "text": [
      "Eigenwerte laut Python:\n",
      "    -1.799-0.628j    -1.302+0.263j    -0.911+0.483j    -0.840+0.910j    -0.724-1.160j    -0.416-1.232j    -0.382+0.089j    -0.048+0.661j    -0.041-0.423j    -0.016+1.207j     0.044+0.335j     0.484-1.512j     0.520+1.118j     0.676-1.075j     0.768-0.036j     0.769-0.301j     1.481+0.848j     1.645+0.293j     1.893-1.178j     9.979+9.990j\n",
      "\n",
      "Eigenwerte selbst berechnet:\n",
      "    -1.799-0.628j    -1.302+0.263j    -0.911+0.483j    -0.840+0.910j    -0.724-1.160j    -0.416-1.232j    -0.382+0.089j    -0.048+0.661j    -0.041-0.423j    -0.016+1.207j     0.044+0.335j     0.484-1.512j     0.520+1.118j     0.676-1.075j     0.768-0.036j     0.769-0.301j     1.481+0.848j     1.645+0.293j     1.893-1.178j     9.979+9.990j\n",
      "\n"
     ]
    }
   ],
   "source": [
    "n = 20\n",
    "A = rnd.rand(n,n) + 1j*rnd.rand(n,n)\n",
    "A_hess = hess(A)\n",
    "\n",
    "print('Eigenwerte laut Python:')\n",
    "printvector(np.sort(spla.eigvals(A_hess)))\n",
    "\n",
    "print('Eigenwerte selbst berechnet:')\n",
    "printvector(np.sort(qr_alg_shifts_recursive(A_hess,50)))"
   ]
  },
  {
   "cell_type": "code",
   "execution_count": null,
   "id": "8fa8676e",
   "metadata": {},
   "outputs": [],
   "source": []
  }
 ],
 "metadata": {
  "kernelspec": {
   "display_name": "Python 3",
   "language": "python",
   "name": "python3"
  },
  "language_info": {
   "codemirror_mode": {
    "name": "ipython",
    "version": 3
   },
   "file_extension": ".py",
   "mimetype": "text/x-python",
   "name": "python",
   "nbconvert_exporter": "python",
   "pygments_lexer": "ipython3",
   "version": "3.13.3"
  }
 },
 "nbformat": 4,
 "nbformat_minor": 5
}
