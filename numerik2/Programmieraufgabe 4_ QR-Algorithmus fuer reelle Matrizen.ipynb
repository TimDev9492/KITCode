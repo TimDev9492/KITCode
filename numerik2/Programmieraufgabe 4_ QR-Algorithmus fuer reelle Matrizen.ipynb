{
 "cells": [
  {
   "cell_type": "markdown",
   "id": "c14e4676-86f6-41bb-95b9-f6dec4434ca7",
   "metadata": {},
   "source": [
    "# Programmieraufgabe 4: QR-Algorithmus für reelle Matrizen"
   ]
  },
  {
   "cell_type": "markdown",
   "id": "e1f22f40-751f-4158-9049-8e2f2732714d",
   "metadata": {},
   "source": [
    "**Abgabe in den Programmiertutorien am 2./3. Juli 2025.**"
   ]
  },
  {
   "cell_type": "markdown",
   "id": "63b99806-b398-4fdd-a980-5b8cde02ad1c",
   "metadata": {},
   "source": [
    "In diesem Notebook erweitern wir den QR-Algorithmus aus Programmieraufgabe 3 so, dass er auch mit reellen Matrizen mit komplex konjugierten Eigenwerten zurecht kommt und dabei nur reelle Operationen benutzt. Dazu verwenden wir die \"bulge chasing\" Technik.\n",
    "\n",
    "Die Aufgabe erscheint auf den ersten Blick vielleicht etwas lang. Das liegt aber nur daran, dass die zu implementierende Vorgehensweise nochmal im Detail erklärt wird und einige Code-Bausteine, insbesondere zum Testen von Prozeduren, vorgebeben sind.  \n",
    "\n",
    "In der Programmieraufgabe werden Sie die Prozeduren `hess` und `qr_alg_shift` aus den Teilen (e) bzw. (h) des Notebooks aus Programmieraufgabe 3 wiederverwenden können. Sie können sich diese beiden Prozeduren entweder aus Ihrer eigenen Lösung oder aus dem im Ilias bereit gestellten Lösungsvorschlag (ab 24. Juni verfügbar) an geeigneter Stelle kopieren."
   ]
  },
  {
   "cell_type": "markdown",
   "id": "bd70aaba-45d4-4fc6-b02d-5e145c11cd1d",
   "metadata": {},
   "source": [
    "Wir benötigten in diesem Notebook die folgenden Module:"
   ]
  },
  {
   "cell_type": "code",
   "execution_count": 4,
   "id": "0221ae7a-aaa9-4283-a336-837a0b619621",
   "metadata": {},
   "outputs": [],
   "source": [
    "import numpy as np\n",
    "import scipy.linalg as spla  # für Matrixzerlegungen und co\n",
    "import numpy.random as rnd   # für alles, was mit Zufallszahlen zu tun hat"
   ]
  },
  {
   "cell_type": "markdown",
   "id": "a322a3c1-d4dd-462a-8bca-307be753f673",
   "metadata": {},
   "source": [
    "Außerdem können wieder die beiden Prozeduren `printvector` und `printmatrix` zur Ausgabe von Vektoren und Matrizen verwendet werden."
   ]
  },
  {
   "cell_type": "code",
   "execution_count": 5,
   "id": "2f456216-d8e9-43c1-a273-4b925401522e",
   "metadata": {},
   "outputs": [],
   "source": [
    "def printvector(v):\n",
    "    if v.dtype == \"int\":\n",
    "        print(''.join([' {:4}'.format(item) for item in v])+\"\\n\")\n",
    "    elif v.dtype == \"complex128\":\n",
    "        print(''.join([' {:16.3f}'.format(item) for item in v])+\"\\n\")\n",
    "    else:\n",
    "        print(''.join([' {:7.3f}'.format(item) for item in v])+\"\\n\")"
   ]
  },
  {
   "cell_type": "code",
   "execution_count": 6,
   "id": "f3a397c4-6c3b-4d1a-b2e3-ebc783f82039",
   "metadata": {},
   "outputs": [],
   "source": [
    "def printmatrix(A):\n",
    "    if A.dtype == \"int\":\n",
    "        print('\\n'.join([''.join(['  {:4}'.format(item) for item in row]) for row in A])+\"\\n\")\n",
    "    elif A.dtype == \"complex128\":\n",
    "        print('\\n'.join([''.join(['  {:16.3f}'.format(item) for item in row]) for row in A])+\"\\n\")   \n",
    "    else:\n",
    "        print('\\n'.join([''.join(['  {:7.3f}'.format(item) for item in row]) for row in A])+\"\\n\")       "
   ]
  },
  {
   "cell_type": "markdown",
   "id": "93bf5de8-7e03-4054-b599-762398d74880",
   "metadata": {},
   "source": [
    "# Problemstellung & Modellmatrix\n",
    "\n",
    "Wir betrachten als Modellmatrix zunächst die Matrix $A = A_6$ aus dem Notebook zu Programmieraufgabe 3. Diese wurde durch eine Ähnlichkeitstransformation aus der Blockdiagonalmatrix \n",
    "$$\n",
    "D_6 = \\begin{pmatrix} 2 \\\\ & 1 \\\\ && 1 & -1 \\\\ && 1 & 1 \\\\ &&&& \\frac12 \\end{pmatrix}\n",
    "$$\n",
    "erzeugt, d.h. $A = S^{-1} D_6 S$ für eine invertierbare Matrix $S$. Der $2\\times2$ Diagonalblock hat das komplex konjugierte Eigenwertpaar $1\\pm\\mathrm{i}$. Dasselbe gilt dann offensichtlich auch für die Matrizen $D_6$ bzw. $A$.\n",
    "\n",
    "Zunächst erzeugen wir die Matrix $A$ wie im letzten Notebook und bringen sie mit der Prozedur `hess` in Hessenberg-Form:\n",
    "\n",
    "<!-- Am Ende des Notebooks wollen wir eine auf dem QR-Algorithmus basierende Prozedur haben, die auch von dieser Matrix $A$ alle Eigenwerte berechnen kann, und dabei alle eigentlichen Iterationen in reeller Arithmetik durchführt. -->\n"
   ]
  },
  {
   "cell_type": "code",
   "execution_count": null,
   "id": "1bd421d8-fb9c-4893-b577-53764c771616",
   "metadata": {},
   "outputs": [],
   "source": [
    "def hess(A):\n",
    "    n = np.size(A,0) # Anzahl Zeilen/Spalten\n",
    "    for j in range(n-2):\n",
    "        # Spiegele erste Spalte von A[j+1:,j:] auf alpha-faches von e_1\n",
    "        \n",
    "        # Baue passenden Householder-Vektor zusammen\n",
    "        x = np.copy(A[j+1:,j]) # Erste Spalte von A[j+1:,j:]\n",
    "        alpha = - x[0]/np.abs(x[0]) * np.linalg.norm(x)\n",
    "        v = x\n",
    "        v[0] -= alpha\n",
    "        v = v/np.linalg.norm(v)\n",
    "        \n",
    "        # Wende Q = I - 2vv^H von links an\n",
    "        A[j+1,j] = alpha\n",
    "        A[j+2:,j] = 0\n",
    "        A[j+1:,j+1:] += np.outer( (-2*v) , v.conj() @ A[j+1:,j+1:] )\n",
    "\n",
    "        # Wende Q = I - 2vv^H von rechts an\n",
    "        A[:,j+1:] -= np.outer( A[:,j+1:] @ (2*v) , v.conj() )\n",
    "\n",
    "    return A"
   ]
  },
  {
   "cell_type": "code",
   "execution_count": 8,
   "id": "aa43cb0c-4cdc-46b4-b58e-860885cff860",
   "metadata": {},
   "outputs": [
    {
     "name": "stdout",
     "output_type": "stream",
     "text": [
      "   16.500   11.093   -2.337   10.916    0.317\n",
      "  -20.700  -13.821    2.699  -15.152    0.446\n",
      "    0.000    0.063    1.121   -1.915   -0.454\n",
      "    0.000    0.000    0.626    0.711   -1.337\n",
      "    0.000    0.000    0.000   -0.205    0.989\n",
      "\n"
     ]
    }
   ],
   "source": [
    "# (Block-)Diagonalmatrix\n",
    "A = np.array([[2,0,0,0,0],[0,1,0,0,0],[0,0,1,-1,0],[0,0,1,1,0],[0,0,0,0,1/2]])\n",
    "\n",
    "# Ähnlichkeitstransformation\n",
    "S = np.array([\n",
    "    [2, -1, 1, 0, -1],\n",
    "    [-1, 1, 2, 2, 2],\n",
    "    [-1, 0, 2, -1, 1],\n",
    "    [-1, 2, 2, 2, 1],\n",
    "    [2, -1, 2, 0, -1]\n",
    "])\n",
    "S_inv = spla.inv(S)\n",
    "\n",
    "# Finale Matrix A\n",
    "A = S_inv @ A @ S\n",
    "\n",
    "# Matrix A in Hessenberg-Form\n",
    "A_hess = hess(A.copy())\n",
    "\n",
    "printmatrix(A_hess)"
   ]
  },
  {
   "cell_type": "markdown",
   "id": "18b8dbd0-0256-402c-b5a9-89aad08ec9ff",
   "metadata": {},
   "source": [
    "Wir arbeiten uns schrittweise in Richtung des finalen Programms vor:"
   ]
  },
  {
   "cell_type": "markdown",
   "id": "c14b4735-5aa9-41e5-a49e-a8608c6de990",
   "metadata": {},
   "source": [
    "# Schritt 1: Bulge chasing\n",
    "Gegeben sei hier zunächst eine Matrix $A\\in\\mathbb{R}^{n\\times n}$ mit der Struktur\n",
    "$$\n",
    "A = \\begin{pmatrix}\n",
    "    * & * & * & * & \\cdots & * \\\\\n",
    "    * & * & * & * & & \\vdots \\\\\n",
    "    \\otimes & * & * & * & & \\\\\n",
    "    \\otimes & \\otimes & * & * & & \\\\\n",
    "     & & & \\ddots & \\ddots & \\\\\n",
    "     & & & & * & *\n",
    "    \\end{pmatrix}.\n",
    "$$\n",
    "Die drei mit $\\otimes$ markierten Einträge bilden den _bulge_. Wenn dieser bulge nicht wäre, dann hätte die Matrix Hessenberg-Form."
   ]
  },
  {
   "cell_type": "markdown",
   "id": "9d407425-bb4b-4e4b-ab79-7f9c01f65743",
   "metadata": {},
   "source": [
    "**(a) Ändern Sie die Prozedur `hess` aus Programmieraufgabe 3 zu einer Prozedur `bulge_chasing` ab, die eine Matrix $A$ mit der obigen Struktur durch Householder-Transformationen auf Hessenberg-Form bringt (siehe Schritt 4 aus dem Francis' QR-Schritt). Achten Sie dabei darauf, in jedem Schritt nur die Zeilen/Spalten der Matrix zu bearbeiten, bei denen dies nötig ist.**"
   ]
  },
  {
   "cell_type": "code",
   "execution_count": 55,
   "id": "4452ba1e-b82e-4d9d-a8b9-ad50de707d44",
   "metadata": {},
   "outputs": [
    {
     "name": "stdout",
     "output_type": "stream",
     "text": [
      "   16.500  -11.093    2.337  -10.916    0.317\n",
      "   20.700  -13.821    2.699  -15.152   -0.446\n",
      "    0.000    0.063    1.121   -1.915    0.454\n",
      "    0.000    0.000    0.626    0.711    1.337\n",
      "    0.000    0.000    0.000    0.205    0.989\n",
      "\n"
     ]
    }
   ],
   "source": [
    "def bulge_chasing(A):\n",
    "    n = np.size(A,0) # Anzahl Zeilen/Spalten\n",
    "    for j in range(n-2):\n",
    "        # Spiegele erste Spalte von A[j+1:,j:] auf alpha-faches von e_1\n",
    "\n",
    "        is_last_bulge = (j == n-3)  # Check if we are at the last bulge\n",
    "        edge_case_modifier = 0 if not is_last_bulge else -1\n",
    "\n",
    "        # Baue passenden Householder-Vektor zusammen\n",
    "        A_bulge_block = A[j+1:j+4, j:(j+3 + edge_case_modifier)]  # 3x3 Block\n",
    "\n",
    "        x = np.copy(A_bulge_block[:,0]) # first column of the bulge block\n",
    "        alpha = - x[0]/np.abs(x[0]) * np.linalg.norm(x)\n",
    "        v = x\n",
    "        v[0] -= alpha\n",
    "        v = v/np.linalg.norm(v)\n",
    "\n",
    "        Householder_block = np.eye(3 + edge_case_modifier) - 2 * np.outer(v, v.conj())\n",
    "\n",
    "        # transform matrix A with the Householder transformation\n",
    "        if not is_last_bulge:\n",
    "          T = spla.block_diag(np.eye(j+1), Householder_block, np.eye(n-j-4))\n",
    "        else:\n",
    "          T = spla.block_diag(np.eye(j+1), Householder_block)\n",
    "\n",
    "\n",
    "        # printmatrix(T)\n",
    "\n",
    "        A = T @ A @ T\n",
    "\n",
    "        # printmatrix(A)\n",
    "        \n",
    "        # # Wende Q = I - 2vv^H von links an\n",
    "        # A[j+1,j] = alpha\n",
    "        # A[j+2:,j] = 0\n",
    "        # A[j+1:,j+1:] += np.outer( (-2*v) , v.conj() @ A[j+1:,j+1:] )\n",
    "\n",
    "        # # Wende Q = I - 2vv^H von rechts an\n",
    "        # A[:,j+1:] -= np.outer( A[:,j+1:] @ (2*v) , v.conj() )\n",
    "\n",
    "    return A\n",
    "\n",
    "printmatrix(bulge_chasing(A_hess.copy()))"
   ]
  },
  {
   "cell_type": "markdown",
   "id": "4ac05218-1884-4222-bff5-068a77687cd0",
   "metadata": {},
   "source": [
    "Sie können die Prozedur mit folgemdem Code testen. Im ersten Code-Block wird eine zufällige Hessenberg-Matrix mit bulge erstellt und deren Eigenwerte angezeigt. Im zweiten Block wird dann die Prozedur `bulge_chasing` angewandt und die Ergebnismatrix sowie deren Eigenwerte ausgegeben. Hat die Ergebnismatrix die gewünschte Hessenburg-Struktur? Und hat sie weiterhin dieselben Eigenwerte wie die Ausgangsmatrix?"
   ]
  },
  {
   "cell_type": "code",
   "execution_count": 56,
   "id": "a7fe4046-0aed-4df6-b4c4-0077ba141560",
   "metadata": {},
   "outputs": [
    {
     "name": "stdout",
     "output_type": "stream",
     "text": [
      "   -0.941   -0.965    0.895    0.427    0.387    0.335    0.958\n",
      "   -0.759   -0.372    0.535   -0.805   -0.989   -0.132    0.865\n",
      "    0.628   -0.950    0.665   -0.876   -0.259   -0.454    0.816\n",
      "    0.195    0.560    0.371    0.994    0.200    0.499    0.971\n",
      "    0.000    0.000    0.000    0.516   -0.690    0.643   -0.756\n",
      "    0.000    0.000    0.000    0.000    0.157    0.599   -0.017\n",
      "    0.000    0.000    0.000    0.000    0.000   -0.051    0.327\n",
      "\n"
     ]
    }
   ],
   "source": [
    "# Beispielmatrix\n",
    "n = 7\n",
    "H_start = -1 + 2*rnd.rand(n,n)\n",
    "H_start = np.triu(H_start,-1)\n",
    "H_start[2,0] = rnd.random(); H_start[3,0] = rnd.random(); H_start[3,1] = rnd.random()\n",
    "printmatrix(H_start)"
   ]
  },
  {
   "cell_type": "code",
   "execution_count": 57,
   "id": "760ce121-3ca9-4d7d-8007-1af43f478c62",
   "metadata": {},
   "outputs": [
    {
     "name": "stdout",
     "output_type": "stream",
     "text": [
      "Eigenwerte vorher:\n",
      "    -1.641+0.000j    -0.916+0.000j     0.490+0.991j     0.490-0.991j     1.193+0.000j     0.650+0.000j     0.315+0.000j\n",
      "\n"
     ]
    }
   ],
   "source": [
    "print('Eigenwerte vorher:')\n",
    "printvector(spla.eigvals(H_start))"
   ]
  },
  {
   "cell_type": "code",
   "execution_count": 58,
   "id": "d4308198-6464-478e-bdd2-ac63c5c70cd9",
   "metadata": {},
   "outputs": [
    {
     "name": "stdout",
     "output_type": "stream",
     "text": [
      "   -0.941    1.372   -0.103   -0.120   -0.387   -0.349    0.957\n",
      "    1.004    0.256    0.015   -0.112   -0.654    0.068    0.047\n",
      "    0.000   -1.042   -0.012   -1.272   -1.076   -0.395   -1.055\n",
      "   -0.000    0.000    0.633    0.846    0.175    0.409   -1.144\n",
      "   -0.000    0.000   -0.000    0.865   -0.509    0.690    0.709\n",
      "    0.000    0.000   -0.000    0.000    0.115    0.616    0.069\n",
      "    0.000   -0.000    0.000    0.000   -0.000    0.051    0.326\n",
      "\n",
      "Eigenwerte nachher:\n",
      "    -1.641+0.000j    -0.916+0.000j     0.490+0.991j     0.490-0.991j     1.193+0.000j     0.650+0.000j     0.315+0.000j\n",
      "\n"
     ]
    }
   ],
   "source": [
    "H_new = bulge_chasing(H_start.copy())\n",
    "printmatrix(H_new)\n",
    "\n",
    "print('Eigenwerte nachher:')\n",
    "printvector(spla.eigvals(H_new))"
   ]
  },
  {
   "cell_type": "markdown",
   "id": "04a7a73d-62cf-4101-a34c-1627e6c8e76e",
   "metadata": {},
   "source": [
    "# Schritt 2: Lemma 6.28 in Action"
   ]
  },
  {
   "cell_type": "markdown",
   "id": "f1bca5e2-2171-4fb6-b734-9cde255ed7ca",
   "metadata": {},
   "source": [
    "Nehmen wir an, dass wir nach einer gewissen Anzahl $k$ an Schritten des QR-Algorithmus eine *reellwertige* Hessenberg-Matrix $H_k$ erhalten haben. Dann schauen wir uns zwei weitere Schritte des QR-Algorithmus an, wobei die Shifts $\\mu_k$ und $\\mu_{k+1}$ entweder beide reell seien, oder ein komplex konjugiertes Paar bilden (also $\\mu_{k+1} = \\overline{\\mu_k}$):\n",
    "$$\n",
    "\\begin{align*}\n",
    "H_k - \\mu_k I &= Q_k R_k && \\text{(QR-Zerlegung)}\n",
    "\\\\\n",
    "H_{k+1} &= R_k Q_k + \\mu_k I\n",
    "\\\\\n",
    "H_{k+1} - \\mu_{k+1} I &= Q_{k+1} R_{k+1} && \\text{(QR-Zerlegung)}\n",
    "\\\\\n",
    "H_{k+2} &= R_{k+1} Q_{k+1} + \\mu_{k+1} I\n",
    "\\end{align*}\n",
    "$$\n",
    "In der Vorlesung wurde diskutiert, dass \n",
    "* $H_{k+2} = Q^H H_k Q$ mit $Q = Q_k Q_{k+1}$ gilt,\n",
    "* $Q$ und $H_{k+2}$ wieder reelle Matrizen sind, wenn die QR-Zerlegungen so gewählt werden, dass die Diagonalelemente von $R_k$ und $R_{k+1}$ reell sind,\n",
    "* die Matrix $Q$ zu einer reellwertigen QR-Zerlegung der reellwertigen Matrix $M = H_k^2 - (\\mu_k+\\mu_{k+1}) H_k + \\mu_k \\mu_{k+1} I$ gehört (siehe auch Hausaufgabe 11). \n",
    "\n",
    "Die Zwischenergebnisse, also die Matrizen $Q_k,Q_{k+1},R_k,R_{k+1}$ und $H_{k+1}$ werden aber im Falle komplexer Shifts dennoch komplexe Einträge haben, sodass in komplexer Arithmetik gerechnet werden muss.\n",
    "\n",
    "Daher wurde eine zweite Variante diskutiert, mit der auf ganz anderem Wege dasselbe Ergebnis (bis auf Vorzeichen) erzielt wird:\n",
    "* Wende diejenige (reelle) Householder-Transformation $T_0$, welche die erste Spalte von $M$ auf ein Vielfaches von $e_1$ spiegelt, von links und rechts auf $H_k$ an,\n",
    "* Transformiere die resultierende Matrix durch bulge chasing (also durch Anwendung geeigneter, reeller Householder-Transformationen $T_1,...,T_{n-2}$) auf Hessenberg-Form. Erhalte Matrix $\\widehat{H} = T^\\top H_k T$ mit $T = T_0 T_1 \\cdots T_{n-2}$.\n",
    "* Die Matrix $T$ hat (evtl. bis auf das Vorzeichen) dieselbe erste Spalte wie $Q$. Nach Lemma 6.28 stimmen daher sowohl $\\widehat{H}$ und $H_{k+2}$ (bis auf Vorzeichen) als auch $T$ und $Q$ (bis auf unterschiedliche Vorzeichen der Spalten) überein. Insbesondere stammt auch $T$ aus einer reellwertigen QR-Zerlegung von $M$, sodass man im QR-Algorithmus genausogut mit der Matrix $\\widehat{H} = T^\\top H_k T$ statt mit $H_{k+2} = Q^H H_k Q = Q^\\top H_k Q$ weiter machen kann.\n",
    "\n",
    "Der entscheidende Vorteile der zweiten Vorgehensweise ist, dass hier (auch bei komplex konjugierten Shifts) nur reelle Rechenoperationen nötig sind!\n",
    "\n",
    "Die Matrizen $\\widehat{H}$ bzw. $H_{k+2}$ sind übrigens die einzigen Größen, die man für die weiteren Schritte des QR-Algorithmus braucht. Die Matrizen $T$ bzw. $Q$ braucht man sich nicht merken."
   ]
  },
  {
   "cell_type": "markdown",
   "id": "cf01d0ba-61f3-4a80-9937-69414b45bc6a",
   "metadata": {},
   "source": [
    "**(b) Schreiben Sie eine Prozedur `double_step`, welche die zweite Vorgehensweise umsetzt, d.h. welche**\n",
    "* **eine Hessenberg-Matrix $H$ und zwei Shifts $\\mu_1$,$\\mu_2$ (entweder beide reell oder ein komplex konjugiertes Paar) als Eingabe erhält,**\n",
    "* **die erste Spalte der Matrix $M = H^2 - (\\mu_1 + \\mu_2) H + \\mu_1\\mu_2 I$ berechnet (ohne Matrixprodukte!),**\n",
    "* **die Householder-Transformation, die die erste Spalte von $M$ auf ein Vielfaches von $e_1$ spiegelt, von links und rechts auf $H$ anwendet,**\n",
    "* **das Ergebnis mittels der Prozedur `bulge_chasing` wieder auf eine Hessenberg-Matrix $\\widehat{H}$ transformiert,**\n",
    "* **und schließlich die Matrix $\\widehat{H}$ zurück gibt.**"
   ]
  },
  {
   "cell_type": "markdown",
   "id": "6f81338c-565b-4497-a148-e3bbf93d341f",
   "metadata": {},
   "source": [
    "Hinweise:\n",
    "* Für beliebige $\\mu_1,\\mu_2\\in\\mathbb{C}$ sind natürlich auch $\\mu_1+\\mu_2, \\mu_1\\mu_2 \\in \\mathbb{C}$, sodass auch `numpy` für das Ergebnis komplexe Zahlen als Datentyp verwendet. Wir lassen ja aber nur komplex konjugierte Shifts $\\mu_1 = \\overline{\\mu_2}$ zu, für die $\\mu_1+\\mu_2 = 2 \\mathrm{real}(\\mu_1)$ und $\\mu_1\\mu_2 = |\\mu_1|^2$ reell sind. Wenden Sie daher nach Berechnung von $\\mu_1+\\mu_2$ und $\\mu_1\\mu_2$ jeweils den Befehl `np.real(...)` an, um den Imaginärteil (der eh Null ist) weg zu lassen und wieder eine Variable mit reellem Datentyp zu erhalten.\n",
    "* Geeigneter Code zum Testen der Prozedur steht unten bereit."
   ]
  },
  {
   "cell_type": "code",
   "execution_count": null,
   "id": "4d5e5b41-6e31-48ed-afb7-1a0205fd5d31",
   "metadata": {},
   "outputs": [],
   "source": [
    "def double_step(H, shift_1, shift_2):\n",
    "    n = np.size(H, 0)  # Anzahl Zeilen/Spalten\n",
    "    shift_sum=np.real(shift_1 + shift_2)\n",
    "    shift_product=np.real(shift_1 * shift_2)\n",
    "    H_first_col = H[:,0]\n",
    "    M_column = H @ H_first_col - (shift_sum * H_first_col)\n",
    "    M_column[0] += shift_product\n",
    "\n",
    "    x = M_column\n",
    "    alpha = - x[0]/np.abs(x[0]) * np.linalg.norm(x)\n",
    "    v = x\n",
    "    v[0] -= alpha\n",
    "    v = v/np.linalg.norm(v)\n",
    "\n",
    "    Householder_matrix = np.eye(n) - 2 * np.outer(v, v.conj())\n",
    "\n",
    "    H = Householder_matrix @ H @ Householder_matrix\n",
    "\n",
    "    return bulge_chasing(H)"
   ]
  },
  {
   "cell_type": "markdown",
   "id": "f703cc50-c6d3-4c5e-966e-40b84a8f1ff2",
   "metadata": {},
   "source": [
    "Mit dem folgenden Code können Sie Ihre Prozedur wieder testen. Darin wird zunächst eine zufällige Hessenberg-Matrix $H$ erstellt sowie zwei beliebige reelle Shifts oder ein komplex konugiertes Shift-Paar $\\mu_1,\\mu_2$ gewählt. Dann wird einerseits das Ergebnis der Prozedur `double_step` ausgegeben, und andererseits das Ergebnis, wenn auf klassische Art zwei QR-Algorithmus-Schritte mit Shifts $\\mu_1,\\mu_2$ durchgeführt werden (beachten Sie, dass der `qr` Befehl aus `scipy` tatsächlich die QR-Zerlegungen komplexer Matrizen so wählt, dass die Diagonaleinträge von $R$ reell sind). Nach der Diskussion oben/aus der Vorlesung sollten beide Ergebnisse bis auf Vorzeichen übereinstimmen."
   ]
  },
  {
   "cell_type": "code",
   "execution_count": 62,
   "id": "1a05deff-9928-49ee-9036-1ee4ea6d6b21",
   "metadata": {},
   "outputs": [
    {
     "name": "stdout",
     "output_type": "stream",
     "text": [
      "Ergebnis nach zwei klassischen QR-Schritten:\n",
      "     -0.621+0.000j      0.700+0.000j     -0.966+0.000j     -0.373+0.000j      0.937+0.000j      0.217-0.000j     -0.202+0.000j\n",
      "     -0.498+0.000j      0.344+0.000j     -0.752-0.000j     -0.928-0.000j      0.834+0.000j      0.144+0.000j      0.066+0.000j\n",
      "      0.000+0.000j     -0.514-0.000j      0.812+0.000j     -0.587-0.000j     -0.287+0.000j     -0.194-0.000j      0.576+0.000j\n",
      "      0.000+0.000j      0.000+0.000j     -0.002+0.000j      0.013+0.000j      0.617+0.000j      1.068-0.000j      0.747-0.000j\n",
      "      0.000+0.000j      0.000+0.000j      0.000+0.000j     -0.365+0.000j      0.419+0.000j      1.089-0.000j      0.051-0.000j\n",
      "      0.000+0.000j      0.000+0.000j      0.000+0.000j      0.000+0.000j      1.074-0.000j     -0.066+0.000j      0.574-0.000j\n",
      "      0.000+0.000j      0.000+0.000j      0.000+0.000j      0.000+0.000j      0.000+0.000j      0.612+0.000j     -0.007+0.000j\n",
      "\n",
      "Ergebnis nach Francis QR-Schritt:\n",
      "   -0.621    0.700   -0.966   -0.373    0.937    0.217    0.202\n",
      "   -0.498    0.344   -0.752   -0.928    0.834    0.144   -0.066\n",
      "    0.000   -0.514    0.812   -0.587   -0.287   -0.194   -0.576\n",
      "   -0.000   -0.000   -0.002    0.013    0.617    1.068   -0.747\n",
      "   -0.000    0.000   -0.000   -0.365    0.419    1.089   -0.051\n",
      "   -0.000    0.000    0.000   -0.000    1.074   -0.066   -0.574\n",
      "    0.000    0.000   -0.000    0.000    0.000   -0.612   -0.007\n",
      "\n"
     ]
    }
   ],
   "source": [
    "# Zufällige Hessenberg-Matrix mit Einträgen in [-1,1]:\n",
    "n = 7\n",
    "H_start = -1 + 2*rnd.rand(n,n)\n",
    "H_start = np.triu(H_start,-1)\n",
    "\n",
    "# Shifts:\n",
    "mu1 = 2+3j; mu2 = 2-3j # komplex konjugierte Shifts\n",
    "# mu1 = 2; mu2 = 3 # reelle Shifts\n",
    "\n",
    "# Zwei klassische QR-Schritte:\n",
    "H1 = H_start.copy()\n",
    "Q,R = spla.qr(H1-mu1*np.eye(n))\n",
    "H1 = R@Q + mu1*np.eye(n)\n",
    "Q,R = spla.qr(H1-mu2*np.eye(n))\n",
    "H1 = R@Q + mu2*np.eye(n)\n",
    "print('Ergebnis nach zwei klassischen QR-Schritten:')\n",
    "printmatrix(H1)\n",
    "\n",
    "# Prozedur double_step:\n",
    "H2 = H_start.copy()\n",
    "H2 = double_step(H2,mu1,mu2)\n",
    "print('Ergebnis nach Francis QR-Schritt:')\n",
    "printmatrix(H2)"
   ]
  },
  {
   "cell_type": "markdown",
   "id": "a0326cb7-8aa4-4753-978c-8729762e03a0",
   "metadata": {},
   "source": [
    "# Schritt 3: QR-Algorithmus für reellwertige Matrizen"
   ]
  },
  {
   "cell_type": "markdown",
   "id": "ea1a8449-4db9-40c7-8e9f-77b10cfe31b9",
   "metadata": {},
   "source": [
    "Nun wollen wir eine Prozedur schreiben, die den QR-Algorithmus auf reellwertige Matrizen anwendet. Im Wesentlichen werden dafür einfach iterativ immer wieder zwei QR-Algorithmus-Schritte mittels der Prozedur `double_step` durchgeführt. Zwei Fragen sind allerdings noch offen:\n",
    "* Wie wählen wir jeweils die Shifts $\\mu_1$ und $\\mu_2$?\n",
    "* Wann brechen wir den Algorithmus ab (z.B. in dem Sinne, dass wir das Problem auf eine kleinere Matrix reduzieren können)?"
   ]
  },
  {
   "cell_type": "markdown",
   "id": "7a8f51fc-6c31-48c5-806d-becb2c760b24",
   "metadata": {},
   "source": [
    "Dazu fahren wir eine ähnliche Strategie wie beim QR-Algorithmus für komplexwertige Matrizen aus Programmieraufgabe 3, arbeiten allerdings mit dem $2\\times2$-Block $\\widetilde{H}$ rechts unten in der Matrix $H$, also mit\n",
    "$$\n",
    "    \\widetilde{H} = \\begin{pmatrix} h_{n-1,n-1} & h_{n-1,n} \\\\ h_{n,n-1} & h_{n,n} \\end{pmatrix}\n",
    "$$\n",
    "anstatt nur mit dem letzten Element $h_{n,n}$. In jedem Schritt bestimmen wir die beiden Eigenwerte dieses $2\\times2$-Blocks analytisch und verwenden diese als Shifts. Da auch $\\widetilde{H}$ reelle Einträge hat, sind die beiden Eigenwerte, und somit die Shifts, wie gefordert entweder beide reell oder ein komplex konjugiertes Paar. "
   ]
  },
  {
   "cell_type": "markdown",
   "id": "5541d803-01d1-40f9-a21a-b421833ad630",
   "metadata": {},
   "source": [
    "Die Hoffnung ist, dass wir mit diesen beiden Shifts zwei Eigenwerte der Matrix $H$ nach wenigen Schritten gut approximieren und somit den $2\\times2$-Block am Ende abkopppeln können. Dazu müssen wir das Element $h_{n-1,n-2}$ beobachten. Wenn dieses Element (quasi) Null ist, ist die Matrix reduzibel. Die Eigenwerte des $2\\times2$ Blocks können wir leicht berechnen (machen wir ja auch ständig für die Shifts). Die Eigenwerte der verbleibenden $(n-2)\\times(n-2)$-Matrix berechnen wir, indem wir die Prozedur rekursiv aufrufen. Konkret teilen wir die Matrix auf, wenn\n",
    "$$ \n",
    "|h_{n-1,n-2}| \\leq \\texttt{eps} \\left( |h_{n-2,n-2,}| + |h_{n-1,n-1}| \\right)\n",
    "$$\n",
    "mit der Maschinengenauigkeit $\\texttt{eps}$ gilt.\n",
    "\n",
    "Zusätzlich behalten wir auch das alte Abbruchkriterium\n",
    "$$\n",
    "|h_{n,n-1}| \\leq \\texttt{eps} \\left( |h_{n-1,n-1,}| + |h_{n,n}| \\right)\n",
    "$$\n",
    "bei, falls eine Abkopplung nur des letzten Elements stattfindet."
   ]
  },
  {
   "cell_type": "markdown",
   "id": "6491590e-1803-4740-8a24-56538e9e37f7",
   "metadata": {},
   "source": [
    "**(c) Ändern Sie die Prozedur `qr_alg_shift` aus Programmieraufgabe 3 (h) so zu einer Prozedur `qr_alg_real` ab, dass sie die oben beschriebene Strategie umsetzt. Dazu sollten Sie insbesondere folgendes ändern:**\n",
    "* **Ist die eingegebene Matrix $H$ eine $2\\times2$-Matrix, dann sollten die Prozedur (wie auch bisher schon im $1\\times1$-Fall) einfach die beiden Eigenwerte von $H$ zurück geben.**\n",
    "* **Für $n\\not\\in\\{1,2\\}$ müssen in jedem Schritt zunächst die beiden Shifts berechnet werden. Um die eigentlichen zwei QR-Schritte durchzuführen, muss dann nur noch die Prozedur `double_step` angewandt werden.**\n",
    "* **Das neue Abbruchkritierum sowie sinnvolle Anweisungen für den Fall des Abbruchs müssen ergänzt werden. Beachten Sie beim rekursiven Aufruf der Prozedur (insbesondere im alten Abbruchkriterium), dass Sie den richtigen, neuen Namen der Prozedur verwenden.**\n",
    "\n",
    "Zur analytischen Berechnung von Eigenwerten reeller $2\\times2$-Matrizen können Sie die bereitgestellte Prozedur `ew_2x2` verwenden. Diese liefert einen Vektor aus beiden Eigenwerten zurück (und zwar vom Datentyp \"reelle Zahlen\", falls die Eigenwerte reell sind, und vom Typ \"komplexe Zahl\", falls es sich um ein komplex konjugiertes Paar handelt)."
   ]
  },
  {
   "cell_type": "code",
   "execution_count": 63,
   "id": "77eb0567-a7c9-4e57-adaa-44b6360b78bc",
   "metadata": {},
   "outputs": [],
   "source": [
    "def ew_2x2(A):\n",
    "    det_A = A[0,0]*A[1,1] - A[1,0]*A[0,1]\n",
    "    spur_A = A[0,0] + A[1,1]\n",
    "    diskriminante = spur_A**2 - 4*det_A\n",
    "    if diskriminante < 0:\n",
    "        lam = ( spur_A + np.array([1j,-1j]) * np.sqrt(-diskriminante) )/2\n",
    "    else:\n",
    "        lam = ( spur_A + np.array([1,-1]) * np.sqrt(diskriminante) )/2\n",
    "\n",
    "    return lam"
   ]
  },
  {
   "cell_type": "code",
   "execution_count": 125,
   "id": "8702e576-ffac-4e67-8cf0-a72e8d4f1506",
   "metadata": {},
   "outputs": [],
   "source": [
    "def qr_alg_real(A, kMax=100):\n",
    "    H = A.copy()\n",
    "    n = H.shape[0]\n",
    "    print('Size: ', n)\n",
    "    eigvals = np.array([], dtype=H.dtype)\n",
    "    if n == 2:\n",
    "        return np.append(eigvals, ew_2x2(H))\n",
    "    if n == 1:\n",
    "        return np.append(eigvals, H[0, 0])\n",
    "    for k in range(kMax):\n",
    "        shifts = ew_2x2(H[n-2:n, n-2:n])\n",
    "        H = double_step(H, shifts[0], shifts[1])\n",
    "        if spla.norm(H[-2, -3]) <= np.finfo(np.float64).eps * (spla.norm(H[-3, -3]) + spla.norm(H[-2, -2])):\n",
    "            eigvals = np.append(eigvals, shifts)\n",
    "            eigvals = np.append(eigvals, qr_alg_real(H[:n-2, :n-2], kMax))\n",
    "            return eigvals\n",
    "        if spla.norm(H[-1, -2]) <= np.finfo(np.float64).eps * (spla.norm(H[-2, -2]) + spla.norm(H[-1, -1])):\n",
    "            eigvals = np.append(eigvals, H[n-1, n-1])\n",
    "            eigvals = np.append(eigvals, qr_alg_real(H[:n-1, :n-1], kMax))\n",
    "            return eigvals\n",
    "    print('Warning: Maximum number of iterations reached without convergence.')\n",
    "    return eigvals"
   ]
  },
  {
   "cell_type": "markdown",
   "id": "7e98e147-973a-48be-9258-319bd08734de",
   "metadata": {},
   "source": [
    "**(d) Führen Sie den folgenden Code-Block aus, um Ihre Prozedur auf die (in Hessenberg-Form gebrachte) Matrix $A$ von ganz oben anzuwenden und somit die Funktionalität Ihres Codes zu überprüfen.**"
   ]
  },
  {
   "cell_type": "code",
   "execution_count": 119,
   "id": "25ad0665-678e-4ae0-b7c0-8c0ed24e1417",
   "metadata": {},
   "outputs": [
    {
     "name": "stdout",
     "output_type": "stream",
     "text": [
      "Size:  5\n",
      "Size:  3\n",
      "Size:  1\n",
      "Berechnete Eigenwerte:\n",
      "     0.500+0.000j     1.000+0.000j     1.000-1.000j     1.000+1.000j     2.000+0.000j\n",
      "\n"
     ]
    }
   ],
   "source": [
    "# print('Eigenwerte laut Python:')\n",
    "# printvector(np.sort(spla.eigvals(A_hess)))\n",
    "\n",
    "# lam = qr_alg_real(np.copy(A_hess),20,True)\n",
    "lam = qr_alg_real(np.copy(A_hess),20)\n",
    "print('Berechnete Eigenwerte:')\n",
    "printvector(np.sort(lam))"
   ]
  },
  {
   "cell_type": "markdown",
   "id": "1f03d4c1-2e76-4808-8dbd-facdbd284acc",
   "metadata": {},
   "source": [
    "Wie in Programmieraufgabe 3 können wir mit dieser Prozedur jetzt auch die Eigenwerte beliebiger anderer reellwertiger Matrizen (egal ob mit komplexen Eigenwertpaaren oder nicht) berechnen. Hier zum Beispiel für eine zufällige Matrix: "
   ]
  },
  {
   "cell_type": "code",
   "execution_count": 120,
   "id": "42c74910-9d0e-42de-81a8-525391658649",
   "metadata": {},
   "outputs": [],
   "source": [
    "n = 15\n",
    "B = -1 + 2*rnd.rand(n,n)\n",
    "B_hess = hess(B)"
   ]
  },
  {
   "cell_type": "code",
   "execution_count": 156,
   "id": "ac5e29b0-69f0-43c4-a404-1a3edf6986b9",
   "metadata": {},
   "outputs": [
    {
     "name": "stdout",
     "output_type": "stream",
     "text": [
      "Eigenwerte laut Python:\n",
      "    -1.734-0.512j    -1.734+0.512j    -1.216+0.000j    -0.760-1.497j    -0.760+1.497j    -0.557+0.000j    -0.433-1.104j    -0.433+1.104j    -0.216-1.519j    -0.216+1.519j     0.763+0.000j     1.220-1.606j     1.220+1.606j     1.802-0.102j     1.802+0.102j\n",
      "\n",
      "Francis QR-Algorithmus:\n",
      "Size:  15\n",
      "Size:  14\n",
      "Size:  13\n",
      "Size:  11\n",
      "Size:  9\n",
      "Size:  7\n",
      "Size:  6\n",
      "Size:  4\n",
      "Size:  2\n",
      "\n",
      "Eigenwerte:\n",
      "    -1.734-0.512j    -1.734+0.512j    -1.216+0.000j    -0.760-1.497j    -0.760+1.497j    -0.557+0.000j    -0.433-1.104j    -0.433+1.104j    -0.216-1.519j    -0.216+1.519j     0.763+0.000j     1.220-1.606j     1.220+1.606j     1.802-0.102j     1.802+0.102j\n",
      "\n"
     ]
    }
   ],
   "source": [
    "n = 15\n",
    "B = -1 + 2*rnd.rand(n,n)\n",
    "B_hess = hess(B)\n",
    "\n",
    "print('Eigenwerte laut Python:')\n",
    "printvector(np.sort(spla.eigvals(B_hess)))\n",
    "\n",
    "print('Francis QR-Algorithmus:')\n",
    "# lam = qr_alg_real(B_hess.copy(),100,False)\n",
    "lam = qr_alg_real(B_hess.copy(),100)\n",
    "print('\\nEigenwerte:')\n",
    "printvector(np.sort(lam))\n",
    "\n",
    "# Fragen:\n",
    "# 1. Warum konvergiert mein Algorithmus so langsam?\n",
    "# 2. Was soll der Parameter boolean machen?"
   ]
  },
  {
   "cell_type": "code",
   "execution_count": null,
   "id": "59a39053",
   "metadata": {},
   "outputs": [],
   "source": []
  },
  {
   "cell_type": "code",
   "execution_count": null,
   "id": "4d1e0e40",
   "metadata": {},
   "outputs": [],
   "source": []
  }
 ],
 "metadata": {
  "kernelspec": {
   "display_name": "Python 3",
   "language": "python",
   "name": "python3"
  },
  "language_info": {
   "codemirror_mode": {
    "name": "ipython",
    "version": 3
   },
   "file_extension": ".py",
   "mimetype": "text/x-python",
   "name": "python",
   "nbconvert_exporter": "python",
   "pygments_lexer": "ipython3",
   "version": "3.13.5"
  }
 },
 "nbformat": 4,
 "nbformat_minor": 5
}
