{
 "cells": [
  {
   "cell_type": "markdown",
   "id": "f4ac046a-0a3f-40b9-9880-b7dba0a09260",
   "metadata": {},
   "source": [
    "# Programmieraufgabe 1: (gedämpftes) Newton-Verfahren\n",
    "\n",
    "**Abgabe in den Programmiertutorien am 14. und 15. Mai 2025.**"
   ]
  },
  {
   "cell_type": "markdown",
   "id": "5dcf6ac9-9fd9-4c34-8656-4e30b54f8562",
   "metadata": {},
   "source": [
    "Benötigte Module für dieses Notebook:"
   ]
  },
  {
   "cell_type": "code",
   "execution_count": 1,
   "id": "36c2d8b8-bf72-41ab-9a48-7e7d7babe82c",
   "metadata": {},
   "outputs": [],
   "source": [
    "import numpy as np"
   ]
  },
  {
   "cell_type": "markdown",
   "id": "75bc79e3-570d-4bdd-aca2-64ef12e925ee",
   "metadata": {},
   "source": [
    "In diesem Notebook wollen wir das Newton-Verfahren und das gedämpfte Newton-Verfahren zur Approximation einer Nullstelle der Funktion\n",
    "$$f: \\mathbb{R}^2 \\to \\mathbb{R}^2, \\quad x = (x_1,x_2) \\mapsto \\begin{pmatrix} 1 - \\frac{2}{\\exp(x_1-x_2)+1} \\\\ x_2^3 + x_2 -2 \\end{pmatrix}$$\n",
    "testen."
   ]
  },
  {
   "cell_type": "markdown",
   "id": "376e2ec9-de1c-4839-a123-af1bf2190223",
   "metadata": {},
   "source": [
    "**(a) Schreiben Sie jeweils eine Prozedur, die für einen Vektor $x\\in\\mathbb{R}^2$ die Funktion bzw. deren Ableitung an der Stelle $x$ berechnet und als `numpy`-array zurückgibt.**"
   ]
  },
  {
   "cell_type": "code",
   "execution_count": 2,
   "id": "d199877f-df02-410d-8196-896c37eb0e55",
   "metadata": {},
   "outputs": [],
   "source": [
    "def function(x):\n",
    "    return np.array([1-2/(np.exp(x[0]-x[1])+1), x[1]**3+x[1]-2])"
   ]
  },
  {
   "cell_type": "code",
   "execution_count": 3,
   "id": "a6283238-49ec-4b59-83b5-492ee8355b4f",
   "metadata": {},
   "outputs": [],
   "source": [
    "def jacobian(x):\n",
    "    return np.array([\n",
    "        [2*np.exp(x[0]-x[1])/(np.exp(x[0]-x[1])+1)**2, -2*np.exp(x[0]-x[1])/(np.exp(x[0]-x[1])+1)**2],\n",
    "        [0, 3*x[1]**2+1]\n",
    "    ])"
   ]
  },
  {
   "cell_type": "code",
   "execution_count": null,
   "id": "b9c7e9b5-6c4d-4046-baf6-b3859c4200fe",
   "metadata": {},
   "outputs": [],
   "source": []
  },
  {
   "cell_type": "markdown",
   "id": "d0483018-dde9-4450-8ccd-675de8f05319",
   "metadata": {},
   "source": [
    "**(b) Schreiben Sie eine Prozedur, die das Newton-Verfahren mit den in der Vorlesung besprochenen Kovergenz- und Abbruchkriterien auf eine Funktion $f:\\mathbb{R}^n \\to \\mathbb{R}^n$ für beliebiges $n\\in\\mathbb{N}$ anwendet.**\n",
    "\n",
    "Ihrer Prozedur soll folgende Eingabedaten haben:\n",
    "- Einen Vektor `x0`, der den Startwert $x^{(0)}\\in\\mathbb{R}^n$ für das Newton-Verfahren enthält.\n",
    "- Zwei Prozeduren `f` und `fprime`, mit denen Funktions- und Ableitungswerte von $f$ berechnet werden können.\n",
    "- Eine Toleranz `tol` und eine maximale Zahl an Iterationen `kMax`, mit denen die Konvergenz- und Abbruchkriterien gesteuert werden können.\n",
    "\n",
    "Berücksichtigen Sie außerdem folgendes:\n",
    "- Die im Newton-Verfahren auftretenden Gleichungssysteme können Sie mit dem in `numpy` enthaltenen LGS-Löser `np.linalg.solve` lösen.\n",
    "- Am Ende der Prozedur sollen alle berechneten Iterierten $x^{(k)}$, $k=0,1,2,...$ an das Hauptprogramm zurückgegeben werden. Geben Sie außerdem eine Meldung aus, ob das Verfahren erfolgreich konvergiert ist, oder ob es wegen Divergenz bzw. wegen Erreichen der maximalen Iterationszahl abgebrochen hat.\n",
    "\n",
    "_Hinweis:_ Sie können alle Iterierten zum Beispiel als Zeilen in einer gemeinsamen Matrix speichern. Jedes Mal, wenn eine neue Iterierte berechnet wurde, wird die Matrix dementsprechend um eine Zeile ergänzt. Dazu ist der Befehl `np.vstack` hilfreich. Beispielsweise werden drei Matrizen `A1,A2,A3` derselben Breite mit dem Aufruf `np.vstack((A1,A2,A3))` übereinander gestapelt."
   ]
  },
  {
   "cell_type": "code",
   "execution_count": 4,
   "id": "56784c36-f993-4480-bb1f-5da76a6cad29",
   "metadata": {},
   "outputs": [],
   "source": [
    "def newton_method(x0, f, fprime, tol, max_iter):\n",
    "    x = x0\n",
    "    x_ks = [x0]\n",
    "    iter_count = 0\n",
    "    pre_delta_norm = np.inf\n",
    "    while iter_count < max_iter:\n",
    "        iter_count += 1\n",
    "        J = fprime(x)\n",
    "        F = f(x)\n",
    "        try:\n",
    "            delta_x = np.linalg.solve(J, -F)\n",
    "        except np.linalg.LinAlgError:\n",
    "            print(f\"Derivative is singular matrix. Exiting after {iter_count} iterations.\")\n",
    "            return np.vstack(x_ks)\n",
    "\n",
    "        # check for divergence\n",
    "        if (pre_delta_norm != np.inf and np.linalg.norm(delta_x) > pre_delta_norm):\n",
    "            print(f\"Diverged in {iter_count} iterations.\")\n",
    "            return np.vstack(x_ks)\n",
    "\n",
    "        pre_delta_norm = np.linalg.norm(delta_x)\n",
    "        x = x + delta_x\n",
    "        x_ks.append(x)\n",
    "\n",
    "        # check for convergence\n",
    "        if (np.linalg.norm(delta_x) <= tol):\n",
    "            print(f\"Converged in {iter_count} iterations.\")\n",
    "            return np.vstack(x_ks)\n",
    "\n",
    "    print(f\"Max iterations reached ({max_iter}).\")\n",
    "    return np.vstack(x_ks)"
   ]
  },
  {
   "cell_type": "markdown",
   "id": "4d157360-807b-492c-aca1-2154bf52e0b1",
   "metadata": {},
   "source": [
    "**(c) Testen Sie Ihre Prozedur für die obige Funktion $f$ mit den Startvektoren $x^{(0)} = (4,2)^T$ und $x^{(0)} = (4,-4)^T$. Verwenden Sie die Parameter `tol = 1e-8` und `kMax = 20`.**\n",
    "\n",
    "Geben Sie alle Iterierten aus. Für welchen Startvektor konvergiert das Verfahren? Vergewissern Sie sich im Falle der Konvergenz anhand der Funktionsvorschrift von $f$, dass Sie tatsächlich eine Nullstelle von $f$ erhalten haben. Geben Sie in dem Fall auch den Fehler der einzelnen Iterierten aus. Können Sie die erwartete, quadratische Konvergenz erkennen?"
   ]
  },
  {
   "cell_type": "markdown",
   "id": "efa47964-951c-49a2-b869-27ee0d1ad166",
   "metadata": {},
   "source": [
    "Startwert $x^{(0)} = (4,2)^T$:"
   ]
  },
  {
   "cell_type": "code",
   "execution_count": 5,
   "id": "7463234b-e4da-4d7a-8bf2-45934554f20d",
   "metadata": {},
   "outputs": [
    {
     "name": "stdout",
     "output_type": "stream",
     "text": [
      "Converged in 6 iterations.\n"
     ]
    },
    {
     "data": {
      "text/plain": [
       "array([[ 4.        ,  2.        ],\n",
       "       [-0.24224502,  1.38461538],\n",
       "       [ 1.90139076,  1.08258613],\n",
       "       [ 0.91017052,  1.00478035],\n",
       "       [ 1.00015828,  1.00001707],\n",
       "       [ 1.        ,  1.        ],\n",
       "       [ 1.        ,  1.        ]])"
      ]
     },
     "execution_count": 5,
     "metadata": {},
     "output_type": "execute_result"
    }
   ],
   "source": [
    "newton_method(np.array([4, 2]), function, jacobian, 1e-8, 20)"
   ]
  },
  {
   "cell_type": "markdown",
   "id": "62a83bed-685a-4464-b846-0fa113f8a444",
   "metadata": {},
   "source": [
    "Startwert $x^{(0)} = (4,-4)^T$:"
   ]
  },
  {
   "cell_type": "code",
   "execution_count": 6,
   "id": "16a4e715-4234-424a-9bb1-657ee3d561bf",
   "metadata": {},
   "outputs": [
    {
     "name": "stdout",
     "output_type": "stream",
     "text": [
      "Derivative is singular matrix. Exiting after 2 iterations.\n"
     ]
    },
    {
     "data": {
      "text/plain": [
       "array([[    4.        ,    -4.        ],\n",
       "       [-1485.05025436,    -2.57142857]])"
      ]
     },
     "execution_count": 6,
     "metadata": {},
     "output_type": "execute_result"
    }
   ],
   "source": [
    "newton_method(np.array([4, -4]), function, jacobian, 1e-8, 20)"
   ]
  },
  {
   "cell_type": "markdown",
   "id": "f7b8ca1d-046c-41c5-a602-42c60dd827ac",
   "metadata": {},
   "source": [
    "**(d) Kopieren Sie das Newton-Verfahren von oben und ändern Sie es zum gedämpften Newton-Verfahren ab. Der Parameter $\\lambda_{\\min}$ soll dabei als zusätzlicher Eingabeparameter übergeben werden, während im ersten Schritt immer mit dem Wert $\\lambda = 1$ gestartet wird. Geben Sie zusätzlich zu den Iterierten auch die verwendeten Dämpungsparameter an das Hauptprogramm zurück.**\n",
    "\n",
    "_Hinweis:_ Das Schlüsselwort `lambda` hat in Python eine ganz besondere Bedeutung und sollte daher nicht als Variablenname genutzt werden."
   ]
  },
  {
   "cell_type": "code",
   "execution_count": 27,
   "id": "c68df8fb-ed9f-429d-b430-74dd51d7c7c1",
   "metadata": {},
   "outputs": [],
   "source": [
    "# CONTINUE HERE\n",
    "\n",
    "def dampened_newton_method(x0, f, fprime, tol, max_iter, damp_min):\n",
    "    x = x0\n",
    "    x_ks = [x0]\n",
    "    iter_count = 0\n",
    "    damp = 1.0\n",
    "    damp_ks = [damp]\n",
    "    delta_x_k = 2*tol*np.ones(x0.shape)\n",
    "    while np.linalg.norm(delta_x_k) > tol and iter_count < max_iter:\n",
    "        iter_count += 1\n",
    "        J = fprime(x)\n",
    "        F = f(x)\n",
    "        try:\n",
    "            delta_x_k = np.linalg.solve(J, -F)\n",
    "        except np.linalg.LinAlgError:\n",
    "            print(f\"Derivative is singular matrix. Exiting after {iter_count} iterations.\")\n",
    "            return (np.vstack(x_ks), np.vstack(damp_ks))\n",
    "\n",
    "        F_step = f(x + damp * delta_x_k)\n",
    "\n",
    "        try:\n",
    "            delta_x_bar = np.linalg.solve(J, -F_step)\n",
    "        except np.linalg.LinAlgError:\n",
    "            print(f\"Derivative is singular matrix. Exiting after {iter_count} iterations.\")\n",
    "            return (np.vstack(x_ks), np.vstack(damp_ks))\n",
    "        \n",
    "        # refine dampening parameter\n",
    "        while np.linalg.norm(delta_x_bar) > (1-damp*0.5)*np.linalg.norm(delta_x_k):\n",
    "            damp *= 0.5\n",
    "            if damp < damp_min:\n",
    "                print(f\"Dampening parameter too small. Exiting after {iter_count} iterations.\")\n",
    "                return (np.vstack(x_ks), np.vstack(damp_ks))\n",
    "            F_step = f(x + damp * delta_x_k)\n",
    "            try:\n",
    "                delta_x_bar = np.linalg.solve(J, -F_step)\n",
    "            except np.linalg.LinAlgError:\n",
    "                print(f\"Derivative is singular matrix. Exiting after {iter_count} iterations.\")\n",
    "                return (np.vstack(x_ks), np.vstack(damp_ks))\n",
    "\n",
    "        x = x + damp * delta_x_k\n",
    "        damp_ks.append(damp)\n",
    "        damp = min(damp * 2, 1.0)\n",
    "        x_ks.append(x)\n",
    "\n",
    "        # check for convergence\n",
    "        if (np.linalg.norm(delta_x_k) <= tol):\n",
    "            print(f\"Converged in {iter_count} iterations.\")\n",
    "            return (np.vstack(x_ks), np.vstack(damp_ks))\n",
    "\n",
    "    print(f\"Max iterations reached ({max_iter}).\")\n",
    "    return (np.vstack(x_ks), np.vstack(damp_ks))\n",
    "\n"
   ]
  },
  {
   "cell_type": "markdown",
   "id": "a28bc09d-0d62-4b2e-98cc-2dbeeda0d7f2",
   "metadata": {},
   "source": [
    "**(e) Wiederholen Sie Teil (c) mit dem gedämpften Newton-Verfahren. Verwenden Sie dabei $\\lambda_{\\min}=10^{-10}$ und geben Sie die Werte des Dämpungsparameters aus.**"
   ]
  },
  {
   "cell_type": "markdown",
   "id": "0a0dcfef-e2e6-4466-ad9b-523f92c09a7e",
   "metadata": {},
   "source": [
    "Startwert $x^{(0)} = (4,2)^T$:"
   ]
  },
  {
   "cell_type": "code",
   "execution_count": 28,
   "id": "02cb2348-0e79-4955-81b1-bc19b7318048",
   "metadata": {},
   "outputs": [
    {
     "name": "stdout",
     "output_type": "stream",
     "text": [
      "Converged in 7 iterations.\n"
     ]
    },
    {
     "data": {
      "text/plain": [
       "(array([[4.        , 2.        ],\n",
       "        [1.87887749, 1.69230769],\n",
       "        [1.21801128, 1.21909553],\n",
       "        [1.0302355 , 1.0302355 ],\n",
       "        [1.00066867, 1.00066867],\n",
       "        [1.00000034, 1.00000034],\n",
       "        [1.        , 1.        ],\n",
       "        [1.        , 1.        ]]),\n",
       " array([[1. ],\n",
       "        [0.5],\n",
       "        [1. ],\n",
       "        [1. ],\n",
       "        [1. ],\n",
       "        [1. ],\n",
       "        [1. ],\n",
       "        [1. ]]))"
      ]
     },
     "execution_count": 28,
     "metadata": {},
     "output_type": "execute_result"
    }
   ],
   "source": [
    "dampened_newton_method(np.array([4, 2], dtype=np.float64), function, jacobian, 1e-8, 20, 1e-10)"
   ]
  },
  {
   "cell_type": "markdown",
   "id": "718d2023-515b-495f-a799-efe3aab269af",
   "metadata": {},
   "source": [
    "Startwert $x^{(0)} = (4,-4)^T$:"
   ]
  },
  {
   "cell_type": "code",
   "execution_count": 29,
   "id": "3137b3d4-d850-4e76-9b9a-bbc79089400d",
   "metadata": {},
   "outputs": [
    {
     "name": "stdout",
     "output_type": "stream",
     "text": [
      "Converged in 15 iterations.\n"
     ]
    },
    {
     "data": {
      "text/plain": [
       "(array([[ 4.        , -4.        ],\n",
       "        [-7.63320511, -3.98883929],\n",
       "        [-7.31224568, -3.9665702 ],\n",
       "        [-6.82503331, -3.92224069],\n",
       "        [-6.16938737, -3.83441038],\n",
       "        [-5.35746869, -3.66201729],\n",
       "        [-4.36717242, -3.32991961],\n",
       "        [-3.13385084, -2.71335509],\n",
       "        [-1.63142036, -1.64392215],\n",
       "        [-0.75601228, -0.75601195],\n",
       "        [ 0.41839333,  0.41839333],\n",
       "        [ 0.91288792,  0.91288792],\n",
       "        [ 1.00612654,  1.00612654],\n",
       "        [ 1.00002801,  1.00002801],\n",
       "        [ 1.        ,  1.        ],\n",
       "        [ 1.        ,  1.        ]]),\n",
       " array([[1.       ],\n",
       "        [0.0078125],\n",
       "        [0.015625 ],\n",
       "        [0.03125  ],\n",
       "        [0.0625   ],\n",
       "        [0.125    ],\n",
       "        [0.25     ],\n",
       "        [0.5      ],\n",
       "        [1.       ],\n",
       "        [1.       ],\n",
       "        [1.       ],\n",
       "        [0.5      ],\n",
       "        [1.       ],\n",
       "        [1.       ],\n",
       "        [1.       ],\n",
       "        [1.       ]]))"
      ]
     },
     "execution_count": 29,
     "metadata": {},
     "output_type": "execute_result"
    }
   ],
   "source": [
    "dampened_newton_method(np.array([4, -4], dtype=np.float64), function, jacobian, 1e-8, 20, 1e-10)"
   ]
  },
  {
   "cell_type": "code",
   "execution_count": null,
   "id": "60d58015",
   "metadata": {},
   "outputs": [],
   "source": []
  }
 ],
 "metadata": {
  "kernelspec": {
   "display_name": "Python 3",
   "language": "python",
   "name": "python3"
  },
  "language_info": {
   "codemirror_mode": {
    "name": "ipython",
    "version": 3
   },
   "file_extension": ".py",
   "mimetype": "text/x-python",
   "name": "python",
   "nbconvert_exporter": "python",
   "pygments_lexer": "ipython3",
   "version": "3.13.3"
  }
 },
 "nbformat": 4,
 "nbformat_minor": 5
}
